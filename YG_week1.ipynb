{
  "nbformat": 4,
  "nbformat_minor": 0,
  "metadata": {
    "colab": {
      "name": "YG_week1.ipynb",
      "provenance": [],
      "collapsed_sections": [
        "rrMAtD02fArC",
        "1eZBOfiQiPgF",
        "kV5MqX2rpFmi"
      ],
      "authorship_tag": "ABX9TyNsr5eOt4JSgZoQFeQShFpJ",
      "include_colab_link": true
    },
    "kernelspec": {
      "name": "python3",
      "display_name": "Python 3"
    },
    "language_info": {
      "name": "python"
    }
  },
  "cells": [
    {
      "cell_type": "markdown",
      "metadata": {
        "id": "view-in-github",
        "colab_type": "text"
      },
      "source": [
        "<a href=\"https://colab.research.google.com/github/holdenkim/YG/blob/main/YG_week1.ipynb\" target=\"_parent\"><img src=\"https://colab.research.google.com/assets/colab-badge.svg\" alt=\"Open In Colab\"/></a>"
      ]
    },
    {
      "cell_type": "markdown",
      "metadata": {
        "id": "r_XQPmUQwrbL"
      },
      "source": [
        "#1주차 실기 유형 1 첫번째"
      ]
    },
    {
      "cell_type": "code",
      "metadata": {
        "id": "_y6fC0s5wbhe"
      },
      "source": [
        "data_url='https://raw.githubusercontent.com/Datamanim/datarepo/main/weather/weather2.csv'"
      ],
      "execution_count": 124,
      "outputs": []
    },
    {
      "cell_type": "code",
      "metadata": {
        "id": "rxpx-IiOwzmv"
      },
      "source": [
        "import pandas as pd"
      ],
      "execution_count": 125,
      "outputs": []
    },
    {
      "cell_type": "code",
      "metadata": {
        "id": "6t6GLTvJw1jQ"
      },
      "source": [
        "data = pd.read_csv(data_url)"
      ],
      "execution_count": 126,
      "outputs": []
    },
    {
      "cell_type": "markdown",
      "metadata": {
        "id": "UAZ7w1pxw8X5"
      },
      "source": [
        "여름철(6월,7월,8월) 이화동이 수영동보다 높은 기온을 가진 시간대는 몇개인가?"
      ]
    },
    {
      "cell_type": "code",
      "metadata": {
        "colab": {
          "base_uri": "https://localhost:8080/",
          "height": 110
        },
        "id": "MOx0UpFPw54W",
        "outputId": "20f906b2-b718-419c-902d-ab31599e7115"
      },
      "source": [
        "data.head(2)"
      ],
      "execution_count": 127,
      "outputs": [
        {
          "output_type": "execute_result",
          "data": {
            "text/html": [
              "<div>\n",
              "<style scoped>\n",
              "    .dataframe tbody tr th:only-of-type {\n",
              "        vertical-align: middle;\n",
              "    }\n",
              "\n",
              "    .dataframe tbody tr th {\n",
              "        vertical-align: top;\n",
              "    }\n",
              "\n",
              "    .dataframe thead th {\n",
              "        text-align: right;\n",
              "    }\n",
              "</style>\n",
              "<table border=\"1\" class=\"dataframe\">\n",
              "  <thead>\n",
              "    <tr style=\"text-align: right;\">\n",
              "      <th></th>\n",
              "      <th>time</th>\n",
              "      <th>이화동강수</th>\n",
              "      <th>이화동기온</th>\n",
              "      <th>수영동강수</th>\n",
              "      <th>수영동기온</th>\n",
              "    </tr>\n",
              "  </thead>\n",
              "  <tbody>\n",
              "    <tr>\n",
              "      <th>0</th>\n",
              "      <td>2020-01-01 00:00:00</td>\n",
              "      <td>0.1</td>\n",
              "      <td>-3.9</td>\n",
              "      <td>0.0</td>\n",
              "      <td>2.5</td>\n",
              "    </tr>\n",
              "    <tr>\n",
              "      <th>1</th>\n",
              "      <td>2020-01-01 01:00:00</td>\n",
              "      <td>0.0</td>\n",
              "      <td>-3.1</td>\n",
              "      <td>0.0</td>\n",
              "      <td>3.4</td>\n",
              "    </tr>\n",
              "  </tbody>\n",
              "</table>\n",
              "</div>"
            ],
            "text/plain": [
              "                  time  이화동강수  이화동기온  수영동강수  수영동기온\n",
              "0  2020-01-01 00:00:00    0.1   -3.9       0.0       2.5\n",
              "1  2020-01-01 01:00:00    0.0   -3.1       0.0       3.4"
            ]
          },
          "metadata": {},
          "execution_count": 127
        }
      ]
    },
    {
      "cell_type": "code",
      "metadata": {
        "colab": {
          "base_uri": "https://localhost:8080/"
        },
        "id": "AR3LpkshxLfq",
        "outputId": "b09e9fbe-e772-419e-b1ad-428416efa8f7"
      },
      "source": [
        "data.info()"
      ],
      "execution_count": 128,
      "outputs": [
        {
          "output_type": "stream",
          "name": "stdout",
          "text": [
            "<class 'pandas.core.frame.DataFrame'>\n",
            "RangeIndex: 8784 entries, 0 to 8783\n",
            "Data columns (total 5 columns):\n",
            " #   Column    Non-Null Count  Dtype  \n",
            "---  ------    --------------  -----  \n",
            " 0   time      8784 non-null   object \n",
            " 1   이화동강수     8784 non-null   float64\n",
            " 2   이화동기온     8784 non-null   float64\n",
            " 3   수영동강수  8784 non-null   float64\n",
            " 4   수영동기온  8784 non-null   float64\n",
            "dtypes: float64(4), object(1)\n",
            "memory usage: 343.2+ KB\n"
          ]
        }
      ]
    },
    {
      "cell_type": "code",
      "metadata": {
        "id": "iRbHACecxBQi"
      },
      "source": [
        "data['newtime'] = pd.to_datetime(data.time)"
      ],
      "execution_count": 129,
      "outputs": []
    },
    {
      "cell_type": "code",
      "metadata": {
        "colab": {
          "base_uri": "https://localhost:8080/"
        },
        "id": "5fbB54TsxUB1",
        "outputId": "1c2fcdda-083a-4b61-cfcf-86da5b73548d"
      },
      "source": [
        "data.info()"
      ],
      "execution_count": 130,
      "outputs": [
        {
          "output_type": "stream",
          "name": "stdout",
          "text": [
            "<class 'pandas.core.frame.DataFrame'>\n",
            "RangeIndex: 8784 entries, 0 to 8783\n",
            "Data columns (total 6 columns):\n",
            " #   Column    Non-Null Count  Dtype         \n",
            "---  ------    --------------  -----         \n",
            " 0   time      8784 non-null   object        \n",
            " 1   이화동강수     8784 non-null   float64       \n",
            " 2   이화동기온     8784 non-null   float64       \n",
            " 3   수영동강수  8784 non-null   float64       \n",
            " 4   수영동기온  8784 non-null   float64       \n",
            " 5   newtime   8784 non-null   datetime64[ns]\n",
            "dtypes: datetime64[ns](1), float64(4), object(1)\n",
            "memory usage: 411.9+ KB\n"
          ]
        }
      ]
    },
    {
      "cell_type": "code",
      "metadata": {
        "colab": {
          "base_uri": "https://localhost:8080/"
        },
        "id": "57oPtzFIxfQ1",
        "outputId": "da16c1ac-0ec7-4843-c9c0-f37d06a22e62"
      },
      "source": [
        "data.newtime.dt.month.isin([6,7,8])"
      ],
      "execution_count": 131,
      "outputs": [
        {
          "output_type": "execute_result",
          "data": {
            "text/plain": [
              "0       False\n",
              "1       False\n",
              "2       False\n",
              "3       False\n",
              "4       False\n",
              "        ...  \n",
              "8779    False\n",
              "8780    False\n",
              "8781    False\n",
              "8782    False\n",
              "8783    False\n",
              "Name: newtime, Length: 8784, dtype: bool"
            ]
          },
          "metadata": {},
          "execution_count": 131
        }
      ]
    },
    {
      "cell_type": "code",
      "metadata": {
        "id": "phehLGukxmHV"
      },
      "source": [
        "summer= data[data.newtime.dt.month.isin([6,7,8])].reset_index(drop=True)"
      ],
      "execution_count": 132,
      "outputs": []
    },
    {
      "cell_type": "code",
      "metadata": {
        "colab": {
          "base_uri": "https://localhost:8080/",
          "height": 414
        },
        "id": "Ya87A16axx3m",
        "outputId": "08e3c799-42a8-448d-a80e-2fc971baaea6"
      },
      "source": [
        "summer"
      ],
      "execution_count": 133,
      "outputs": [
        {
          "output_type": "execute_result",
          "data": {
            "text/html": [
              "<div>\n",
              "<style scoped>\n",
              "    .dataframe tbody tr th:only-of-type {\n",
              "        vertical-align: middle;\n",
              "    }\n",
              "\n",
              "    .dataframe tbody tr th {\n",
              "        vertical-align: top;\n",
              "    }\n",
              "\n",
              "    .dataframe thead th {\n",
              "        text-align: right;\n",
              "    }\n",
              "</style>\n",
              "<table border=\"1\" class=\"dataframe\">\n",
              "  <thead>\n",
              "    <tr style=\"text-align: right;\">\n",
              "      <th></th>\n",
              "      <th>time</th>\n",
              "      <th>이화동강수</th>\n",
              "      <th>이화동기온</th>\n",
              "      <th>수영동강수</th>\n",
              "      <th>수영동기온</th>\n",
              "      <th>newtime</th>\n",
              "    </tr>\n",
              "  </thead>\n",
              "  <tbody>\n",
              "    <tr>\n",
              "      <th>0</th>\n",
              "      <td>2020-06-01 00:00:00</td>\n",
              "      <td>0.0</td>\n",
              "      <td>21.100000</td>\n",
              "      <td>0.0</td>\n",
              "      <td>24.799999</td>\n",
              "      <td>2020-06-01 00:00:00</td>\n",
              "    </tr>\n",
              "    <tr>\n",
              "      <th>1</th>\n",
              "      <td>2020-06-01 01:00:00</td>\n",
              "      <td>0.0</td>\n",
              "      <td>22.400000</td>\n",
              "      <td>0.0</td>\n",
              "      <td>23.500000</td>\n",
              "      <td>2020-06-01 01:00:00</td>\n",
              "    </tr>\n",
              "    <tr>\n",
              "      <th>2</th>\n",
              "      <td>2020-06-01 02:00:00</td>\n",
              "      <td>0.0</td>\n",
              "      <td>23.100000</td>\n",
              "      <td>0.0</td>\n",
              "      <td>23.100000</td>\n",
              "      <td>2020-06-01 02:00:00</td>\n",
              "    </tr>\n",
              "    <tr>\n",
              "      <th>3</th>\n",
              "      <td>2020-06-01 03:00:00</td>\n",
              "      <td>0.0</td>\n",
              "      <td>23.100000</td>\n",
              "      <td>0.0</td>\n",
              "      <td>25.400000</td>\n",
              "      <td>2020-06-01 03:00:00</td>\n",
              "    </tr>\n",
              "    <tr>\n",
              "      <th>4</th>\n",
              "      <td>2020-06-01 04:00:00</td>\n",
              "      <td>0.0</td>\n",
              "      <td>23.799999</td>\n",
              "      <td>0.0</td>\n",
              "      <td>24.500000</td>\n",
              "      <td>2020-06-01 04:00:00</td>\n",
              "    </tr>\n",
              "    <tr>\n",
              "      <th>...</th>\n",
              "      <td>...</td>\n",
              "      <td>...</td>\n",
              "      <td>...</td>\n",
              "      <td>...</td>\n",
              "      <td>...</td>\n",
              "      <td>...</td>\n",
              "    </tr>\n",
              "    <tr>\n",
              "      <th>2203</th>\n",
              "      <td>2020-08-31 19:00:00</td>\n",
              "      <td>0.0</td>\n",
              "      <td>24.299999</td>\n",
              "      <td>0.0</td>\n",
              "      <td>24.100000</td>\n",
              "      <td>2020-08-31 19:00:00</td>\n",
              "    </tr>\n",
              "    <tr>\n",
              "      <th>2204</th>\n",
              "      <td>2020-08-31 20:00:00</td>\n",
              "      <td>0.0</td>\n",
              "      <td>23.900000</td>\n",
              "      <td>0.0</td>\n",
              "      <td>24.200001</td>\n",
              "      <td>2020-08-31 20:00:00</td>\n",
              "    </tr>\n",
              "    <tr>\n",
              "      <th>2205</th>\n",
              "      <td>2020-08-31 21:00:00</td>\n",
              "      <td>0.0</td>\n",
              "      <td>24.000000</td>\n",
              "      <td>0.0</td>\n",
              "      <td>24.600000</td>\n",
              "      <td>2020-08-31 21:00:00</td>\n",
              "    </tr>\n",
              "    <tr>\n",
              "      <th>2206</th>\n",
              "      <td>2020-08-31 22:00:00</td>\n",
              "      <td>0.0</td>\n",
              "      <td>24.600000</td>\n",
              "      <td>0.0</td>\n",
              "      <td>24.900000</td>\n",
              "      <td>2020-08-31 22:00:00</td>\n",
              "    </tr>\n",
              "    <tr>\n",
              "      <th>2207</th>\n",
              "      <td>2020-08-31 23:00:00</td>\n",
              "      <td>0.0</td>\n",
              "      <td>25.000000</td>\n",
              "      <td>0.0</td>\n",
              "      <td>26.900000</td>\n",
              "      <td>2020-08-31 23:00:00</td>\n",
              "    </tr>\n",
              "  </tbody>\n",
              "</table>\n",
              "<p>2208 rows × 6 columns</p>\n",
              "</div>"
            ],
            "text/plain": [
              "                     time  이화동강수  ...   수영동기온             newtime\n",
              "0     2020-06-01 00:00:00    0.0  ...  24.799999 2020-06-01 00:00:00\n",
              "1     2020-06-01 01:00:00    0.0  ...  23.500000 2020-06-01 01:00:00\n",
              "2     2020-06-01 02:00:00    0.0  ...  23.100000 2020-06-01 02:00:00\n",
              "3     2020-06-01 03:00:00    0.0  ...  25.400000 2020-06-01 03:00:00\n",
              "4     2020-06-01 04:00:00    0.0  ...  24.500000 2020-06-01 04:00:00\n",
              "...                   ...    ...  ...        ...                 ...\n",
              "2203  2020-08-31 19:00:00    0.0  ...  24.100000 2020-08-31 19:00:00\n",
              "2204  2020-08-31 20:00:00    0.0  ...  24.200001 2020-08-31 20:00:00\n",
              "2205  2020-08-31 21:00:00    0.0  ...  24.600000 2020-08-31 21:00:00\n",
              "2206  2020-08-31 22:00:00    0.0  ...  24.900000 2020-08-31 22:00:00\n",
              "2207  2020-08-31 23:00:00    0.0  ...  26.900000 2020-08-31 23:00:00\n",
              "\n",
              "[2208 rows x 6 columns]"
            ]
          },
          "metadata": {},
          "execution_count": 133
        }
      ]
    },
    {
      "cell_type": "code",
      "metadata": {
        "colab": {
          "base_uri": "https://localhost:8080/"
        },
        "id": "pEE-SHr2x3d0",
        "outputId": "d5897531-e1ba-4478-8c56-cd9f00e8d6ed"
      },
      "source": [
        "len(summer[summer['이화동기온'] > summer['수영동기온']])"
      ],
      "execution_count": 134,
      "outputs": [
        {
          "output_type": "execute_result",
          "data": {
            "text/plain": [
              "1415"
            ]
          },
          "metadata": {},
          "execution_count": 134
        }
      ]
    },
    {
      "cell_type": "markdown",
      "metadata": {
        "id": "dXlmjEdCctuK"
      },
      "source": [
        "이화동과 수영동 최대 강수량 시간대 구하기"
      ]
    },
    {
      "cell_type": "code",
      "metadata": {
        "id": "kM9lRSY3yBQf",
        "colab": {
          "base_uri": "https://localhost:8080/"
        },
        "outputId": "1623ae0b-a40a-47c0-dd09-c4b744edfb6d"
      },
      "source": [
        "data[data['이화동강수'] == data['이화동강수'].max()]['time']"
      ],
      "execution_count": 135,
      "outputs": [
        {
          "output_type": "execute_result",
          "data": {
            "text/plain": [
              "6561    2020-09-30 09:00:00\n",
              "Name: time, dtype: object"
            ]
          },
          "metadata": {},
          "execution_count": 135
        }
      ]
    },
    {
      "cell_type": "code",
      "metadata": {
        "colab": {
          "base_uri": "https://localhost:8080/"
        },
        "id": "zePdFXgDeAR4",
        "outputId": "aac44ef1-55d7-4da4-ed2c-32f7779727f3"
      },
      "source": [
        "data[data ['수영동강수'] == data ['수영동강수'].max()]['time']"
      ],
      "execution_count": 136,
      "outputs": [
        {
          "output_type": "execute_result",
          "data": {
            "text/plain": [
              "4908    2020-07-23 12:00:00\n",
              "Name: time, dtype: object"
            ]
          },
          "metadata": {},
          "execution_count": 136
        }
      ]
    },
    {
      "cell_type": "markdown",
      "metadata": {
        "id": "rrMAtD02fArC"
      },
      "source": [
        "#1주차 실기유형 1 두번째"
      ]
    },
    {
      "cell_type": "code",
      "metadata": {
        "id": "3_f6Y60ZdOKl"
      },
      "source": [
        "import pandas as pd"
      ],
      "execution_count": 137,
      "outputs": []
    },
    {
      "cell_type": "code",
      "metadata": {
        "id": "DBdSRPPMfHoi"
      },
      "source": [
        "data = pd.read_csv('https://raw.githubusercontent.com/Datamanim/datarepo/main/churn/train.csv')"
      ],
      "execution_count": 138,
      "outputs": []
    },
    {
      "cell_type": "code",
      "metadata": {
        "colab": {
          "base_uri": "https://localhost:8080/",
          "height": 0
        },
        "id": "c68kxCRlfPen",
        "outputId": "8b72950a-2c91-46cf-d594-543f5a0e759c"
      },
      "source": [
        "data.head(5)"
      ],
      "execution_count": 139,
      "outputs": [
        {
          "output_type": "execute_result",
          "data": {
            "text/html": [
              "<div>\n",
              "<style scoped>\n",
              "    .dataframe tbody tr th:only-of-type {\n",
              "        vertical-align: middle;\n",
              "    }\n",
              "\n",
              "    .dataframe tbody tr th {\n",
              "        vertical-align: top;\n",
              "    }\n",
              "\n",
              "    .dataframe thead th {\n",
              "        text-align: right;\n",
              "    }\n",
              "</style>\n",
              "<table border=\"1\" class=\"dataframe\">\n",
              "  <thead>\n",
              "    <tr style=\"text-align: right;\">\n",
              "      <th></th>\n",
              "      <th>RowNumber</th>\n",
              "      <th>CustomerId</th>\n",
              "      <th>Surname</th>\n",
              "      <th>CreditScore</th>\n",
              "      <th>Geography</th>\n",
              "      <th>Gender</th>\n",
              "      <th>Age</th>\n",
              "      <th>Tenure</th>\n",
              "      <th>Balance</th>\n",
              "      <th>NumOfProducts</th>\n",
              "      <th>HasCrCard</th>\n",
              "      <th>IsActiveMember</th>\n",
              "      <th>EstimatedSalary</th>\n",
              "      <th>Exited</th>\n",
              "    </tr>\n",
              "  </thead>\n",
              "  <tbody>\n",
              "    <tr>\n",
              "      <th>0</th>\n",
              "      <td>6842</td>\n",
              "      <td>15793491</td>\n",
              "      <td>Cherkasova</td>\n",
              "      <td>714</td>\n",
              "      <td>Germany</td>\n",
              "      <td>Male</td>\n",
              "      <td>26</td>\n",
              "      <td>3</td>\n",
              "      <td>119545.48</td>\n",
              "      <td>2</td>\n",
              "      <td>1</td>\n",
              "      <td>0</td>\n",
              "      <td>65482.94</td>\n",
              "      <td>0</td>\n",
              "    </tr>\n",
              "    <tr>\n",
              "      <th>1</th>\n",
              "      <td>8963</td>\n",
              "      <td>15607874</td>\n",
              "      <td>Keane</td>\n",
              "      <td>687</td>\n",
              "      <td>France</td>\n",
              "      <td>Male</td>\n",
              "      <td>38</td>\n",
              "      <td>0</td>\n",
              "      <td>144450.58</td>\n",
              "      <td>1</td>\n",
              "      <td>0</td>\n",
              "      <td>1</td>\n",
              "      <td>137276.83</td>\n",
              "      <td>0</td>\n",
              "    </tr>\n",
              "    <tr>\n",
              "      <th>2</th>\n",
              "      <td>7047</td>\n",
              "      <td>15737627</td>\n",
              "      <td>Rivero</td>\n",
              "      <td>589</td>\n",
              "      <td>Germany</td>\n",
              "      <td>Female</td>\n",
              "      <td>20</td>\n",
              "      <td>2</td>\n",
              "      <td>121093.29</td>\n",
              "      <td>2</td>\n",
              "      <td>1</td>\n",
              "      <td>0</td>\n",
              "      <td>3529.72</td>\n",
              "      <td>0</td>\n",
              "    </tr>\n",
              "    <tr>\n",
              "      <th>3</th>\n",
              "      <td>7503</td>\n",
              "      <td>15697844</td>\n",
              "      <td>Whitehouse</td>\n",
              "      <td>721</td>\n",
              "      <td>Spain</td>\n",
              "      <td>Female</td>\n",
              "      <td>32</td>\n",
              "      <td>10</td>\n",
              "      <td>0.00</td>\n",
              "      <td>1</td>\n",
              "      <td>1</td>\n",
              "      <td>0</td>\n",
              "      <td>136119.96</td>\n",
              "      <td>1</td>\n",
              "    </tr>\n",
              "    <tr>\n",
              "      <th>4</th>\n",
              "      <td>3439</td>\n",
              "      <td>15722404</td>\n",
              "      <td>Carpenter</td>\n",
              "      <td>445</td>\n",
              "      <td>France</td>\n",
              "      <td>Female</td>\n",
              "      <td>30</td>\n",
              "      <td>3</td>\n",
              "      <td>0.00</td>\n",
              "      <td>2</td>\n",
              "      <td>1</td>\n",
              "      <td>1</td>\n",
              "      <td>127939.19</td>\n",
              "      <td>0</td>\n",
              "    </tr>\n",
              "  </tbody>\n",
              "</table>\n",
              "</div>"
            ],
            "text/plain": [
              "   RowNumber  CustomerId     Surname  ...  IsActiveMember EstimatedSalary Exited\n",
              "0       6842    15793491  Cherkasova  ...               0        65482.94      0\n",
              "1       8963    15607874       Keane  ...               1       137276.83      0\n",
              "2       7047    15737627      Rivero  ...               0         3529.72      0\n",
              "3       7503    15697844  Whitehouse  ...               0       136119.96      1\n",
              "4       3439    15722404   Carpenter  ...               1       127939.19      0\n",
              "\n",
              "[5 rows x 14 columns]"
            ]
          },
          "metadata": {},
          "execution_count": 139
        }
      ]
    },
    {
      "cell_type": "markdown",
      "metadata": {
        "id": "iuOM6pJRfawm"
      },
      "source": [
        "남성 이탈(Exited)이 가장 많은 국가(Geography)는 어디이고 이탈 인원은 몇명인가?"
      ]
    },
    {
      "cell_type": "code",
      "metadata": {
        "colab": {
          "base_uri": "https://localhost:8080/"
        },
        "id": "PXug3EhqfRII",
        "outputId": "9e257a55-3760-41af-c9d6-eeaaa039ba2d"
      },
      "source": [
        "data[data.Gender == 'Male'].groupby('Geography')['Exited'].sum()"
      ],
      "execution_count": 140,
      "outputs": [
        {
          "output_type": "execute_result",
          "data": {
            "text/plain": [
              "Geography\n",
              "France     285\n",
              "Germany    287\n",
              "Spain      137\n",
              "Name: Exited, dtype: int64"
            ]
          },
          "metadata": {},
          "execution_count": 140
        }
      ]
    },
    {
      "cell_type": "code",
      "metadata": {
        "colab": {
          "base_uri": "https://localhost:8080/"
        },
        "id": "VQdAsZO7fiYg",
        "outputId": "260b7b0b-7dcd-44e4-9d2e-35bd5fbf1b8f"
      },
      "source": [
        "data[data.Gender == 'Male'].groupby('Geography')['Exited'].sum().sort_values(ascending=False)"
      ],
      "execution_count": 141,
      "outputs": [
        {
          "output_type": "execute_result",
          "data": {
            "text/plain": [
              "Geography\n",
              "Germany    287\n",
              "France     285\n",
              "Spain      137\n",
              "Name: Exited, dtype: int64"
            ]
          },
          "metadata": {},
          "execution_count": 141
        }
      ]
    },
    {
      "cell_type": "code",
      "metadata": {
        "colab": {
          "base_uri": "https://localhost:8080/"
        },
        "id": "bRlEgMwqhDEo",
        "outputId": "71996115-5d3e-4496-b764-6b40de53456b"
      },
      "source": [
        "data.loc[data.Gender=='Male'].groupby(['Geography']).sum().Exited.sort_values(ascending=False)"
      ],
      "execution_count": 142,
      "outputs": [
        {
          "output_type": "execute_result",
          "data": {
            "text/plain": [
              "Geography\n",
              "Germany    287\n",
              "France     285\n",
              "Spain      137\n",
              "Name: Exited, dtype: int64"
            ]
          },
          "metadata": {},
          "execution_count": 142
        }
      ]
    },
    {
      "cell_type": "code",
      "metadata": {
        "colab": {
          "base_uri": "https://localhost:8080/",
          "height": 0
        },
        "id": "vAOZrqoEgFfr",
        "outputId": "adae3eb9-e8ed-4fee-8114-fcf12dfd47d5"
      },
      "source": [
        "data.loc[data.Gender=='Male'].groupby(['Geography']).sum().Exited.sort_values(ascending=False).index[0]"
      ],
      "execution_count": 143,
      "outputs": [
        {
          "output_type": "execute_result",
          "data": {
            "application/vnd.google.colaboratory.intrinsic+json": {
              "type": "string"
            },
            "text/plain": [
              "'Germany'"
            ]
          },
          "metadata": {},
          "execution_count": 143
        }
      ]
    },
    {
      "cell_type": "code",
      "metadata": {
        "colab": {
          "base_uri": "https://localhost:8080/"
        },
        "id": "bwsqqE-jgRmg",
        "outputId": "6cc63192-2ff6-496b-b128-8fca6ce3ca49"
      },
      "source": [
        "data.loc[data.Gender=='Male'].groupby(['Geography']).sum().Exited.sort_values(ascending=False).values[0]"
      ],
      "execution_count": 144,
      "outputs": [
        {
          "output_type": "execute_result",
          "data": {
            "text/plain": [
              "287"
            ]
          },
          "metadata": {},
          "execution_count": 144
        }
      ]
    },
    {
      "cell_type": "markdown",
      "metadata": {
        "id": "llh-OXHYhf14"
      },
      "source": [
        "카드를 소유(HasCrCard ==1)하고 있으면서 활성멤버(IsActiveMember ==1) 인 고객들의 평균나이는? "
      ]
    },
    {
      "cell_type": "code",
      "metadata": {
        "colab": {
          "base_uri": "https://localhost:8080/"
        },
        "id": "fVWpINREg8Pg",
        "outputId": "906572e6-a2d2-4935-d3bd-51a7f668f926"
      },
      "source": [
        "data[(data.HasCrCard ==1 ) & (data.IsActiveMember ==1)].Age.mean()"
      ],
      "execution_count": 145,
      "outputs": [
        {
          "output_type": "execute_result",
          "data": {
            "text/plain": [
              "39.61019283746556"
            ]
          },
          "metadata": {},
          "execution_count": 145
        }
      ]
    },
    {
      "cell_type": "markdown",
      "metadata": {
        "id": "rciJxX4uh5Qj"
      },
      "source": [
        "Balance 값이 중간값 이상을 가지는 고객들의 CreditScore의 표준편차를 구하여라"
      ]
    },
    {
      "cell_type": "code",
      "metadata": {
        "colab": {
          "base_uri": "https://localhost:8080/"
        },
        "id": "Vc8dwCJ9h1ZL",
        "outputId": "ca9d1174-bdf3-4c41-f11f-2b6375247f7b"
      },
      "source": [
        "data[data.Balance >= data.Balance.median()]['CreditScore'].std()"
      ],
      "execution_count": 146,
      "outputs": [
        {
          "output_type": "execute_result",
          "data": {
            "text/plain": [
              "97.29451567120783"
            ]
          },
          "metadata": {},
          "execution_count": 146
        }
      ]
    },
    {
      "cell_type": "markdown",
      "metadata": {
        "id": "1eZBOfiQiPgF"
      },
      "source": [
        "#1주차 실기 유형 2 첫번째"
      ]
    },
    {
      "cell_type": "code",
      "metadata": {
        "id": "sq7FuXEuiUTR"
      },
      "source": [
        "trainData_url = 'https://raw.githubusercontent.com/Datamanim/datarepo/main/churn/train.csv'\n",
        "testData_url = 'https://raw.githubusercontent.com/Datamanim/datarepo/main/churn/test.csv'\n",
        "subData_url = 'https://raw.githubusercontent.com/Datamanim/datarepo/main/churn/submission.csv'"
      ],
      "execution_count": 147,
      "outputs": []
    },
    {
      "cell_type": "code",
      "metadata": {
        "id": "rqsysMe0ijEQ"
      },
      "source": [
        "trainData = pd.read_csv(trainData_url)\n",
        "testData = pd.read_csv(testData_url)\n",
        "subData = pd.read_csv(subData_url)"
      ],
      "execution_count": 148,
      "outputs": []
    },
    {
      "cell_type": "code",
      "metadata": {
        "colab": {
          "base_uri": "https://localhost:8080/",
          "height": 0
        },
        "id": "D66oj_2xiowv",
        "outputId": "531e81af-6e59-436d-9e3b-4f4b6e5c62e4"
      },
      "source": [
        "trainData.head(5)"
      ],
      "execution_count": 149,
      "outputs": [
        {
          "output_type": "execute_result",
          "data": {
            "text/html": [
              "<div>\n",
              "<style scoped>\n",
              "    .dataframe tbody tr th:only-of-type {\n",
              "        vertical-align: middle;\n",
              "    }\n",
              "\n",
              "    .dataframe tbody tr th {\n",
              "        vertical-align: top;\n",
              "    }\n",
              "\n",
              "    .dataframe thead th {\n",
              "        text-align: right;\n",
              "    }\n",
              "</style>\n",
              "<table border=\"1\" class=\"dataframe\">\n",
              "  <thead>\n",
              "    <tr style=\"text-align: right;\">\n",
              "      <th></th>\n",
              "      <th>RowNumber</th>\n",
              "      <th>CustomerId</th>\n",
              "      <th>Surname</th>\n",
              "      <th>CreditScore</th>\n",
              "      <th>Geography</th>\n",
              "      <th>Gender</th>\n",
              "      <th>Age</th>\n",
              "      <th>Tenure</th>\n",
              "      <th>Balance</th>\n",
              "      <th>NumOfProducts</th>\n",
              "      <th>HasCrCard</th>\n",
              "      <th>IsActiveMember</th>\n",
              "      <th>EstimatedSalary</th>\n",
              "      <th>Exited</th>\n",
              "    </tr>\n",
              "  </thead>\n",
              "  <tbody>\n",
              "    <tr>\n",
              "      <th>0</th>\n",
              "      <td>6842</td>\n",
              "      <td>15793491</td>\n",
              "      <td>Cherkasova</td>\n",
              "      <td>714</td>\n",
              "      <td>Germany</td>\n",
              "      <td>Male</td>\n",
              "      <td>26</td>\n",
              "      <td>3</td>\n",
              "      <td>119545.48</td>\n",
              "      <td>2</td>\n",
              "      <td>1</td>\n",
              "      <td>0</td>\n",
              "      <td>65482.94</td>\n",
              "      <td>0</td>\n",
              "    </tr>\n",
              "    <tr>\n",
              "      <th>1</th>\n",
              "      <td>8963</td>\n",
              "      <td>15607874</td>\n",
              "      <td>Keane</td>\n",
              "      <td>687</td>\n",
              "      <td>France</td>\n",
              "      <td>Male</td>\n",
              "      <td>38</td>\n",
              "      <td>0</td>\n",
              "      <td>144450.58</td>\n",
              "      <td>1</td>\n",
              "      <td>0</td>\n",
              "      <td>1</td>\n",
              "      <td>137276.83</td>\n",
              "      <td>0</td>\n",
              "    </tr>\n",
              "    <tr>\n",
              "      <th>2</th>\n",
              "      <td>7047</td>\n",
              "      <td>15737627</td>\n",
              "      <td>Rivero</td>\n",
              "      <td>589</td>\n",
              "      <td>Germany</td>\n",
              "      <td>Female</td>\n",
              "      <td>20</td>\n",
              "      <td>2</td>\n",
              "      <td>121093.29</td>\n",
              "      <td>2</td>\n",
              "      <td>1</td>\n",
              "      <td>0</td>\n",
              "      <td>3529.72</td>\n",
              "      <td>0</td>\n",
              "    </tr>\n",
              "    <tr>\n",
              "      <th>3</th>\n",
              "      <td>7503</td>\n",
              "      <td>15697844</td>\n",
              "      <td>Whitehouse</td>\n",
              "      <td>721</td>\n",
              "      <td>Spain</td>\n",
              "      <td>Female</td>\n",
              "      <td>32</td>\n",
              "      <td>10</td>\n",
              "      <td>0.00</td>\n",
              "      <td>1</td>\n",
              "      <td>1</td>\n",
              "      <td>0</td>\n",
              "      <td>136119.96</td>\n",
              "      <td>1</td>\n",
              "    </tr>\n",
              "    <tr>\n",
              "      <th>4</th>\n",
              "      <td>3439</td>\n",
              "      <td>15722404</td>\n",
              "      <td>Carpenter</td>\n",
              "      <td>445</td>\n",
              "      <td>France</td>\n",
              "      <td>Female</td>\n",
              "      <td>30</td>\n",
              "      <td>3</td>\n",
              "      <td>0.00</td>\n",
              "      <td>2</td>\n",
              "      <td>1</td>\n",
              "      <td>1</td>\n",
              "      <td>127939.19</td>\n",
              "      <td>0</td>\n",
              "    </tr>\n",
              "  </tbody>\n",
              "</table>\n",
              "</div>"
            ],
            "text/plain": [
              "   RowNumber  CustomerId     Surname  ...  IsActiveMember EstimatedSalary Exited\n",
              "0       6842    15793491  Cherkasova  ...               0        65482.94      0\n",
              "1       8963    15607874       Keane  ...               1       137276.83      0\n",
              "2       7047    15737627      Rivero  ...               0         3529.72      0\n",
              "3       7503    15697844  Whitehouse  ...               0       136119.96      1\n",
              "4       3439    15722404   Carpenter  ...               1       127939.19      0\n",
              "\n",
              "[5 rows x 14 columns]"
            ]
          },
          "metadata": {},
          "execution_count": 149
        }
      ]
    },
    {
      "cell_type": "code",
      "metadata": {
        "id": "gBz9HvHEj_0U"
      },
      "source": [
        "left = trainData[['CreditScore','Age','Tenure','Balance','NumOfProducts','HasCrCard','IsActiveMember','EstimatedSalary']]"
      ],
      "execution_count": 150,
      "outputs": []
    },
    {
      "cell_type": "code",
      "metadata": {
        "id": "CpGviHAqjjAO"
      },
      "source": [
        "Dummy_raw = trainData[['Geography','Gender']]"
      ],
      "execution_count": 151,
      "outputs": []
    },
    {
      "cell_type": "code",
      "metadata": {
        "id": "mu4xwoDdi7YJ"
      },
      "source": [
        "Dummies_train = pd.get_dummies(Dummy_raw)"
      ],
      "execution_count": 152,
      "outputs": []
    },
    {
      "cell_type": "code",
      "metadata": {
        "colab": {
          "base_uri": "https://localhost:8080/",
          "height": 0
        },
        "id": "B6UFbJLNjPKy",
        "outputId": "d5311958-17a3-4d2f-ea45-9799cac26dcd"
      },
      "source": [
        "Dummies_train.head(5)"
      ],
      "execution_count": 153,
      "outputs": [
        {
          "output_type": "execute_result",
          "data": {
            "text/html": [
              "<div>\n",
              "<style scoped>\n",
              "    .dataframe tbody tr th:only-of-type {\n",
              "        vertical-align: middle;\n",
              "    }\n",
              "\n",
              "    .dataframe tbody tr th {\n",
              "        vertical-align: top;\n",
              "    }\n",
              "\n",
              "    .dataframe thead th {\n",
              "        text-align: right;\n",
              "    }\n",
              "</style>\n",
              "<table border=\"1\" class=\"dataframe\">\n",
              "  <thead>\n",
              "    <tr style=\"text-align: right;\">\n",
              "      <th></th>\n",
              "      <th>Geography_France</th>\n",
              "      <th>Geography_Germany</th>\n",
              "      <th>Geography_Spain</th>\n",
              "      <th>Gender_Female</th>\n",
              "      <th>Gender_Male</th>\n",
              "    </tr>\n",
              "  </thead>\n",
              "  <tbody>\n",
              "    <tr>\n",
              "      <th>0</th>\n",
              "      <td>0</td>\n",
              "      <td>1</td>\n",
              "      <td>0</td>\n",
              "      <td>0</td>\n",
              "      <td>1</td>\n",
              "    </tr>\n",
              "    <tr>\n",
              "      <th>1</th>\n",
              "      <td>1</td>\n",
              "      <td>0</td>\n",
              "      <td>0</td>\n",
              "      <td>0</td>\n",
              "      <td>1</td>\n",
              "    </tr>\n",
              "    <tr>\n",
              "      <th>2</th>\n",
              "      <td>0</td>\n",
              "      <td>1</td>\n",
              "      <td>0</td>\n",
              "      <td>1</td>\n",
              "      <td>0</td>\n",
              "    </tr>\n",
              "    <tr>\n",
              "      <th>3</th>\n",
              "      <td>0</td>\n",
              "      <td>0</td>\n",
              "      <td>1</td>\n",
              "      <td>1</td>\n",
              "      <td>0</td>\n",
              "    </tr>\n",
              "    <tr>\n",
              "      <th>4</th>\n",
              "      <td>1</td>\n",
              "      <td>0</td>\n",
              "      <td>0</td>\n",
              "      <td>1</td>\n",
              "      <td>0</td>\n",
              "    </tr>\n",
              "  </tbody>\n",
              "</table>\n",
              "</div>"
            ],
            "text/plain": [
              "   Geography_France  Geography_Germany  ...  Gender_Female  Gender_Male\n",
              "0                 0                  1  ...              0            1\n",
              "1                 1                  0  ...              0            1\n",
              "2                 0                  1  ...              1            0\n",
              "3                 0                  0  ...              1            0\n",
              "4                 1                  0  ...              1            0\n",
              "\n",
              "[5 rows x 5 columns]"
            ]
          },
          "metadata": {},
          "execution_count": 153
        }
      ]
    },
    {
      "cell_type": "code",
      "metadata": {
        "id": "Kxjjt36xjd8g"
      },
      "source": [
        "X = pd.concat([left,Dummies_train], axis=1)"
      ],
      "execution_count": 154,
      "outputs": []
    },
    {
      "cell_type": "code",
      "metadata": {
        "colab": {
          "base_uri": "https://localhost:8080/",
          "height": 0
        },
        "id": "vWD7-q4HkhdX",
        "outputId": "bbfcccb6-702f-42f6-eebd-56523b1fb348"
      },
      "source": [
        "X.head(2)"
      ],
      "execution_count": 155,
      "outputs": [
        {
          "output_type": "execute_result",
          "data": {
            "text/html": [
              "<div>\n",
              "<style scoped>\n",
              "    .dataframe tbody tr th:only-of-type {\n",
              "        vertical-align: middle;\n",
              "    }\n",
              "\n",
              "    .dataframe tbody tr th {\n",
              "        vertical-align: top;\n",
              "    }\n",
              "\n",
              "    .dataframe thead th {\n",
              "        text-align: right;\n",
              "    }\n",
              "</style>\n",
              "<table border=\"1\" class=\"dataframe\">\n",
              "  <thead>\n",
              "    <tr style=\"text-align: right;\">\n",
              "      <th></th>\n",
              "      <th>CreditScore</th>\n",
              "      <th>Age</th>\n",
              "      <th>Tenure</th>\n",
              "      <th>Balance</th>\n",
              "      <th>NumOfProducts</th>\n",
              "      <th>HasCrCard</th>\n",
              "      <th>IsActiveMember</th>\n",
              "      <th>EstimatedSalary</th>\n",
              "      <th>Geography_France</th>\n",
              "      <th>Geography_Germany</th>\n",
              "      <th>Geography_Spain</th>\n",
              "      <th>Gender_Female</th>\n",
              "      <th>Gender_Male</th>\n",
              "    </tr>\n",
              "  </thead>\n",
              "  <tbody>\n",
              "    <tr>\n",
              "      <th>0</th>\n",
              "      <td>714</td>\n",
              "      <td>26</td>\n",
              "      <td>3</td>\n",
              "      <td>119545.48</td>\n",
              "      <td>2</td>\n",
              "      <td>1</td>\n",
              "      <td>0</td>\n",
              "      <td>65482.94</td>\n",
              "      <td>0</td>\n",
              "      <td>1</td>\n",
              "      <td>0</td>\n",
              "      <td>0</td>\n",
              "      <td>1</td>\n",
              "    </tr>\n",
              "    <tr>\n",
              "      <th>1</th>\n",
              "      <td>687</td>\n",
              "      <td>38</td>\n",
              "      <td>0</td>\n",
              "      <td>144450.58</td>\n",
              "      <td>1</td>\n",
              "      <td>0</td>\n",
              "      <td>1</td>\n",
              "      <td>137276.83</td>\n",
              "      <td>1</td>\n",
              "      <td>0</td>\n",
              "      <td>0</td>\n",
              "      <td>0</td>\n",
              "      <td>1</td>\n",
              "    </tr>\n",
              "  </tbody>\n",
              "</table>\n",
              "</div>"
            ],
            "text/plain": [
              "   CreditScore  Age  Tenure  ...  Geography_Spain  Gender_Female  Gender_Male\n",
              "0          714   26       3  ...                0              0            1\n",
              "1          687   38       0  ...                0              0            1\n",
              "\n",
              "[2 rows x 13 columns]"
            ]
          },
          "metadata": {},
          "execution_count": 155
        }
      ]
    },
    {
      "cell_type": "code",
      "metadata": {
        "colab": {
          "base_uri": "https://localhost:8080/",
          "height": 0
        },
        "id": "4FqeH8jfki7X",
        "outputId": "cc9625d9-e80f-44af-e2d4-5e7ea57a6a54"
      },
      "source": [
        "X.describe()"
      ],
      "execution_count": 156,
      "outputs": [
        {
          "output_type": "execute_result",
          "data": {
            "text/html": [
              "<div>\n",
              "<style scoped>\n",
              "    .dataframe tbody tr th:only-of-type {\n",
              "        vertical-align: middle;\n",
              "    }\n",
              "\n",
              "    .dataframe tbody tr th {\n",
              "        vertical-align: top;\n",
              "    }\n",
              "\n",
              "    .dataframe thead th {\n",
              "        text-align: right;\n",
              "    }\n",
              "</style>\n",
              "<table border=\"1\" class=\"dataframe\">\n",
              "  <thead>\n",
              "    <tr style=\"text-align: right;\">\n",
              "      <th></th>\n",
              "      <th>CreditScore</th>\n",
              "      <th>Age</th>\n",
              "      <th>Tenure</th>\n",
              "      <th>Balance</th>\n",
              "      <th>NumOfProducts</th>\n",
              "      <th>HasCrCard</th>\n",
              "      <th>IsActiveMember</th>\n",
              "      <th>EstimatedSalary</th>\n",
              "      <th>Geography_France</th>\n",
              "      <th>Geography_Germany</th>\n",
              "      <th>Geography_Spain</th>\n",
              "      <th>Gender_Female</th>\n",
              "      <th>Gender_Male</th>\n",
              "    </tr>\n",
              "  </thead>\n",
              "  <tbody>\n",
              "    <tr>\n",
              "      <th>count</th>\n",
              "      <td>7999.000000</td>\n",
              "      <td>7999.000000</td>\n",
              "      <td>7999.000000</td>\n",
              "      <td>7999.000000</td>\n",
              "      <td>7999.000000</td>\n",
              "      <td>7999.000000</td>\n",
              "      <td>7999.000000</td>\n",
              "      <td>7999.000000</td>\n",
              "      <td>7999.000000</td>\n",
              "      <td>7999.000000</td>\n",
              "      <td>7999.000000</td>\n",
              "      <td>7999.000000</td>\n",
              "      <td>7999.000000</td>\n",
              "    </tr>\n",
              "    <tr>\n",
              "      <th>mean</th>\n",
              "      <td>650.417302</td>\n",
              "      <td>38.873984</td>\n",
              "      <td>5.030379</td>\n",
              "      <td>76350.874242</td>\n",
              "      <td>1.528941</td>\n",
              "      <td>0.705838</td>\n",
              "      <td>0.513564</td>\n",
              "      <td>100097.840866</td>\n",
              "      <td>0.503063</td>\n",
              "      <td>0.249281</td>\n",
              "      <td>0.247656</td>\n",
              "      <td>0.450556</td>\n",
              "      <td>0.549444</td>\n",
              "    </tr>\n",
              "    <tr>\n",
              "      <th>std</th>\n",
              "      <td>96.720179</td>\n",
              "      <td>10.436156</td>\n",
              "      <td>2.888475</td>\n",
              "      <td>62447.544585</td>\n",
              "      <td>0.581993</td>\n",
              "      <td>0.455694</td>\n",
              "      <td>0.499847</td>\n",
              "      <td>57218.318399</td>\n",
              "      <td>0.500022</td>\n",
              "      <td>0.432624</td>\n",
              "      <td>0.431678</td>\n",
              "      <td>0.497580</td>\n",
              "      <td>0.497580</td>\n",
              "    </tr>\n",
              "    <tr>\n",
              "      <th>min</th>\n",
              "      <td>350.000000</td>\n",
              "      <td>18.000000</td>\n",
              "      <td>0.000000</td>\n",
              "      <td>0.000000</td>\n",
              "      <td>1.000000</td>\n",
              "      <td>0.000000</td>\n",
              "      <td>0.000000</td>\n",
              "      <td>96.270000</td>\n",
              "      <td>0.000000</td>\n",
              "      <td>0.000000</td>\n",
              "      <td>0.000000</td>\n",
              "      <td>0.000000</td>\n",
              "      <td>0.000000</td>\n",
              "    </tr>\n",
              "    <tr>\n",
              "      <th>25%</th>\n",
              "      <td>584.000000</td>\n",
              "      <td>32.000000</td>\n",
              "      <td>3.000000</td>\n",
              "      <td>0.000000</td>\n",
              "      <td>1.000000</td>\n",
              "      <td>0.000000</td>\n",
              "      <td>0.000000</td>\n",
              "      <td>51446.105000</td>\n",
              "      <td>0.000000</td>\n",
              "      <td>0.000000</td>\n",
              "      <td>0.000000</td>\n",
              "      <td>0.000000</td>\n",
              "      <td>0.000000</td>\n",
              "    </tr>\n",
              "    <tr>\n",
              "      <th>50%</th>\n",
              "      <td>652.000000</td>\n",
              "      <td>37.000000</td>\n",
              "      <td>5.000000</td>\n",
              "      <td>97259.250000</td>\n",
              "      <td>1.000000</td>\n",
              "      <td>1.000000</td>\n",
              "      <td>1.000000</td>\n",
              "      <td>99805.990000</td>\n",
              "      <td>1.000000</td>\n",
              "      <td>0.000000</td>\n",
              "      <td>0.000000</td>\n",
              "      <td>0.000000</td>\n",
              "      <td>1.000000</td>\n",
              "    </tr>\n",
              "    <tr>\n",
              "      <th>75%</th>\n",
              "      <td>718.000000</td>\n",
              "      <td>44.000000</td>\n",
              "      <td>7.000000</td>\n",
              "      <td>127331.880000</td>\n",
              "      <td>2.000000</td>\n",
              "      <td>1.000000</td>\n",
              "      <td>1.000000</td>\n",
              "      <td>149304.985000</td>\n",
              "      <td>1.000000</td>\n",
              "      <td>0.000000</td>\n",
              "      <td>0.000000</td>\n",
              "      <td>1.000000</td>\n",
              "      <td>1.000000</td>\n",
              "    </tr>\n",
              "    <tr>\n",
              "      <th>max</th>\n",
              "      <td>850.000000</td>\n",
              "      <td>92.000000</td>\n",
              "      <td>10.000000</td>\n",
              "      <td>250898.090000</td>\n",
              "      <td>4.000000</td>\n",
              "      <td>1.000000</td>\n",
              "      <td>1.000000</td>\n",
              "      <td>199992.480000</td>\n",
              "      <td>1.000000</td>\n",
              "      <td>1.000000</td>\n",
              "      <td>1.000000</td>\n",
              "      <td>1.000000</td>\n",
              "      <td>1.000000</td>\n",
              "    </tr>\n",
              "  </tbody>\n",
              "</table>\n",
              "</div>"
            ],
            "text/plain": [
              "       CreditScore          Age  ...  Gender_Female  Gender_Male\n",
              "count  7999.000000  7999.000000  ...    7999.000000  7999.000000\n",
              "mean    650.417302    38.873984  ...       0.450556     0.549444\n",
              "std      96.720179    10.436156  ...       0.497580     0.497580\n",
              "min     350.000000    18.000000  ...       0.000000     0.000000\n",
              "25%     584.000000    32.000000  ...       0.000000     0.000000\n",
              "50%     652.000000    37.000000  ...       0.000000     1.000000\n",
              "75%     718.000000    44.000000  ...       1.000000     1.000000\n",
              "max     850.000000    92.000000  ...       1.000000     1.000000\n",
              "\n",
              "[8 rows x 13 columns]"
            ]
          },
          "metadata": {},
          "execution_count": 156
        }
      ]
    },
    {
      "cell_type": "code",
      "metadata": {
        "id": "mIL6fqpkk4yG"
      },
      "source": [
        "y =data[['Exited']]"
      ],
      "execution_count": 157,
      "outputs": []
    },
    {
      "cell_type": "code",
      "metadata": {
        "id": "ZKOI8ScwlCry"
      },
      "source": [
        "from sklearn.model_selection import train_test_split"
      ],
      "execution_count": 158,
      "outputs": []
    },
    {
      "cell_type": "code",
      "metadata": {
        "id": "hls8vVk9lHM4"
      },
      "source": [
        "X_train, X_test, y_train, y_test = train_test_split(X, y, stratify=y,test_size=0.33)"
      ],
      "execution_count": 159,
      "outputs": []
    },
    {
      "cell_type": "code",
      "metadata": {
        "id": "IxrlRb-2ktgu"
      },
      "source": [
        "from sklearn.preprocessing import MinMaxScaler"
      ],
      "execution_count": 160,
      "outputs": []
    },
    {
      "cell_type": "code",
      "metadata": {
        "id": "-2Xs0gixkxSP"
      },
      "source": [
        "mms = MinMaxScaler()"
      ],
      "execution_count": 161,
      "outputs": []
    },
    {
      "cell_type": "code",
      "metadata": {
        "colab": {
          "base_uri": "https://localhost:8080/"
        },
        "id": "CRRk-DdSkzgq",
        "outputId": "cf41f361-8071-4d0d-d6fd-87976bdbd5e6"
      },
      "source": [
        "mms.fit(X_train)"
      ],
      "execution_count": 162,
      "outputs": [
        {
          "output_type": "execute_result",
          "data": {
            "text/plain": [
              "MinMaxScaler()"
            ]
          },
          "metadata": {},
          "execution_count": 162
        }
      ]
    },
    {
      "cell_type": "code",
      "metadata": {
        "id": "02OSE21ik2qP"
      },
      "source": [
        "X_train_scaled = mms.transform(X_train)\n",
        "X_test_scaled = mms.transform(X_test)"
      ],
      "execution_count": 163,
      "outputs": []
    },
    {
      "cell_type": "code",
      "metadata": {
        "id": "LB7KZCzlla6c"
      },
      "source": [
        "from sklearn.ensemble import RandomForestClassifier"
      ],
      "execution_count": 164,
      "outputs": []
    },
    {
      "cell_type": "code",
      "metadata": {
        "id": "VgjKnEzRlgd_"
      },
      "source": [
        "model = RandomForestClassifier()"
      ],
      "execution_count": 165,
      "outputs": []
    },
    {
      "cell_type": "code",
      "metadata": {
        "colab": {
          "base_uri": "https://localhost:8080/"
        },
        "id": "lYjTc9ptliSv",
        "outputId": "51b86968-31c6-4cf3-c738-6df592e7144b"
      },
      "source": [
        "model.fit(X_train_scaled, y_train)"
      ],
      "execution_count": 166,
      "outputs": [
        {
          "output_type": "stream",
          "name": "stderr",
          "text": [
            "/usr/local/lib/python3.7/dist-packages/ipykernel_launcher.py:1: DataConversionWarning: A column-vector y was passed when a 1d array was expected. Please change the shape of y to (n_samples,), for example using ravel().\n",
            "  \"\"\"Entry point for launching an IPython kernel.\n"
          ]
        },
        {
          "output_type": "execute_result",
          "data": {
            "text/plain": [
              "RandomForestClassifier()"
            ]
          },
          "metadata": {},
          "execution_count": 166
        }
      ]
    },
    {
      "cell_type": "code",
      "metadata": {
        "id": "Roa6hljWlkqW"
      },
      "source": [
        "pred_train = model.predict(X_train_scaled)\n",
        "pred_test = model.predict(X_test_scaled)"
      ],
      "execution_count": 167,
      "outputs": []
    },
    {
      "cell_type": "code",
      "metadata": {
        "id": "qKChBZ4xl2jL"
      },
      "source": [
        "from sklearn.metrics import f1_score"
      ],
      "execution_count": 168,
      "outputs": []
    },
    {
      "cell_type": "code",
      "metadata": {
        "id": "1ltNj-YZl5V2"
      },
      "source": [
        "score_train = f1_score(y_train, pred_train)\n",
        "score_test = f1_score(y_test, pred_test)"
      ],
      "execution_count": 169,
      "outputs": []
    },
    {
      "cell_type": "code",
      "metadata": {
        "colab": {
          "base_uri": "https://localhost:8080/"
        },
        "id": "Hsf4mFidl8-e",
        "outputId": "1b168976-383b-412c-8bb5-1756e4662a55"
      },
      "source": [
        "print(score_train)"
      ],
      "execution_count": 170,
      "outputs": [
        {
          "output_type": "stream",
          "name": "stdout",
          "text": [
            "1.0\n"
          ]
        }
      ]
    },
    {
      "cell_type": "code",
      "metadata": {
        "colab": {
          "base_uri": "https://localhost:8080/"
        },
        "id": "PElpUja0mD0v",
        "outputId": "fd965d8c-a1e1-46a8-f45e-40411daef382"
      },
      "source": [
        "print(score_test)"
      ],
      "execution_count": 171,
      "outputs": [
        {
          "output_type": "stream",
          "name": "stdout",
          "text": [
            "0.5727699530516431\n"
          ]
        }
      ]
    },
    {
      "cell_type": "code",
      "metadata": {
        "id": "xXBbHvnimFRG"
      },
      "source": [
        "submission = pd.read_csv(subData_url,index_col=0)"
      ],
      "execution_count": 172,
      "outputs": []
    },
    {
      "cell_type": "code",
      "metadata": {
        "colab": {
          "base_uri": "https://localhost:8080/"
        },
        "id": "SdElo9IGmjZQ",
        "outputId": "8e49f552-efa3-4292-e7e4-e34f7e9ff076"
      },
      "source": [
        "submission.shape"
      ],
      "execution_count": 173,
      "outputs": [
        {
          "output_type": "execute_result",
          "data": {
            "text/plain": [
              "(2001, 0)"
            ]
          },
          "metadata": {},
          "execution_count": 173
        }
      ]
    },
    {
      "cell_type": "code",
      "metadata": {
        "colab": {
          "base_uri": "https://localhost:8080/"
        },
        "id": "hQfw69wsmlK-",
        "outputId": "b49e4597-f91e-4f8d-c2bf-27b97cc22d83"
      },
      "source": [
        "testData.shape"
      ],
      "execution_count": 174,
      "outputs": [
        {
          "output_type": "execute_result",
          "data": {
            "text/plain": [
              "(2001, 13)"
            ]
          },
          "metadata": {},
          "execution_count": 174
        }
      ]
    },
    {
      "cell_type": "code",
      "metadata": {
        "colab": {
          "base_uri": "https://localhost:8080/",
          "height": 0
        },
        "id": "S9H9PGeYmwRH",
        "outputId": "76cbf5ac-a6ac-4b70-bfb1-bc2f331abdd8"
      },
      "source": [
        "testData.head(2)"
      ],
      "execution_count": 175,
      "outputs": [
        {
          "output_type": "execute_result",
          "data": {
            "text/html": [
              "<div>\n",
              "<style scoped>\n",
              "    .dataframe tbody tr th:only-of-type {\n",
              "        vertical-align: middle;\n",
              "    }\n",
              "\n",
              "    .dataframe tbody tr th {\n",
              "        vertical-align: top;\n",
              "    }\n",
              "\n",
              "    .dataframe thead th {\n",
              "        text-align: right;\n",
              "    }\n",
              "</style>\n",
              "<table border=\"1\" class=\"dataframe\">\n",
              "  <thead>\n",
              "    <tr style=\"text-align: right;\">\n",
              "      <th></th>\n",
              "      <th>RowNumber</th>\n",
              "      <th>CustomerId</th>\n",
              "      <th>Surname</th>\n",
              "      <th>CreditScore</th>\n",
              "      <th>Geography</th>\n",
              "      <th>Gender</th>\n",
              "      <th>Age</th>\n",
              "      <th>Tenure</th>\n",
              "      <th>Balance</th>\n",
              "      <th>NumOfProducts</th>\n",
              "      <th>HasCrCard</th>\n",
              "      <th>IsActiveMember</th>\n",
              "      <th>EstimatedSalary</th>\n",
              "    </tr>\n",
              "  </thead>\n",
              "  <tbody>\n",
              "    <tr>\n",
              "      <th>0</th>\n",
              "      <td>8438</td>\n",
              "      <td>15591428</td>\n",
              "      <td>Myers</td>\n",
              "      <td>781</td>\n",
              "      <td>France</td>\n",
              "      <td>Male</td>\n",
              "      <td>29</td>\n",
              "      <td>9</td>\n",
              "      <td>0.0</td>\n",
              "      <td>2</td>\n",
              "      <td>0</td>\n",
              "      <td>0</td>\n",
              "      <td>172097.4</td>\n",
              "    </tr>\n",
              "    <tr>\n",
              "      <th>1</th>\n",
              "      <td>5282</td>\n",
              "      <td>15620372</td>\n",
              "      <td>Cross</td>\n",
              "      <td>687</td>\n",
              "      <td>Spain</td>\n",
              "      <td>Male</td>\n",
              "      <td>31</td>\n",
              "      <td>3</td>\n",
              "      <td>0.0</td>\n",
              "      <td>2</td>\n",
              "      <td>0</td>\n",
              "      <td>0</td>\n",
              "      <td>48228.1</td>\n",
              "    </tr>\n",
              "  </tbody>\n",
              "</table>\n",
              "</div>"
            ],
            "text/plain": [
              "   RowNumber  CustomerId Surname  ...  HasCrCard IsActiveMember EstimatedSalary\n",
              "0       8438    15591428   Myers  ...          0              0        172097.4\n",
              "1       5282    15620372   Cross  ...          0              0         48228.1\n",
              "\n",
              "[2 rows x 13 columns]"
            ]
          },
          "metadata": {},
          "execution_count": 175
        }
      ]
    },
    {
      "cell_type": "code",
      "metadata": {
        "id": "ImFtkZ81m4If"
      },
      "source": [
        "left_sub = testData[['CreditScore','Age','Tenure','Balance','NumOfProducts','HasCrCard','IsActiveMember','EstimatedSalary']]\n",
        "Dummy_raw_sub = testData[['Geography','Gender']]\n",
        "Dummies_train_sub = pd.get_dummies(Dummy_raw_sub)\n",
        "X_sub = pd.concat([left_sub,Dummies_train_sub], axis=1)"
      ],
      "execution_count": 176,
      "outputs": []
    },
    {
      "cell_type": "code",
      "metadata": {
        "colab": {
          "base_uri": "https://localhost:8080/",
          "height": 0
        },
        "id": "lmp9g2XCn8Ee",
        "outputId": "28909e82-4e91-4096-9182-36cf840f702a"
      },
      "source": [
        "X_sub.head(2)"
      ],
      "execution_count": 177,
      "outputs": [
        {
          "output_type": "execute_result",
          "data": {
            "text/html": [
              "<div>\n",
              "<style scoped>\n",
              "    .dataframe tbody tr th:only-of-type {\n",
              "        vertical-align: middle;\n",
              "    }\n",
              "\n",
              "    .dataframe tbody tr th {\n",
              "        vertical-align: top;\n",
              "    }\n",
              "\n",
              "    .dataframe thead th {\n",
              "        text-align: right;\n",
              "    }\n",
              "</style>\n",
              "<table border=\"1\" class=\"dataframe\">\n",
              "  <thead>\n",
              "    <tr style=\"text-align: right;\">\n",
              "      <th></th>\n",
              "      <th>CreditScore</th>\n",
              "      <th>Age</th>\n",
              "      <th>Tenure</th>\n",
              "      <th>Balance</th>\n",
              "      <th>NumOfProducts</th>\n",
              "      <th>HasCrCard</th>\n",
              "      <th>IsActiveMember</th>\n",
              "      <th>EstimatedSalary</th>\n",
              "      <th>Geography_France</th>\n",
              "      <th>Geography_Germany</th>\n",
              "      <th>Geography_Spain</th>\n",
              "      <th>Gender_Female</th>\n",
              "      <th>Gender_Male</th>\n",
              "    </tr>\n",
              "  </thead>\n",
              "  <tbody>\n",
              "    <tr>\n",
              "      <th>0</th>\n",
              "      <td>781</td>\n",
              "      <td>29</td>\n",
              "      <td>9</td>\n",
              "      <td>0.0</td>\n",
              "      <td>2</td>\n",
              "      <td>0</td>\n",
              "      <td>0</td>\n",
              "      <td>172097.4</td>\n",
              "      <td>1</td>\n",
              "      <td>0</td>\n",
              "      <td>0</td>\n",
              "      <td>0</td>\n",
              "      <td>1</td>\n",
              "    </tr>\n",
              "    <tr>\n",
              "      <th>1</th>\n",
              "      <td>687</td>\n",
              "      <td>31</td>\n",
              "      <td>3</td>\n",
              "      <td>0.0</td>\n",
              "      <td>2</td>\n",
              "      <td>0</td>\n",
              "      <td>0</td>\n",
              "      <td>48228.1</td>\n",
              "      <td>0</td>\n",
              "      <td>0</td>\n",
              "      <td>1</td>\n",
              "      <td>0</td>\n",
              "      <td>1</td>\n",
              "    </tr>\n",
              "  </tbody>\n",
              "</table>\n",
              "</div>"
            ],
            "text/plain": [
              "   CreditScore  Age  Tenure  ...  Geography_Spain  Gender_Female  Gender_Male\n",
              "0          781   29       9  ...                0              0            1\n",
              "1          687   31       3  ...                1              0            1\n",
              "\n",
              "[2 rows x 13 columns]"
            ]
          },
          "metadata": {},
          "execution_count": 177
        }
      ]
    },
    {
      "cell_type": "code",
      "metadata": {
        "id": "Ey8GkRjKn94X",
        "colab": {
          "base_uri": "https://localhost:8080/"
        },
        "outputId": "90473bef-babc-42c9-b0bc-6fa0b481b657"
      },
      "source": [
        "sub_ready = model.predict(X_sub)"
      ],
      "execution_count": 178,
      "outputs": [
        {
          "output_type": "stream",
          "name": "stderr",
          "text": [
            "/usr/local/lib/python3.7/dist-packages/sklearn/base.py:439: UserWarning: X has feature names, but RandomForestClassifier was fitted without feature names\n",
            "  f\"X has feature names, but {self.__class__.__name__} was fitted without\"\n"
          ]
        }
      ]
    },
    {
      "cell_type": "code",
      "metadata": {
        "colab": {
          "base_uri": "https://localhost:8080/"
        },
        "id": "LStyVr1ToK6Q",
        "outputId": "51307a22-4c59-4373-b32f-42b69a954bc7"
      },
      "source": [
        "sub_ready.shape"
      ],
      "execution_count": 179,
      "outputs": [
        {
          "output_type": "execute_result",
          "data": {
            "text/plain": [
              "(2001,)"
            ]
          },
          "metadata": {},
          "execution_count": 179
        }
      ]
    },
    {
      "cell_type": "code",
      "metadata": {
        "id": "l0pziAw3oNcf"
      },
      "source": [
        "submission[0] = sub_ready\n",
        "submission.to_csv('submission_model.csv',index=False)"
      ],
      "execution_count": 180,
      "outputs": []
    },
    {
      "cell_type": "markdown",
      "metadata": {
        "id": "kV5MqX2rpFmi"
      },
      "source": [
        "#1주차 실기 유형 2 두번째"
      ]
    },
    {
      "cell_type": "code",
      "metadata": {
        "id": "Xw3Vw-cuoZg2"
      },
      "source": [
        "trainData_url = 'https://raw.githubusercontent.com/Datamanim/datarepo/main/cancer/train.csv'\n",
        "testData_url = 'https://raw.githubusercontent.com/Datamanim/datarepo/main/cancer/test.csv'\n",
        "subData_url = 'https://raw.githubusercontent.com/Datamanim/datarepo/main/cancer/submission.csv'"
      ],
      "execution_count": 181,
      "outputs": []
    },
    {
      "cell_type": "markdown",
      "metadata": {
        "id": "2k37y-V8poCT"
      },
      "source": [
        "데이터 설명 :  유방암 발생여부 예측 (종속변수 diagnosis : B(양성)  , M(악성) )\n",
        "문제타입 : 분류유형\n",
        "평가지표 : f1-scor"
      ]
    },
    {
      "cell_type": "code",
      "metadata": {
        "id": "JdRuNozjpZMH"
      },
      "source": [
        "trainData = pd.read_csv(trainData_url)\n",
        "testData = pd.read_csv(testData_url)\n",
        "subData = pd.read_csv(subData_url)"
      ],
      "execution_count": 182,
      "outputs": []
    },
    {
      "cell_type": "code",
      "metadata": {
        "colab": {
          "base_uri": "https://localhost:8080/",
          "height": 130
        },
        "id": "2noAKktXEufw",
        "outputId": "440846a6-3377-47bc-b0f1-b4e7d6f45a49"
      },
      "source": [
        "trainData.head(2)"
      ],
      "execution_count": 183,
      "outputs": [
        {
          "output_type": "execute_result",
          "data": {
            "text/html": [
              "<div>\n",
              "<style scoped>\n",
              "    .dataframe tbody tr th:only-of-type {\n",
              "        vertical-align: middle;\n",
              "    }\n",
              "\n",
              "    .dataframe tbody tr th {\n",
              "        vertical-align: top;\n",
              "    }\n",
              "\n",
              "    .dataframe thead th {\n",
              "        text-align: right;\n",
              "    }\n",
              "</style>\n",
              "<table border=\"1\" class=\"dataframe\">\n",
              "  <thead>\n",
              "    <tr style=\"text-align: right;\">\n",
              "      <th></th>\n",
              "      <th>id</th>\n",
              "      <th>diagnosis</th>\n",
              "      <th>radius_mean</th>\n",
              "      <th>texture_mean</th>\n",
              "      <th>perimeter_mean</th>\n",
              "      <th>area_mean</th>\n",
              "      <th>smoothness_mean</th>\n",
              "      <th>compactness_mean</th>\n",
              "      <th>concavity_mean</th>\n",
              "      <th>points_mean</th>\n",
              "      <th>symmetry_mean</th>\n",
              "      <th>dimension_mean</th>\n",
              "      <th>radius_se</th>\n",
              "      <th>texture_se</th>\n",
              "      <th>perimeter_se</th>\n",
              "      <th>area_se</th>\n",
              "      <th>smoothness_se</th>\n",
              "      <th>compactness_se</th>\n",
              "      <th>concavity_se</th>\n",
              "      <th>points_se</th>\n",
              "      <th>symmetry_se</th>\n",
              "      <th>dimension_se</th>\n",
              "      <th>radius_worst</th>\n",
              "      <th>texture_worst</th>\n",
              "      <th>perimeter_worst</th>\n",
              "      <th>area_worst</th>\n",
              "      <th>smoothness_worst</th>\n",
              "      <th>compactness_worst</th>\n",
              "      <th>concavity_worst</th>\n",
              "      <th>points_worst</th>\n",
              "      <th>symmetry_worst</th>\n",
              "      <th>dimension_worst</th>\n",
              "    </tr>\n",
              "  </thead>\n",
              "  <tbody>\n",
              "    <tr>\n",
              "      <th>0</th>\n",
              "      <td>8812844</td>\n",
              "      <td>B</td>\n",
              "      <td>10.18</td>\n",
              "      <td>17.53</td>\n",
              "      <td>65.12</td>\n",
              "      <td>313.1</td>\n",
              "      <td>0.10610</td>\n",
              "      <td>0.08502</td>\n",
              "      <td>0.01768</td>\n",
              "      <td>0.01915</td>\n",
              "      <td>0.1910</td>\n",
              "      <td>0.06908</td>\n",
              "      <td>0.2467</td>\n",
              "      <td>1.217</td>\n",
              "      <td>1.641</td>\n",
              "      <td>15.05</td>\n",
              "      <td>0.007899</td>\n",
              "      <td>0.01400</td>\n",
              "      <td>0.008534</td>\n",
              "      <td>0.007624</td>\n",
              "      <td>0.02637</td>\n",
              "      <td>0.003761</td>\n",
              "      <td>11.17</td>\n",
              "      <td>22.84</td>\n",
              "      <td>71.94</td>\n",
              "      <td>375.6</td>\n",
              "      <td>0.14060</td>\n",
              "      <td>0.1440</td>\n",
              "      <td>0.06572</td>\n",
              "      <td>0.05575</td>\n",
              "      <td>0.3055</td>\n",
              "      <td>0.08797</td>\n",
              "    </tr>\n",
              "    <tr>\n",
              "      <th>1</th>\n",
              "      <td>904689</td>\n",
              "      <td>B</td>\n",
              "      <td>12.96</td>\n",
              "      <td>18.29</td>\n",
              "      <td>84.18</td>\n",
              "      <td>525.2</td>\n",
              "      <td>0.07351</td>\n",
              "      <td>0.07899</td>\n",
              "      <td>0.04057</td>\n",
              "      <td>0.01883</td>\n",
              "      <td>0.1874</td>\n",
              "      <td>0.05899</td>\n",
              "      <td>0.2357</td>\n",
              "      <td>1.299</td>\n",
              "      <td>2.397</td>\n",
              "      <td>20.21</td>\n",
              "      <td>0.003629</td>\n",
              "      <td>0.03713</td>\n",
              "      <td>0.034520</td>\n",
              "      <td>0.010650</td>\n",
              "      <td>0.02632</td>\n",
              "      <td>0.003705</td>\n",
              "      <td>14.13</td>\n",
              "      <td>24.61</td>\n",
              "      <td>96.31</td>\n",
              "      <td>621.9</td>\n",
              "      <td>0.09329</td>\n",
              "      <td>0.2318</td>\n",
              "      <td>0.16040</td>\n",
              "      <td>0.06608</td>\n",
              "      <td>0.3207</td>\n",
              "      <td>0.07247</td>\n",
              "    </tr>\n",
              "  </tbody>\n",
              "</table>\n",
              "</div>"
            ],
            "text/plain": [
              "        id diagnosis  ...  symmetry_worst  dimension_worst\n",
              "0  8812844         B  ...          0.3055          0.08797\n",
              "1   904689         B  ...          0.3207          0.07247\n",
              "\n",
              "[2 rows x 32 columns]"
            ]
          },
          "metadata": {},
          "execution_count": 183
        }
      ]
    },
    {
      "cell_type": "code",
      "metadata": {
        "colab": {
          "base_uri": "https://localhost:8080/",
          "height": 130
        },
        "id": "MvHVol0rExiq",
        "outputId": "135afddd-46d8-4a39-9a73-6a2e0839fff7"
      },
      "source": [
        "testData.head(2)"
      ],
      "execution_count": 184,
      "outputs": [
        {
          "output_type": "execute_result",
          "data": {
            "text/html": [
              "<div>\n",
              "<style scoped>\n",
              "    .dataframe tbody tr th:only-of-type {\n",
              "        vertical-align: middle;\n",
              "    }\n",
              "\n",
              "    .dataframe tbody tr th {\n",
              "        vertical-align: top;\n",
              "    }\n",
              "\n",
              "    .dataframe thead th {\n",
              "        text-align: right;\n",
              "    }\n",
              "</style>\n",
              "<table border=\"1\" class=\"dataframe\">\n",
              "  <thead>\n",
              "    <tr style=\"text-align: right;\">\n",
              "      <th></th>\n",
              "      <th>id</th>\n",
              "      <th>radius_mean</th>\n",
              "      <th>texture_mean</th>\n",
              "      <th>perimeter_mean</th>\n",
              "      <th>area_mean</th>\n",
              "      <th>smoothness_mean</th>\n",
              "      <th>compactness_mean</th>\n",
              "      <th>concavity_mean</th>\n",
              "      <th>points_mean</th>\n",
              "      <th>symmetry_mean</th>\n",
              "      <th>dimension_mean</th>\n",
              "      <th>radius_se</th>\n",
              "      <th>texture_se</th>\n",
              "      <th>perimeter_se</th>\n",
              "      <th>area_se</th>\n",
              "      <th>smoothness_se</th>\n",
              "      <th>compactness_se</th>\n",
              "      <th>concavity_se</th>\n",
              "      <th>points_se</th>\n",
              "      <th>symmetry_se</th>\n",
              "      <th>dimension_se</th>\n",
              "      <th>radius_worst</th>\n",
              "      <th>texture_worst</th>\n",
              "      <th>perimeter_worst</th>\n",
              "      <th>area_worst</th>\n",
              "      <th>smoothness_worst</th>\n",
              "      <th>compactness_worst</th>\n",
              "      <th>concavity_worst</th>\n",
              "      <th>points_worst</th>\n",
              "      <th>symmetry_worst</th>\n",
              "      <th>dimension_worst</th>\n",
              "    </tr>\n",
              "  </thead>\n",
              "  <tbody>\n",
              "    <tr>\n",
              "      <th>0</th>\n",
              "      <td>915186</td>\n",
              "      <td>9.268</td>\n",
              "      <td>12.87</td>\n",
              "      <td>61.49</td>\n",
              "      <td>248.7</td>\n",
              "      <td>0.16340</td>\n",
              "      <td>0.22390</td>\n",
              "      <td>0.09730</td>\n",
              "      <td>0.05252</td>\n",
              "      <td>0.2378</td>\n",
              "      <td>0.09502</td>\n",
              "      <td>0.4076</td>\n",
              "      <td>1.0930</td>\n",
              "      <td>3.014</td>\n",
              "      <td>20.04</td>\n",
              "      <td>0.009783</td>\n",
              "      <td>0.04542</td>\n",
              "      <td>0.03483</td>\n",
              "      <td>0.021880</td>\n",
              "      <td>0.02542</td>\n",
              "      <td>0.010450</td>\n",
              "      <td>10.28</td>\n",
              "      <td>16.38</td>\n",
              "      <td>69.05</td>\n",
              "      <td>300.2</td>\n",
              "      <td>0.1902</td>\n",
              "      <td>0.3441</td>\n",
              "      <td>0.2099</td>\n",
              "      <td>0.1025</td>\n",
              "      <td>0.3038</td>\n",
              "      <td>0.12520</td>\n",
              "    </tr>\n",
              "    <tr>\n",
              "      <th>1</th>\n",
              "      <td>869224</td>\n",
              "      <td>12.900</td>\n",
              "      <td>15.92</td>\n",
              "      <td>83.74</td>\n",
              "      <td>512.2</td>\n",
              "      <td>0.08677</td>\n",
              "      <td>0.09509</td>\n",
              "      <td>0.04894</td>\n",
              "      <td>0.03088</td>\n",
              "      <td>0.1778</td>\n",
              "      <td>0.06235</td>\n",
              "      <td>0.2143</td>\n",
              "      <td>0.7712</td>\n",
              "      <td>1.689</td>\n",
              "      <td>16.64</td>\n",
              "      <td>0.005324</td>\n",
              "      <td>0.01563</td>\n",
              "      <td>0.01510</td>\n",
              "      <td>0.007584</td>\n",
              "      <td>0.02104</td>\n",
              "      <td>0.001887</td>\n",
              "      <td>14.48</td>\n",
              "      <td>21.82</td>\n",
              "      <td>97.17</td>\n",
              "      <td>643.8</td>\n",
              "      <td>0.1312</td>\n",
              "      <td>0.2548</td>\n",
              "      <td>0.2090</td>\n",
              "      <td>0.1012</td>\n",
              "      <td>0.3549</td>\n",
              "      <td>0.08118</td>\n",
              "    </tr>\n",
              "  </tbody>\n",
              "</table>\n",
              "</div>"
            ],
            "text/plain": [
              "       id  radius_mean  ...  symmetry_worst  dimension_worst\n",
              "0  915186        9.268  ...          0.3038          0.12520\n",
              "1  869224       12.900  ...          0.3549          0.08118\n",
              "\n",
              "[2 rows x 31 columns]"
            ]
          },
          "metadata": {},
          "execution_count": 184
        }
      ]
    },
    {
      "cell_type": "code",
      "metadata": {
        "colab": {
          "base_uri": "https://localhost:8080/",
          "height": 110
        },
        "id": "tyVgThQdE0Sz",
        "outputId": "68e5ce3a-5efc-426e-8770-0bc3d0c503be"
      },
      "source": [
        "subData.head(2)"
      ],
      "execution_count": 185,
      "outputs": [
        {
          "output_type": "execute_result",
          "data": {
            "text/html": [
              "<div>\n",
              "<style scoped>\n",
              "    .dataframe tbody tr th:only-of-type {\n",
              "        vertical-align: middle;\n",
              "    }\n",
              "\n",
              "    .dataframe tbody tr th {\n",
              "        vertical-align: top;\n",
              "    }\n",
              "\n",
              "    .dataframe thead th {\n",
              "        text-align: right;\n",
              "    }\n",
              "</style>\n",
              "<table border=\"1\" class=\"dataframe\">\n",
              "  <thead>\n",
              "    <tr style=\"text-align: right;\">\n",
              "      <th></th>\n",
              "      <th>0</th>\n",
              "    </tr>\n",
              "  </thead>\n",
              "  <tbody>\n",
              "    <tr>\n",
              "      <th>0</th>\n",
              "      <td>0.0</td>\n",
              "    </tr>\n",
              "    <tr>\n",
              "      <th>1</th>\n",
              "      <td>0.0</td>\n",
              "    </tr>\n",
              "  </tbody>\n",
              "</table>\n",
              "</div>"
            ],
            "text/plain": [
              "     0\n",
              "0  0.0\n",
              "1  0.0"
            ]
          },
          "metadata": {},
          "execution_count": 185
        }
      ]
    },
    {
      "cell_type": "code",
      "metadata": {
        "colab": {
          "base_uri": "https://localhost:8080/"
        },
        "id": "5AkTZOUPE8tI",
        "outputId": "8071a542-b26b-4de1-ad22-93b4b76620b6"
      },
      "source": [
        "trainData.shape"
      ],
      "execution_count": 186,
      "outputs": [
        {
          "output_type": "execute_result",
          "data": {
            "text/plain": [
              "(454, 32)"
            ]
          },
          "metadata": {},
          "execution_count": 186
        }
      ]
    },
    {
      "cell_type": "code",
      "metadata": {
        "id": "RXVDcwDyFgR9"
      },
      "source": [
        "X = trainData[trainData.columns[2:32]]"
      ],
      "execution_count": 187,
      "outputs": []
    },
    {
      "cell_type": "code",
      "metadata": {
        "id": "WP0gp2FxFout"
      },
      "source": [
        "y_before = trainData[[\"diagnosis\"]]"
      ],
      "execution_count": 188,
      "outputs": []
    },
    {
      "cell_type": "code",
      "metadata": {
        "id": "nnAw4cfEFqRn"
      },
      "source": [
        "y = y_before.replace(['B','M'],[0,1])"
      ],
      "execution_count": 189,
      "outputs": []
    },
    {
      "cell_type": "code",
      "metadata": {
        "colab": {
          "base_uri": "https://localhost:8080/",
          "height": 110
        },
        "id": "wRXczcWTGKIX",
        "outputId": "e3b7c0d8-a03b-4c6e-e708-e13d256264fc"
      },
      "source": [
        "y.head(2)"
      ],
      "execution_count": 190,
      "outputs": [
        {
          "output_type": "execute_result",
          "data": {
            "text/html": [
              "<div>\n",
              "<style scoped>\n",
              "    .dataframe tbody tr th:only-of-type {\n",
              "        vertical-align: middle;\n",
              "    }\n",
              "\n",
              "    .dataframe tbody tr th {\n",
              "        vertical-align: top;\n",
              "    }\n",
              "\n",
              "    .dataframe thead th {\n",
              "        text-align: right;\n",
              "    }\n",
              "</style>\n",
              "<table border=\"1\" class=\"dataframe\">\n",
              "  <thead>\n",
              "    <tr style=\"text-align: right;\">\n",
              "      <th></th>\n",
              "      <th>diagnosis</th>\n",
              "    </tr>\n",
              "  </thead>\n",
              "  <tbody>\n",
              "    <tr>\n",
              "      <th>0</th>\n",
              "      <td>0</td>\n",
              "    </tr>\n",
              "    <tr>\n",
              "      <th>1</th>\n",
              "      <td>0</td>\n",
              "    </tr>\n",
              "  </tbody>\n",
              "</table>\n",
              "</div>"
            ],
            "text/plain": [
              "   diagnosis\n",
              "0          0\n",
              "1          0"
            ]
          },
          "metadata": {},
          "execution_count": 190
        }
      ]
    },
    {
      "cell_type": "code",
      "metadata": {
        "colab": {
          "base_uri": "https://localhost:8080/"
        },
        "id": "0dliyN8jHS5g",
        "outputId": "444972a8-b8c9-45ee-ced8-2d1ca57536f0"
      },
      "source": [
        "print(X.shape)\n",
        "print(y.shape)"
      ],
      "execution_count": 191,
      "outputs": [
        {
          "output_type": "stream",
          "name": "stdout",
          "text": [
            "(454, 30)\n",
            "(454, 1)\n"
          ]
        }
      ]
    },
    {
      "cell_type": "code",
      "metadata": {
        "id": "MblsJNIJGs2J"
      },
      "source": [
        "from sklearn.model_selection import train_test_split"
      ],
      "execution_count": 192,
      "outputs": []
    },
    {
      "cell_type": "code",
      "metadata": {
        "id": "jCv1dxsxG_g1"
      },
      "source": [
        "X_train, X_test, y_train, y_test = train_test_split(X,y, random_state=42)"
      ],
      "execution_count": 193,
      "outputs": []
    },
    {
      "cell_type": "code",
      "metadata": {
        "id": "sIFjKZUjHtYR"
      },
      "source": [
        "from sklearn.preprocessing import MinMaxScaler\n",
        "mms = MinMaxScaler()\n",
        "mms.fit(X_train)\n",
        "X_train_scaled = mms.transform(X_train)\n",
        "X_test_sacled = mms.transform(X_test)"
      ],
      "execution_count": 194,
      "outputs": []
    },
    {
      "cell_type": "code",
      "metadata": {
        "id": "vZqZJ5oIHI9l"
      },
      "source": [
        "from sklearn.ensemble import RandomForestClassifier"
      ],
      "execution_count": 195,
      "outputs": []
    },
    {
      "cell_type": "code",
      "metadata": {
        "id": "-8CeuTUqHnI3"
      },
      "source": [
        "model = RandomForestClassifier(random_state=42)"
      ],
      "execution_count": 196,
      "outputs": []
    },
    {
      "cell_type": "code",
      "metadata": {
        "colab": {
          "base_uri": "https://localhost:8080/"
        },
        "id": "SoEXVRmmHrVT",
        "outputId": "46860053-c47c-4d8f-cf1a-18b9b88dc73e"
      },
      "source": [
        "model.fit(X_train_scaled, y_train)"
      ],
      "execution_count": 197,
      "outputs": [
        {
          "output_type": "stream",
          "name": "stderr",
          "text": [
            "/usr/local/lib/python3.7/dist-packages/ipykernel_launcher.py:1: DataConversionWarning: A column-vector y was passed when a 1d array was expected. Please change the shape of y to (n_samples,), for example using ravel().\n",
            "  \"\"\"Entry point for launching an IPython kernel.\n"
          ]
        },
        {
          "output_type": "execute_result",
          "data": {
            "text/plain": [
              "RandomForestClassifier(random_state=42)"
            ]
          },
          "metadata": {},
          "execution_count": 197
        }
      ]
    },
    {
      "cell_type": "code",
      "metadata": {
        "id": "nbqVm0H1H_mk"
      },
      "source": [
        "pred_train = model.predict(X_train_scaled)\n",
        "pred_test = model.predict(X_test_sacled)"
      ],
      "execution_count": 198,
      "outputs": []
    },
    {
      "cell_type": "code",
      "metadata": {
        "id": "AYD1wbe0IHUX"
      },
      "source": [
        "from sklearn.metrics import f1_score"
      ],
      "execution_count": 199,
      "outputs": []
    },
    {
      "cell_type": "code",
      "metadata": {
        "id": "sf65PKHzIWej"
      },
      "source": [
        "f1_train = f1_score(y_train, pred_train)\n",
        "f1_test = f1_score(y_test, pred_test)"
      ],
      "execution_count": 200,
      "outputs": []
    },
    {
      "cell_type": "code",
      "metadata": {
        "colab": {
          "base_uri": "https://localhost:8080/"
        },
        "id": "P1ZaErjbIfT0",
        "outputId": "03c7d4eb-7131-425a-b64c-dcc00957f254"
      },
      "source": [
        "print(f1_train)\n",
        "print(f1_test)"
      ],
      "execution_count": 201,
      "outputs": [
        {
          "output_type": "stream",
          "name": "stdout",
          "text": [
            "1.0\n",
            "0.9494949494949494\n"
          ]
        }
      ]
    },
    {
      "cell_type": "code",
      "metadata": {
        "colab": {
          "base_uri": "https://localhost:8080/"
        },
        "id": "yZGbBSSLIiSq",
        "outputId": "ac89cd22-b9b4-4ced-fe2d-51ffaf337194"
      },
      "source": [
        "testData.shape"
      ],
      "execution_count": 202,
      "outputs": [
        {
          "output_type": "execute_result",
          "data": {
            "text/plain": [
              "(115, 31)"
            ]
          },
          "metadata": {},
          "execution_count": 202
        }
      ]
    },
    {
      "cell_type": "code",
      "metadata": {
        "id": "bHy8YY8cIvCR"
      },
      "source": [
        "sub_raw = testData[testData.columns[1:31]]"
      ],
      "execution_count": 203,
      "outputs": []
    },
    {
      "cell_type": "code",
      "metadata": {
        "id": "CYaj_3fhKcdO"
      },
      "source": [
        "sub_ready = mms.transform(sub_raw)"
      ],
      "execution_count": 205,
      "outputs": []
    },
    {
      "cell_type": "code",
      "metadata": {
        "id": "xV3vaWTnI683"
      },
      "source": [
        "sub_data = model.predict(sub_ready)"
      ],
      "execution_count": 206,
      "outputs": []
    },
    {
      "cell_type": "code",
      "metadata": {
        "colab": {
          "base_uri": "https://localhost:8080/"
        },
        "id": "IyaK5uIpJBTr",
        "outputId": "c72d936a-9639-4e5a-ff7f-d4739d40b4ec"
      },
      "source": [
        "sub_data[0:20]"
      ],
      "execution_count": 207,
      "outputs": [
        {
          "output_type": "execute_result",
          "data": {
            "text/plain": [
              "array([0, 0, 0, 0, 1, 0, 1, 0, 0, 1, 1, 0, 1, 1, 1, 1, 0, 0, 0, 1])"
            ]
          },
          "metadata": {},
          "execution_count": 207
        }
      ]
    },
    {
      "cell_type": "code",
      "metadata": {
        "id": "CIchlTBiJDLf"
      },
      "source": [
        "subData['0'] = sub_data"
      ],
      "execution_count": 208,
      "outputs": []
    },
    {
      "cell_type": "code",
      "metadata": {
        "colab": {
          "base_uri": "https://localhost:8080/",
          "height": 110
        },
        "id": "xufcZ1C8JJfc",
        "outputId": "2b15d1ff-0d45-458d-c3a2-a51db05747a0"
      },
      "source": [
        "subData.head(2)"
      ],
      "execution_count": 209,
      "outputs": [
        {
          "output_type": "execute_result",
          "data": {
            "text/html": [
              "<div>\n",
              "<style scoped>\n",
              "    .dataframe tbody tr th:only-of-type {\n",
              "        vertical-align: middle;\n",
              "    }\n",
              "\n",
              "    .dataframe tbody tr th {\n",
              "        vertical-align: top;\n",
              "    }\n",
              "\n",
              "    .dataframe thead th {\n",
              "        text-align: right;\n",
              "    }\n",
              "</style>\n",
              "<table border=\"1\" class=\"dataframe\">\n",
              "  <thead>\n",
              "    <tr style=\"text-align: right;\">\n",
              "      <th></th>\n",
              "      <th>0</th>\n",
              "    </tr>\n",
              "  </thead>\n",
              "  <tbody>\n",
              "    <tr>\n",
              "      <th>0</th>\n",
              "      <td>0</td>\n",
              "    </tr>\n",
              "    <tr>\n",
              "      <th>1</th>\n",
              "      <td>0</td>\n",
              "    </tr>\n",
              "  </tbody>\n",
              "</table>\n",
              "</div>"
            ],
            "text/plain": [
              "   0\n",
              "0  0\n",
              "1  0"
            ]
          },
          "metadata": {},
          "execution_count": 209
        }
      ]
    },
    {
      "cell_type": "code",
      "metadata": {
        "id": "uMCqoKWwJO_Z"
      },
      "source": [
        "subData.to_csv('submisson.csv', index=False)"
      ],
      "execution_count": 210,
      "outputs": []
    },
    {
      "cell_type": "code",
      "metadata": {
        "id": "eQe32klBKQln"
      },
      "source": [
        ""
      ],
      "execution_count": null,
      "outputs": []
    }
  ]
}