{
  "nbformat": 4,
  "nbformat_minor": 0,
  "metadata": {
    "colab": {
      "name": "YG_week3.ipynb",
      "provenance": [],
      "collapsed_sections": [
        "FOeTRGbMpwYp",
        "-tvH0Qjbp4Ys",
        "OOkGo4tmqZvF"
      ],
      "authorship_tag": "ABX9TyNMpZaBPwLlbJEV86jeqzsB",
      "include_colab_link": true
    },
    "kernelspec": {
      "name": "python3",
      "display_name": "Python 3"
    },
    "language_info": {
      "name": "python"
    }
  },
  "cells": [
    {
      "cell_type": "markdown",
      "metadata": {
        "id": "view-in-github",
        "colab_type": "text"
      },
      "source": [
        "<a href=\"https://colab.research.google.com/github/holdenkim/YG/blob/main/YG_week3.ipynb\" target=\"_parent\"><img src=\"https://colab.research.google.com/assets/colab-badge.svg\" alt=\"Open In Colab\"/></a>"
      ]
    },
    {
      "cell_type": "markdown",
      "metadata": {
        "id": "FOeTRGbMpwYp"
      },
      "source": [
        "#3주차 실기 유형 1 첫번째"
      ]
    },
    {
      "cell_type": "code",
      "metadata": {
        "id": "WO8rswKq7fnj"
      },
      "source": [
        "import pandas as pd"
      ],
      "execution_count": null,
      "outputs": []
    },
    {
      "cell_type": "code",
      "metadata": {
        "id": "una0VL-w7hrz"
      },
      "source": [
        "data = pd.read_csv('https://raw.githubusercontent.com/Datamanim/datarepo/main/insurance/train.csv')"
      ],
      "execution_count": null,
      "outputs": []
    },
    {
      "cell_type": "markdown",
      "metadata": {
        "id": "dvMP1M_D7mQ-"
      },
      "source": [
        " Vehicle_Age 값이 2년이상인 사람들 중 Annual_Premium 값이 해당 그룹의 중간값 이상인 사람들을 찾고, 그들의 Vintage값의 평균을 구하여라"
      ]
    },
    {
      "cell_type": "code",
      "metadata": {
        "colab": {
          "base_uri": "https://localhost:8080/"
        },
        "id": "QF7XSeDOt1U9",
        "outputId": "ee1c45cc-0874-478a-f2cf-c320cd79b121"
      },
      "source": [
        "data.info()"
      ],
      "execution_count": null,
      "outputs": [
        {
          "output_type": "stream",
          "name": "stdout",
          "text": [
            "<class 'pandas.core.frame.DataFrame'>\n",
            "RangeIndex: 304887 entries, 0 to 304886\n",
            "Data columns (total 12 columns):\n",
            " #   Column                Non-Null Count   Dtype  \n",
            "---  ------                --------------   -----  \n",
            " 0   id                    304887 non-null  int64  \n",
            " 1   Gender                304887 non-null  object \n",
            " 2   Age                   304887 non-null  int64  \n",
            " 3   Driving_License       304887 non-null  int64  \n",
            " 4   Region_Code           304887 non-null  float64\n",
            " 5   Previously_Insured    304887 non-null  int64  \n",
            " 6   Vehicle_Age           304887 non-null  object \n",
            " 7   Vehicle_Damage        304887 non-null  object \n",
            " 8   Annual_Premium        304887 non-null  float64\n",
            " 9   Policy_Sales_Channel  304887 non-null  float64\n",
            " 10  Vintage               304887 non-null  int64  \n",
            " 11  Response              304887 non-null  int64  \n",
            "dtypes: float64(3), int64(6), object(3)\n",
            "memory usage: 27.9+ MB\n"
          ]
        }
      ]
    },
    {
      "cell_type": "code",
      "metadata": {
        "colab": {
          "base_uri": "https://localhost:8080/"
        },
        "id": "1y2eeDFp7lkH",
        "outputId": "7cb68b9b-314c-4021-9213-ed1848f09fb2"
      },
      "source": [
        "data.value_counts()"
      ],
      "execution_count": null,
      "outputs": [
        {
          "output_type": "execute_result",
          "data": {
            "text/plain": [
              "id      Gender  Age  Driving_License  Region_Code  Previously_Insured  Vehicle_Age  Vehicle_Damage  Annual_Premium  Policy_Sales_Channel  Vintage  Response\n",
              "381108  Female  68   1                14.0         0                   > 2 Years    Yes             44617.0         124.0                 74       0           1\n",
              "127057  Male    25   1                26.0         0                   < 1 Year     Yes             26299.0         160.0                 298      0           1\n",
              "127061  Male    25   1                5.0          1                   < 1 Year     No              50212.0         152.0                 78       0           1\n",
              "127064  Female  24   1                29.0         1                   < 1 Year     No              38992.0         152.0                 237      0           1\n",
              "127065  Female  29   1                30.0         1                   < 1 Year     No              30747.0         152.0                 237      0           1\n",
              "                                                                                                                                                              ..\n",
              "254160  Male    42   1                22.0         0                   1-2 Year     Yes             2630.0          157.0                 61       0           1\n",
              "254161  Female  28   1                37.0         0                   < 1 Year     No              2630.0          160.0                 275      0           1\n",
              "254162  Female  38   1                30.0         0                   1-2 Year     Yes             2630.0          157.0                 262      0           1\n",
              "254163  Male    54   1                20.0         0                   1-2 Year     Yes             2630.0          157.0                 203      0           1\n",
              "1       Male    44   1                28.0         0                   > 2 Years    Yes             40454.0         26.0                  217      1           1\n",
              "Length: 304887, dtype: int64"
            ]
          },
          "metadata": {},
          "execution_count": 64
        }
      ]
    },
    {
      "cell_type": "code",
      "metadata": {
        "colab": {
          "base_uri": "https://localhost:8080/",
          "height": 112
        },
        "id": "eulxYTPZt6cI",
        "outputId": "ed4f19c1-ae1a-40f8-990d-d17ba0be61ef"
      },
      "source": [
        "data.head(2)"
      ],
      "execution_count": null,
      "outputs": [
        {
          "output_type": "execute_result",
          "data": {
            "text/html": [
              "<div>\n",
              "<style scoped>\n",
              "    .dataframe tbody tr th:only-of-type {\n",
              "        vertical-align: middle;\n",
              "    }\n",
              "\n",
              "    .dataframe tbody tr th {\n",
              "        vertical-align: top;\n",
              "    }\n",
              "\n",
              "    .dataframe thead th {\n",
              "        text-align: right;\n",
              "    }\n",
              "</style>\n",
              "<table border=\"1\" class=\"dataframe\">\n",
              "  <thead>\n",
              "    <tr style=\"text-align: right;\">\n",
              "      <th></th>\n",
              "      <th>id</th>\n",
              "      <th>Gender</th>\n",
              "      <th>Age</th>\n",
              "      <th>Driving_License</th>\n",
              "      <th>Region_Code</th>\n",
              "      <th>Previously_Insured</th>\n",
              "      <th>Vehicle_Age</th>\n",
              "      <th>Vehicle_Damage</th>\n",
              "      <th>Annual_Premium</th>\n",
              "      <th>Policy_Sales_Channel</th>\n",
              "      <th>Vintage</th>\n",
              "      <th>Response</th>\n",
              "    </tr>\n",
              "  </thead>\n",
              "  <tbody>\n",
              "    <tr>\n",
              "      <th>0</th>\n",
              "      <td>188957</td>\n",
              "      <td>Female</td>\n",
              "      <td>25</td>\n",
              "      <td>1</td>\n",
              "      <td>17.0</td>\n",
              "      <td>1</td>\n",
              "      <td>&lt; 1 Year</td>\n",
              "      <td>No</td>\n",
              "      <td>38785.0</td>\n",
              "      <td>152.0</td>\n",
              "      <td>59</td>\n",
              "      <td>0</td>\n",
              "    </tr>\n",
              "    <tr>\n",
              "      <th>1</th>\n",
              "      <td>275631</td>\n",
              "      <td>Male</td>\n",
              "      <td>20</td>\n",
              "      <td>1</td>\n",
              "      <td>22.0</td>\n",
              "      <td>0</td>\n",
              "      <td>&lt; 1 Year</td>\n",
              "      <td>No</td>\n",
              "      <td>2630.0</td>\n",
              "      <td>160.0</td>\n",
              "      <td>113</td>\n",
              "      <td>0</td>\n",
              "    </tr>\n",
              "  </tbody>\n",
              "</table>\n",
              "</div>"
            ],
            "text/plain": [
              "       id  Gender  Age  ...  Policy_Sales_Channel  Vintage  Response\n",
              "0  188957  Female   25  ...                 152.0       59         0\n",
              "1  275631    Male   20  ...                 160.0      113         0\n",
              "\n",
              "[2 rows x 12 columns]"
            ]
          },
          "metadata": {},
          "execution_count": 65
        }
      ]
    },
    {
      "cell_type": "code",
      "metadata": {
        "colab": {
          "base_uri": "https://localhost:8080/",
          "height": 423
        },
        "id": "DGevGh4m7ovZ",
        "outputId": "b3350617-4362-4863-af94-db34a6eec799"
      },
      "source": [
        "data[(data.Vehicle_Age == ('> 2 Years')) & (data.Annual_Premium >= data.Annual_Premium.median())]"
      ],
      "execution_count": null,
      "outputs": [
        {
          "output_type": "execute_result",
          "data": {
            "text/html": [
              "<div>\n",
              "<style scoped>\n",
              "    .dataframe tbody tr th:only-of-type {\n",
              "        vertical-align: middle;\n",
              "    }\n",
              "\n",
              "    .dataframe tbody tr th {\n",
              "        vertical-align: top;\n",
              "    }\n",
              "\n",
              "    .dataframe thead th {\n",
              "        text-align: right;\n",
              "    }\n",
              "</style>\n",
              "<table border=\"1\" class=\"dataframe\">\n",
              "  <thead>\n",
              "    <tr style=\"text-align: right;\">\n",
              "      <th></th>\n",
              "      <th>id</th>\n",
              "      <th>Gender</th>\n",
              "      <th>Age</th>\n",
              "      <th>Driving_License</th>\n",
              "      <th>Region_Code</th>\n",
              "      <th>Previously_Insured</th>\n",
              "      <th>Vehicle_Age</th>\n",
              "      <th>Vehicle_Damage</th>\n",
              "      <th>Annual_Premium</th>\n",
              "      <th>Policy_Sales_Channel</th>\n",
              "      <th>Vintage</th>\n",
              "      <th>Response</th>\n",
              "    </tr>\n",
              "  </thead>\n",
              "  <tbody>\n",
              "    <tr>\n",
              "      <th>11</th>\n",
              "      <td>39234</td>\n",
              "      <td>Male</td>\n",
              "      <td>65</td>\n",
              "      <td>1</td>\n",
              "      <td>28.0</td>\n",
              "      <td>0</td>\n",
              "      <td>&gt; 2 Years</td>\n",
              "      <td>Yes</td>\n",
              "      <td>41403.0</td>\n",
              "      <td>122.0</td>\n",
              "      <td>254</td>\n",
              "      <td>0</td>\n",
              "    </tr>\n",
              "    <tr>\n",
              "      <th>55</th>\n",
              "      <td>219321</td>\n",
              "      <td>Female</td>\n",
              "      <td>74</td>\n",
              "      <td>1</td>\n",
              "      <td>28.0</td>\n",
              "      <td>0</td>\n",
              "      <td>&gt; 2 Years</td>\n",
              "      <td>Yes</td>\n",
              "      <td>51430.0</td>\n",
              "      <td>26.0</td>\n",
              "      <td>197</td>\n",
              "      <td>0</td>\n",
              "    </tr>\n",
              "    <tr>\n",
              "      <th>71</th>\n",
              "      <td>48023</td>\n",
              "      <td>Female</td>\n",
              "      <td>48</td>\n",
              "      <td>1</td>\n",
              "      <td>28.0</td>\n",
              "      <td>0</td>\n",
              "      <td>&gt; 2 Years</td>\n",
              "      <td>Yes</td>\n",
              "      <td>66444.0</td>\n",
              "      <td>26.0</td>\n",
              "      <td>36</td>\n",
              "      <td>0</td>\n",
              "    </tr>\n",
              "    <tr>\n",
              "      <th>72</th>\n",
              "      <td>13025</td>\n",
              "      <td>Male</td>\n",
              "      <td>47</td>\n",
              "      <td>1</td>\n",
              "      <td>28.0</td>\n",
              "      <td>0</td>\n",
              "      <td>&gt; 2 Years</td>\n",
              "      <td>Yes</td>\n",
              "      <td>47506.0</td>\n",
              "      <td>124.0</td>\n",
              "      <td>148</td>\n",
              "      <td>1</td>\n",
              "    </tr>\n",
              "    <tr>\n",
              "      <th>144</th>\n",
              "      <td>91149</td>\n",
              "      <td>Male</td>\n",
              "      <td>46</td>\n",
              "      <td>1</td>\n",
              "      <td>8.0</td>\n",
              "      <td>0</td>\n",
              "      <td>&gt; 2 Years</td>\n",
              "      <td>Yes</td>\n",
              "      <td>34768.0</td>\n",
              "      <td>26.0</td>\n",
              "      <td>31</td>\n",
              "      <td>0</td>\n",
              "    </tr>\n",
              "    <tr>\n",
              "      <th>...</th>\n",
              "      <td>...</td>\n",
              "      <td>...</td>\n",
              "      <td>...</td>\n",
              "      <td>...</td>\n",
              "      <td>...</td>\n",
              "      <td>...</td>\n",
              "      <td>...</td>\n",
              "      <td>...</td>\n",
              "      <td>...</td>\n",
              "      <td>...</td>\n",
              "      <td>...</td>\n",
              "      <td>...</td>\n",
              "    </tr>\n",
              "    <tr>\n",
              "      <th>304789</th>\n",
              "      <td>105172</td>\n",
              "      <td>Male</td>\n",
              "      <td>68</td>\n",
              "      <td>1</td>\n",
              "      <td>28.0</td>\n",
              "      <td>0</td>\n",
              "      <td>&gt; 2 Years</td>\n",
              "      <td>Yes</td>\n",
              "      <td>56124.0</td>\n",
              "      <td>26.0</td>\n",
              "      <td>18</td>\n",
              "      <td>0</td>\n",
              "    </tr>\n",
              "    <tr>\n",
              "      <th>304811</th>\n",
              "      <td>15285</td>\n",
              "      <td>Male</td>\n",
              "      <td>44</td>\n",
              "      <td>1</td>\n",
              "      <td>28.0</td>\n",
              "      <td>0</td>\n",
              "      <td>&gt; 2 Years</td>\n",
              "      <td>Yes</td>\n",
              "      <td>45614.0</td>\n",
              "      <td>26.0</td>\n",
              "      <td>238</td>\n",
              "      <td>0</td>\n",
              "    </tr>\n",
              "    <tr>\n",
              "      <th>304815</th>\n",
              "      <td>64939</td>\n",
              "      <td>Male</td>\n",
              "      <td>59</td>\n",
              "      <td>1</td>\n",
              "      <td>28.0</td>\n",
              "      <td>0</td>\n",
              "      <td>&gt; 2 Years</td>\n",
              "      <td>Yes</td>\n",
              "      <td>49092.0</td>\n",
              "      <td>26.0</td>\n",
              "      <td>80</td>\n",
              "      <td>1</td>\n",
              "    </tr>\n",
              "    <tr>\n",
              "      <th>304818</th>\n",
              "      <td>133703</td>\n",
              "      <td>Male</td>\n",
              "      <td>57</td>\n",
              "      <td>1</td>\n",
              "      <td>41.0</td>\n",
              "      <td>0</td>\n",
              "      <td>&gt; 2 Years</td>\n",
              "      <td>Yes</td>\n",
              "      <td>37758.0</td>\n",
              "      <td>124.0</td>\n",
              "      <td>292</td>\n",
              "      <td>0</td>\n",
              "    </tr>\n",
              "    <tr>\n",
              "      <th>304823</th>\n",
              "      <td>339208</td>\n",
              "      <td>Male</td>\n",
              "      <td>63</td>\n",
              "      <td>1</td>\n",
              "      <td>28.0</td>\n",
              "      <td>0</td>\n",
              "      <td>&gt; 2 Years</td>\n",
              "      <td>Yes</td>\n",
              "      <td>32132.0</td>\n",
              "      <td>26.0</td>\n",
              "      <td>180</td>\n",
              "      <td>0</td>\n",
              "    </tr>\n",
              "  </tbody>\n",
              "</table>\n",
              "<p>8571 rows × 12 columns</p>\n",
              "</div>"
            ],
            "text/plain": [
              "            id  Gender  Age  ...  Policy_Sales_Channel  Vintage  Response\n",
              "11       39234    Male   65  ...                 122.0      254         0\n",
              "55      219321  Female   74  ...                  26.0      197         0\n",
              "71       48023  Female   48  ...                  26.0       36         0\n",
              "72       13025    Male   47  ...                 124.0      148         1\n",
              "144      91149    Male   46  ...                  26.0       31         0\n",
              "...        ...     ...  ...  ...                   ...      ...       ...\n",
              "304789  105172    Male   68  ...                  26.0       18         0\n",
              "304811   15285    Male   44  ...                  26.0      238         0\n",
              "304815   64939    Male   59  ...                  26.0       80         1\n",
              "304818  133703    Male   57  ...                 124.0      292         0\n",
              "304823  339208    Male   63  ...                  26.0      180         0\n",
              "\n",
              "[8571 rows x 12 columns]"
            ]
          },
          "metadata": {},
          "execution_count": 67
        }
      ]
    },
    {
      "cell_type": "code",
      "metadata": {
        "colab": {
          "base_uri": "https://localhost:8080/"
        },
        "id": "O0Hz032R7zQl",
        "outputId": "8e85e250-a88e-4964-8147-d89fe431d0cc"
      },
      "source": [
        "data[(data.Vehicle_Age == ('> 2 Years')) & (data.Annual_Premium >= data.Annual_Premium.median())].Vintage.mean()"
      ],
      "execution_count": null,
      "outputs": [
        {
          "output_type": "execute_result",
          "data": {
            "text/plain": [
              "154.43647182359118"
            ]
          },
          "metadata": {},
          "execution_count": 68
        }
      ]
    },
    {
      "cell_type": "markdown",
      "metadata": {
        "id": "bSO-4P9i-z6d"
      },
      "source": [
        "vehicle_age에 따른 각 성별(gender)그룹의 Annual_Premium값의 평균을 구하여 아래 테이블과 동일하게 구현하라\n"
      ]
    },
    {
      "cell_type": "code",
      "metadata": {
        "id": "XhQGQ3T68NQ5"
      },
      "source": [
        "data_AP = data.groupby(['Vehicle_Age','Gender'], as_index=False)['Annual_Premium'].mean()"
      ],
      "execution_count": null,
      "outputs": []
    },
    {
      "cell_type": "code",
      "metadata": {
        "colab": {
          "base_uri": "https://localhost:8080/",
          "height": 237
        },
        "id": "EXIuwEatBh9M",
        "outputId": "cebf2025-cf93-446d-ba20-d20dd5cca6bf"
      },
      "source": [
        "data_AP"
      ],
      "execution_count": null,
      "outputs": [
        {
          "output_type": "execute_result",
          "data": {
            "text/html": [
              "<div>\n",
              "<style scoped>\n",
              "    .dataframe tbody tr th:only-of-type {\n",
              "        vertical-align: middle;\n",
              "    }\n",
              "\n",
              "    .dataframe tbody tr th {\n",
              "        vertical-align: top;\n",
              "    }\n",
              "\n",
              "    .dataframe thead th {\n",
              "        text-align: right;\n",
              "    }\n",
              "</style>\n",
              "<table border=\"1\" class=\"dataframe\">\n",
              "  <thead>\n",
              "    <tr style=\"text-align: right;\">\n",
              "      <th></th>\n",
              "      <th>Vehicle_Age</th>\n",
              "      <th>Gender</th>\n",
              "      <th>Annual_Premium</th>\n",
              "    </tr>\n",
              "  </thead>\n",
              "  <tbody>\n",
              "    <tr>\n",
              "      <th>0</th>\n",
              "      <td>1-2 Year</td>\n",
              "      <td>Female</td>\n",
              "      <td>30762.245001</td>\n",
              "    </tr>\n",
              "    <tr>\n",
              "      <th>1</th>\n",
              "      <td>1-2 Year</td>\n",
              "      <td>Male</td>\n",
              "      <td>30413.088469</td>\n",
              "    </tr>\n",
              "    <tr>\n",
              "      <th>2</th>\n",
              "      <td>&lt; 1 Year</td>\n",
              "      <td>Female</td>\n",
              "      <td>29972.286702</td>\n",
              "    </tr>\n",
              "    <tr>\n",
              "      <th>3</th>\n",
              "      <td>&lt; 1 Year</td>\n",
              "      <td>Male</td>\n",
              "      <td>30310.982212</td>\n",
              "    </tr>\n",
              "    <tr>\n",
              "      <th>4</th>\n",
              "      <td>&gt; 2 Years</td>\n",
              "      <td>Female</td>\n",
              "      <td>36108.366374</td>\n",
              "    </tr>\n",
              "    <tr>\n",
              "      <th>5</th>\n",
              "      <td>&gt; 2 Years</td>\n",
              "      <td>Male</td>\n",
              "      <td>35303.870627</td>\n",
              "    </tr>\n",
              "  </tbody>\n",
              "</table>\n",
              "</div>"
            ],
            "text/plain": [
              "  Vehicle_Age  Gender  Annual_Premium\n",
              "0    1-2 Year  Female    30762.245001\n",
              "1    1-2 Year    Male    30413.088469\n",
              "2    < 1 Year  Female    29972.286702\n",
              "3    < 1 Year    Male    30310.982212\n",
              "4   > 2 Years  Female    36108.366374\n",
              "5   > 2 Years    Male    35303.870627"
            ]
          },
          "metadata": {},
          "execution_count": 74
        }
      ]
    },
    {
      "cell_type": "code",
      "metadata": {
        "id": "obY0RCq4_BUO"
      },
      "source": [
        "pivot = data_AP.pivot(index='Vehicle_Age', columns='Gender')"
      ],
      "execution_count": null,
      "outputs": []
    },
    {
      "cell_type": "code",
      "metadata": {
        "colab": {
          "base_uri": "https://localhost:8080/",
          "height": 206
        },
        "id": "eybtIoE0BfDN",
        "outputId": "4d4ef067-d041-4f08-e2b6-68ff1e92e82c"
      },
      "source": [
        "pivot"
      ],
      "execution_count": null,
      "outputs": [
        {
          "output_type": "execute_result",
          "data": {
            "text/html": [
              "<div>\n",
              "<style scoped>\n",
              "    .dataframe tbody tr th:only-of-type {\n",
              "        vertical-align: middle;\n",
              "    }\n",
              "\n",
              "    .dataframe tbody tr th {\n",
              "        vertical-align: top;\n",
              "    }\n",
              "\n",
              "    .dataframe thead tr th {\n",
              "        text-align: left;\n",
              "    }\n",
              "\n",
              "    .dataframe thead tr:last-of-type th {\n",
              "        text-align: right;\n",
              "    }\n",
              "</style>\n",
              "<table border=\"1\" class=\"dataframe\">\n",
              "  <thead>\n",
              "    <tr>\n",
              "      <th></th>\n",
              "      <th colspan=\"2\" halign=\"left\">Annual_Premium</th>\n",
              "    </tr>\n",
              "    <tr>\n",
              "      <th>Gender</th>\n",
              "      <th>Female</th>\n",
              "      <th>Male</th>\n",
              "    </tr>\n",
              "    <tr>\n",
              "      <th>Vehicle_Age</th>\n",
              "      <th></th>\n",
              "      <th></th>\n",
              "    </tr>\n",
              "  </thead>\n",
              "  <tbody>\n",
              "    <tr>\n",
              "      <th>1-2 Year</th>\n",
              "      <td>30762.245001</td>\n",
              "      <td>30413.088469</td>\n",
              "    </tr>\n",
              "    <tr>\n",
              "      <th>&lt; 1 Year</th>\n",
              "      <td>29972.286702</td>\n",
              "      <td>30310.982212</td>\n",
              "    </tr>\n",
              "    <tr>\n",
              "      <th>&gt; 2 Years</th>\n",
              "      <td>36108.366374</td>\n",
              "      <td>35303.870627</td>\n",
              "    </tr>\n",
              "  </tbody>\n",
              "</table>\n",
              "</div>"
            ],
            "text/plain": [
              "            Annual_Premium              \n",
              "Gender              Female          Male\n",
              "Vehicle_Age                             \n",
              "1-2 Year      30762.245001  30413.088469\n",
              "< 1 Year      29972.286702  30310.982212\n",
              "> 2 Years     36108.366374  35303.870627"
            ]
          },
          "metadata": {},
          "execution_count": 76
        }
      ]
    },
    {
      "cell_type": "markdown",
      "metadata": {
        "id": "-tvH0Qjbp4Ys"
      },
      "source": [
        "#3주차 실기 유형1 두번째"
      ]
    },
    {
      "cell_type": "code",
      "metadata": {
        "id": "KHQWVX6VBpeW"
      },
      "source": [
        "data = pd.read_csv('https://raw.githubusercontent.com/Datamanim/datarepo/main/mobile/train.csv')"
      ],
      "execution_count": null,
      "outputs": []
    },
    {
      "cell_type": "code",
      "metadata": {
        "colab": {
          "base_uri": "https://localhost:8080/",
          "height": 112
        },
        "id": "OekDiptRBzus",
        "outputId": "71663eb0-f5f7-4457-d64c-02b3f39e443a"
      },
      "source": [
        "data.head(2)"
      ],
      "execution_count": null,
      "outputs": [
        {
          "output_type": "execute_result",
          "data": {
            "text/html": [
              "<div>\n",
              "<style scoped>\n",
              "    .dataframe tbody tr th:only-of-type {\n",
              "        vertical-align: middle;\n",
              "    }\n",
              "\n",
              "    .dataframe tbody tr th {\n",
              "        vertical-align: top;\n",
              "    }\n",
              "\n",
              "    .dataframe thead th {\n",
              "        text-align: right;\n",
              "    }\n",
              "</style>\n",
              "<table border=\"1\" class=\"dataframe\">\n",
              "  <thead>\n",
              "    <tr style=\"text-align: right;\">\n",
              "      <th></th>\n",
              "      <th>battery_power</th>\n",
              "      <th>blue</th>\n",
              "      <th>clock_speed</th>\n",
              "      <th>dual_sim</th>\n",
              "      <th>fc</th>\n",
              "      <th>four_g</th>\n",
              "      <th>int_memory</th>\n",
              "      <th>m_dep</th>\n",
              "      <th>mobile_wt</th>\n",
              "      <th>n_cores</th>\n",
              "      <th>pc</th>\n",
              "      <th>px_height</th>\n",
              "      <th>px_width</th>\n",
              "      <th>ram</th>\n",
              "      <th>sc_h</th>\n",
              "      <th>sc_w</th>\n",
              "      <th>talk_time</th>\n",
              "      <th>three_g</th>\n",
              "      <th>touch_screen</th>\n",
              "      <th>wifi</th>\n",
              "      <th>price_range</th>\n",
              "    </tr>\n",
              "  </thead>\n",
              "  <tbody>\n",
              "    <tr>\n",
              "      <th>0</th>\n",
              "      <td>842</td>\n",
              "      <td>0</td>\n",
              "      <td>2.2</td>\n",
              "      <td>0</td>\n",
              "      <td>1</td>\n",
              "      <td>0</td>\n",
              "      <td>7</td>\n",
              "      <td>0.6</td>\n",
              "      <td>188</td>\n",
              "      <td>2</td>\n",
              "      <td>2</td>\n",
              "      <td>20</td>\n",
              "      <td>756</td>\n",
              "      <td>2549</td>\n",
              "      <td>9</td>\n",
              "      <td>7</td>\n",
              "      <td>19</td>\n",
              "      <td>0</td>\n",
              "      <td>0</td>\n",
              "      <td>1</td>\n",
              "      <td>1</td>\n",
              "    </tr>\n",
              "    <tr>\n",
              "      <th>1</th>\n",
              "      <td>1021</td>\n",
              "      <td>1</td>\n",
              "      <td>0.5</td>\n",
              "      <td>1</td>\n",
              "      <td>0</td>\n",
              "      <td>1</td>\n",
              "      <td>53</td>\n",
              "      <td>0.7</td>\n",
              "      <td>136</td>\n",
              "      <td>3</td>\n",
              "      <td>6</td>\n",
              "      <td>905</td>\n",
              "      <td>1988</td>\n",
              "      <td>2631</td>\n",
              "      <td>17</td>\n",
              "      <td>3</td>\n",
              "      <td>7</td>\n",
              "      <td>1</td>\n",
              "      <td>1</td>\n",
              "      <td>0</td>\n",
              "      <td>2</td>\n",
              "    </tr>\n",
              "  </tbody>\n",
              "</table>\n",
              "</div>"
            ],
            "text/plain": [
              "   battery_power  blue  clock_speed  ...  touch_screen  wifi  price_range\n",
              "0            842     0          2.2  ...             0     1            1\n",
              "1           1021     1          0.5  ...             1     0            2\n",
              "\n",
              "[2 rows x 21 columns]"
            ]
          },
          "metadata": {},
          "execution_count": 78
        }
      ]
    },
    {
      "cell_type": "markdown",
      "metadata": {
        "id": "2aiJ_GF_B3Sr"
      },
      "source": [
        "price_range로 그룹핑 하여 각 그룹의 n_core 빈도가 가장 높은 value와 그 빈도수를 구하여라"
      ]
    },
    {
      "cell_type": "code",
      "metadata": {
        "colab": {
          "base_uri": "https://localhost:8080/"
        },
        "id": "ZJxODAh_B3pX",
        "outputId": "37fc3f67-64a2-473f-f586-1460d05222ab"
      },
      "source": [
        "data.groupby('price_range')['n_cores'].sum().sort_values(ascending=False)"
      ],
      "execution_count": null,
      "outputs": [
        {
          "output_type": "execute_result",
          "data": {
            "text/plain": [
              "price_range\n",
              "2    2341\n",
              "0    2300\n",
              "3    2251\n",
              "1    2149\n",
              "Name: n_cores, dtype: int64"
            ]
          },
          "metadata": {},
          "execution_count": 79
        }
      ]
    },
    {
      "cell_type": "code",
      "metadata": {
        "colab": {
          "base_uri": "https://localhost:8080/"
        },
        "id": "0gBaWek4E6Qy",
        "outputId": "32a49a5f-d3a7-44fa-f120-048b01ae541e"
      },
      "source": [
        "data.groupby('price_range', as_index=False)['n_cores'].sum().sort_values('n_cores', ascending=False).iloc[0,:]"
      ],
      "execution_count": null,
      "outputs": [
        {
          "output_type": "execute_result",
          "data": {
            "text/plain": [
              "price_range       2\n",
              "n_cores        2341\n",
              "Name: 2, dtype: int64"
            ]
          },
          "metadata": {},
          "execution_count": 81
        }
      ]
    },
    {
      "cell_type": "markdown",
      "metadata": {
        "id": "haoNvQcgFtLf"
      },
      "source": [
        "price_range 3인 그룹에서 상관관계가 2번째로 높은 두 컬럼과 상관 계수를 구하라"
      ]
    },
    {
      "cell_type": "code",
      "metadata": {
        "colab": {
          "base_uri": "https://localhost:8080/",
          "height": 423
        },
        "id": "UFDg1GAaFZKZ",
        "outputId": "af2b0bda-b59a-4a21-d17b-25de62589511"
      },
      "source": [
        "data[(data['price_range']==3)]"
      ],
      "execution_count": null,
      "outputs": [
        {
          "output_type": "execute_result",
          "data": {
            "text/html": [
              "<div>\n",
              "<style scoped>\n",
              "    .dataframe tbody tr th:only-of-type {\n",
              "        vertical-align: middle;\n",
              "    }\n",
              "\n",
              "    .dataframe tbody tr th {\n",
              "        vertical-align: top;\n",
              "    }\n",
              "\n",
              "    .dataframe thead th {\n",
              "        text-align: right;\n",
              "    }\n",
              "</style>\n",
              "<table border=\"1\" class=\"dataframe\">\n",
              "  <thead>\n",
              "    <tr style=\"text-align: right;\">\n",
              "      <th></th>\n",
              "      <th>battery_power</th>\n",
              "      <th>blue</th>\n",
              "      <th>clock_speed</th>\n",
              "      <th>dual_sim</th>\n",
              "      <th>fc</th>\n",
              "      <th>four_g</th>\n",
              "      <th>int_memory</th>\n",
              "      <th>m_dep</th>\n",
              "      <th>mobile_wt</th>\n",
              "      <th>n_cores</th>\n",
              "      <th>pc</th>\n",
              "      <th>px_height</th>\n",
              "      <th>px_width</th>\n",
              "      <th>ram</th>\n",
              "      <th>sc_h</th>\n",
              "      <th>sc_w</th>\n",
              "      <th>talk_time</th>\n",
              "      <th>three_g</th>\n",
              "      <th>touch_screen</th>\n",
              "      <th>wifi</th>\n",
              "      <th>price_range</th>\n",
              "    </tr>\n",
              "  </thead>\n",
              "  <tbody>\n",
              "    <tr>\n",
              "      <th>6</th>\n",
              "      <td>1821</td>\n",
              "      <td>0</td>\n",
              "      <td>1.7</td>\n",
              "      <td>0</td>\n",
              "      <td>4</td>\n",
              "      <td>1</td>\n",
              "      <td>10</td>\n",
              "      <td>0.8</td>\n",
              "      <td>139</td>\n",
              "      <td>8</td>\n",
              "      <td>10</td>\n",
              "      <td>381</td>\n",
              "      <td>1018</td>\n",
              "      <td>3220</td>\n",
              "      <td>13</td>\n",
              "      <td>8</td>\n",
              "      <td>18</td>\n",
              "      <td>1</td>\n",
              "      <td>0</td>\n",
              "      <td>1</td>\n",
              "      <td>3</td>\n",
              "    </tr>\n",
              "    <tr>\n",
              "      <th>10</th>\n",
              "      <td>769</td>\n",
              "      <td>1</td>\n",
              "      <td>2.9</td>\n",
              "      <td>1</td>\n",
              "      <td>0</td>\n",
              "      <td>0</td>\n",
              "      <td>9</td>\n",
              "      <td>0.1</td>\n",
              "      <td>182</td>\n",
              "      <td>5</td>\n",
              "      <td>1</td>\n",
              "      <td>248</td>\n",
              "      <td>874</td>\n",
              "      <td>3946</td>\n",
              "      <td>5</td>\n",
              "      <td>2</td>\n",
              "      <td>7</td>\n",
              "      <td>0</td>\n",
              "      <td>0</td>\n",
              "      <td>0</td>\n",
              "      <td>3</td>\n",
              "    </tr>\n",
              "    <tr>\n",
              "      <th>11</th>\n",
              "      <td>1520</td>\n",
              "      <td>1</td>\n",
              "      <td>2.2</td>\n",
              "      <td>0</td>\n",
              "      <td>5</td>\n",
              "      <td>1</td>\n",
              "      <td>33</td>\n",
              "      <td>0.5</td>\n",
              "      <td>177</td>\n",
              "      <td>8</td>\n",
              "      <td>18</td>\n",
              "      <td>151</td>\n",
              "      <td>1005</td>\n",
              "      <td>3826</td>\n",
              "      <td>14</td>\n",
              "      <td>9</td>\n",
              "      <td>13</td>\n",
              "      <td>1</td>\n",
              "      <td>1</td>\n",
              "      <td>1</td>\n",
              "      <td>3</td>\n",
              "    </tr>\n",
              "    <tr>\n",
              "      <th>16</th>\n",
              "      <td>838</td>\n",
              "      <td>0</td>\n",
              "      <td>0.5</td>\n",
              "      <td>0</td>\n",
              "      <td>1</td>\n",
              "      <td>1</td>\n",
              "      <td>13</td>\n",
              "      <td>0.1</td>\n",
              "      <td>196</td>\n",
              "      <td>8</td>\n",
              "      <td>4</td>\n",
              "      <td>984</td>\n",
              "      <td>1850</td>\n",
              "      <td>3554</td>\n",
              "      <td>10</td>\n",
              "      <td>9</td>\n",
              "      <td>19</td>\n",
              "      <td>1</td>\n",
              "      <td>0</td>\n",
              "      <td>1</td>\n",
              "      <td>3</td>\n",
              "    </tr>\n",
              "    <tr>\n",
              "      <th>17</th>\n",
              "      <td>595</td>\n",
              "      <td>0</td>\n",
              "      <td>0.9</td>\n",
              "      <td>1</td>\n",
              "      <td>7</td>\n",
              "      <td>1</td>\n",
              "      <td>23</td>\n",
              "      <td>0.1</td>\n",
              "      <td>121</td>\n",
              "      <td>3</td>\n",
              "      <td>17</td>\n",
              "      <td>441</td>\n",
              "      <td>810</td>\n",
              "      <td>3752</td>\n",
              "      <td>10</td>\n",
              "      <td>2</td>\n",
              "      <td>18</td>\n",
              "      <td>1</td>\n",
              "      <td>1</td>\n",
              "      <td>0</td>\n",
              "      <td>3</td>\n",
              "    </tr>\n",
              "    <tr>\n",
              "      <th>...</th>\n",
              "      <td>...</td>\n",
              "      <td>...</td>\n",
              "      <td>...</td>\n",
              "      <td>...</td>\n",
              "      <td>...</td>\n",
              "      <td>...</td>\n",
              "      <td>...</td>\n",
              "      <td>...</td>\n",
              "      <td>...</td>\n",
              "      <td>...</td>\n",
              "      <td>...</td>\n",
              "      <td>...</td>\n",
              "      <td>...</td>\n",
              "      <td>...</td>\n",
              "      <td>...</td>\n",
              "      <td>...</td>\n",
              "      <td>...</td>\n",
              "      <td>...</td>\n",
              "      <td>...</td>\n",
              "      <td>...</td>\n",
              "      <td>...</td>\n",
              "    </tr>\n",
              "    <tr>\n",
              "      <th>1991</th>\n",
              "      <td>1882</td>\n",
              "      <td>0</td>\n",
              "      <td>2.0</td>\n",
              "      <td>0</td>\n",
              "      <td>11</td>\n",
              "      <td>1</td>\n",
              "      <td>44</td>\n",
              "      <td>0.8</td>\n",
              "      <td>113</td>\n",
              "      <td>8</td>\n",
              "      <td>19</td>\n",
              "      <td>4</td>\n",
              "      <td>743</td>\n",
              "      <td>3579</td>\n",
              "      <td>19</td>\n",
              "      <td>8</td>\n",
              "      <td>20</td>\n",
              "      <td>1</td>\n",
              "      <td>1</td>\n",
              "      <td>0</td>\n",
              "      <td>3</td>\n",
              "    </tr>\n",
              "    <tr>\n",
              "      <th>1993</th>\n",
              "      <td>1467</td>\n",
              "      <td>1</td>\n",
              "      <td>0.5</td>\n",
              "      <td>0</td>\n",
              "      <td>0</td>\n",
              "      <td>0</td>\n",
              "      <td>18</td>\n",
              "      <td>0.6</td>\n",
              "      <td>122</td>\n",
              "      <td>5</td>\n",
              "      <td>0</td>\n",
              "      <td>888</td>\n",
              "      <td>1099</td>\n",
              "      <td>3962</td>\n",
              "      <td>15</td>\n",
              "      <td>11</td>\n",
              "      <td>5</td>\n",
              "      <td>1</td>\n",
              "      <td>1</td>\n",
              "      <td>1</td>\n",
              "      <td>3</td>\n",
              "    </tr>\n",
              "    <tr>\n",
              "      <th>1994</th>\n",
              "      <td>858</td>\n",
              "      <td>0</td>\n",
              "      <td>2.2</td>\n",
              "      <td>0</td>\n",
              "      <td>1</td>\n",
              "      <td>0</td>\n",
              "      <td>50</td>\n",
              "      <td>0.1</td>\n",
              "      <td>84</td>\n",
              "      <td>1</td>\n",
              "      <td>2</td>\n",
              "      <td>528</td>\n",
              "      <td>1416</td>\n",
              "      <td>3978</td>\n",
              "      <td>17</td>\n",
              "      <td>16</td>\n",
              "      <td>3</td>\n",
              "      <td>1</td>\n",
              "      <td>1</td>\n",
              "      <td>0</td>\n",
              "      <td>3</td>\n",
              "    </tr>\n",
              "    <tr>\n",
              "      <th>1997</th>\n",
              "      <td>1911</td>\n",
              "      <td>0</td>\n",
              "      <td>0.9</td>\n",
              "      <td>1</td>\n",
              "      <td>1</td>\n",
              "      <td>1</td>\n",
              "      <td>36</td>\n",
              "      <td>0.7</td>\n",
              "      <td>108</td>\n",
              "      <td>8</td>\n",
              "      <td>3</td>\n",
              "      <td>868</td>\n",
              "      <td>1632</td>\n",
              "      <td>3057</td>\n",
              "      <td>9</td>\n",
              "      <td>1</td>\n",
              "      <td>5</td>\n",
              "      <td>1</td>\n",
              "      <td>1</td>\n",
              "      <td>0</td>\n",
              "      <td>3</td>\n",
              "    </tr>\n",
              "    <tr>\n",
              "      <th>1999</th>\n",
              "      <td>510</td>\n",
              "      <td>1</td>\n",
              "      <td>2.0</td>\n",
              "      <td>1</td>\n",
              "      <td>5</td>\n",
              "      <td>1</td>\n",
              "      <td>45</td>\n",
              "      <td>0.9</td>\n",
              "      <td>168</td>\n",
              "      <td>6</td>\n",
              "      <td>16</td>\n",
              "      <td>483</td>\n",
              "      <td>754</td>\n",
              "      <td>3919</td>\n",
              "      <td>19</td>\n",
              "      <td>4</td>\n",
              "      <td>2</td>\n",
              "      <td>1</td>\n",
              "      <td>1</td>\n",
              "      <td>1</td>\n",
              "      <td>3</td>\n",
              "    </tr>\n",
              "  </tbody>\n",
              "</table>\n",
              "<p>500 rows × 21 columns</p>\n",
              "</div>"
            ],
            "text/plain": [
              "      battery_power  blue  clock_speed  ...  touch_screen  wifi  price_range\n",
              "6              1821     0          1.7  ...             0     1            3\n",
              "10              769     1          2.9  ...             0     0            3\n",
              "11             1520     1          2.2  ...             1     1            3\n",
              "16              838     0          0.5  ...             0     1            3\n",
              "17              595     0          0.9  ...             1     0            3\n",
              "...             ...   ...          ...  ...           ...   ...          ...\n",
              "1991           1882     0          2.0  ...             1     0            3\n",
              "1993           1467     1          0.5  ...             1     1            3\n",
              "1994            858     0          2.2  ...             1     0            3\n",
              "1997           1911     0          0.9  ...             1     0            3\n",
              "1999            510     1          2.0  ...             1     1            3\n",
              "\n",
              "[500 rows x 21 columns]"
            ]
          },
          "metadata": {},
          "execution_count": 82
        }
      ]
    },
    {
      "cell_type": "code",
      "metadata": {
        "colab": {
          "base_uri": "https://localhost:8080/",
          "height": 707
        },
        "id": "tiNVUc9RHWRV",
        "outputId": "5e09b87d-3a11-4ff2-827d-6e62dc798cae"
      },
      "source": [
        "data[(data['price_range']==3)].corr()"
      ],
      "execution_count": null,
      "outputs": [
        {
          "output_type": "execute_result",
          "data": {
            "text/html": [
              "<div>\n",
              "<style scoped>\n",
              "    .dataframe tbody tr th:only-of-type {\n",
              "        vertical-align: middle;\n",
              "    }\n",
              "\n",
              "    .dataframe tbody tr th {\n",
              "        vertical-align: top;\n",
              "    }\n",
              "\n",
              "    .dataframe thead th {\n",
              "        text-align: right;\n",
              "    }\n",
              "</style>\n",
              "<table border=\"1\" class=\"dataframe\">\n",
              "  <thead>\n",
              "    <tr style=\"text-align: right;\">\n",
              "      <th></th>\n",
              "      <th>battery_power</th>\n",
              "      <th>blue</th>\n",
              "      <th>clock_speed</th>\n",
              "      <th>dual_sim</th>\n",
              "      <th>fc</th>\n",
              "      <th>four_g</th>\n",
              "      <th>int_memory</th>\n",
              "      <th>m_dep</th>\n",
              "      <th>mobile_wt</th>\n",
              "      <th>n_cores</th>\n",
              "      <th>pc</th>\n",
              "      <th>px_height</th>\n",
              "      <th>px_width</th>\n",
              "      <th>ram</th>\n",
              "      <th>sc_h</th>\n",
              "      <th>sc_w</th>\n",
              "      <th>talk_time</th>\n",
              "      <th>three_g</th>\n",
              "      <th>touch_screen</th>\n",
              "      <th>wifi</th>\n",
              "      <th>price_range</th>\n",
              "    </tr>\n",
              "  </thead>\n",
              "  <tbody>\n",
              "    <tr>\n",
              "      <th>battery_power</th>\n",
              "      <td>1.000000</td>\n",
              "      <td>-0.019588</td>\n",
              "      <td>-0.047833</td>\n",
              "      <td>-0.134352</td>\n",
              "      <td>0.083515</td>\n",
              "      <td>0.014355</td>\n",
              "      <td>-0.041099</td>\n",
              "      <td>0.033896</td>\n",
              "      <td>-0.002937</td>\n",
              "      <td>-0.066908</td>\n",
              "      <td>0.025482</td>\n",
              "      <td>-0.082547</td>\n",
              "      <td>-0.065939</td>\n",
              "      <td>-0.262759</td>\n",
              "      <td>-0.080752</td>\n",
              "      <td>-0.009713</td>\n",
              "      <td>0.086021</td>\n",
              "      <td>-0.020736</td>\n",
              "      <td>-0.033993</td>\n",
              "      <td>0.001345</td>\n",
              "      <td>NaN</td>\n",
              "    </tr>\n",
              "    <tr>\n",
              "      <th>blue</th>\n",
              "      <td>-0.019588</td>\n",
              "      <td>1.000000</td>\n",
              "      <td>0.074535</td>\n",
              "      <td>0.061992</td>\n",
              "      <td>0.031587</td>\n",
              "      <td>0.044653</td>\n",
              "      <td>-0.003080</td>\n",
              "      <td>-0.016718</td>\n",
              "      <td>-0.030398</td>\n",
              "      <td>-0.045381</td>\n",
              "      <td>0.024459</td>\n",
              "      <td>0.043505</td>\n",
              "      <td>-0.066695</td>\n",
              "      <td>0.010000</td>\n",
              "      <td>0.001807</td>\n",
              "      <td>0.065277</td>\n",
              "      <td>-0.072417</td>\n",
              "      <td>-0.032623</td>\n",
              "      <td>0.060329</td>\n",
              "      <td>0.010291</td>\n",
              "      <td>NaN</td>\n",
              "    </tr>\n",
              "    <tr>\n",
              "      <th>clock_speed</th>\n",
              "      <td>-0.047833</td>\n",
              "      <td>0.074535</td>\n",
              "      <td>1.000000</td>\n",
              "      <td>-0.042840</td>\n",
              "      <td>0.095757</td>\n",
              "      <td>-0.144051</td>\n",
              "      <td>-0.008301</td>\n",
              "      <td>-0.075859</td>\n",
              "      <td>0.036738</td>\n",
              "      <td>-0.052820</td>\n",
              "      <td>0.052912</td>\n",
              "      <td>0.046343</td>\n",
              "      <td>-0.011819</td>\n",
              "      <td>0.041331</td>\n",
              "      <td>0.047115</td>\n",
              "      <td>0.039579</td>\n",
              "      <td>-0.055842</td>\n",
              "      <td>-0.127549</td>\n",
              "      <td>0.010260</td>\n",
              "      <td>0.005814</td>\n",
              "      <td>NaN</td>\n",
              "    </tr>\n",
              "    <tr>\n",
              "      <th>dual_sim</th>\n",
              "      <td>-0.134352</td>\n",
              "      <td>0.061992</td>\n",
              "      <td>-0.042840</td>\n",
              "      <td>1.000000</td>\n",
              "      <td>-0.075681</td>\n",
              "      <td>-0.014096</td>\n",
              "      <td>-0.036384</td>\n",
              "      <td>-0.056753</td>\n",
              "      <td>-0.050991</td>\n",
              "      <td>-0.078633</td>\n",
              "      <td>-0.051248</td>\n",
              "      <td>-0.074033</td>\n",
              "      <td>-0.011231</td>\n",
              "      <td>0.094004</td>\n",
              "      <td>-0.067544</td>\n",
              "      <td>-0.041602</td>\n",
              "      <td>-0.078093</td>\n",
              "      <td>-0.076653</td>\n",
              "      <td>0.012503</td>\n",
              "      <td>-0.014924</td>\n",
              "      <td>NaN</td>\n",
              "    </tr>\n",
              "    <tr>\n",
              "      <th>fc</th>\n",
              "      <td>0.083515</td>\n",
              "      <td>0.031587</td>\n",
              "      <td>0.095757</td>\n",
              "      <td>-0.075681</td>\n",
              "      <td>1.000000</td>\n",
              "      <td>-0.053781</td>\n",
              "      <td>-0.039115</td>\n",
              "      <td>-0.042970</td>\n",
              "      <td>0.064398</td>\n",
              "      <td>-0.047587</td>\n",
              "      <td>0.635166</td>\n",
              "      <td>0.044692</td>\n",
              "      <td>-0.025624</td>\n",
              "      <td>-0.050382</td>\n",
              "      <td>0.016927</td>\n",
              "      <td>0.024985</td>\n",
              "      <td>-0.029785</td>\n",
              "      <td>-0.031470</td>\n",
              "      <td>0.067129</td>\n",
              "      <td>0.010370</td>\n",
              "      <td>NaN</td>\n",
              "    </tr>\n",
              "    <tr>\n",
              "      <th>four_g</th>\n",
              "      <td>0.014355</td>\n",
              "      <td>0.044653</td>\n",
              "      <td>-0.144051</td>\n",
              "      <td>-0.014096</td>\n",
              "      <td>-0.053781</td>\n",
              "      <td>1.000000</td>\n",
              "      <td>-0.000090</td>\n",
              "      <td>0.098571</td>\n",
              "      <td>0.038960</td>\n",
              "      <td>0.061228</td>\n",
              "      <td>-0.059680</td>\n",
              "      <td>-0.024102</td>\n",
              "      <td>0.002240</td>\n",
              "      <td>-0.006090</td>\n",
              "      <td>0.007722</td>\n",
              "      <td>0.059551</td>\n",
              "      <td>-0.056890</td>\n",
              "      <td>0.604218</td>\n",
              "      <td>0.069149</td>\n",
              "      <td>0.015294</td>\n",
              "      <td>NaN</td>\n",
              "    </tr>\n",
              "    <tr>\n",
              "      <th>int_memory</th>\n",
              "      <td>-0.041099</td>\n",
              "      <td>-0.003080</td>\n",
              "      <td>-0.008301</td>\n",
              "      <td>-0.036384</td>\n",
              "      <td>-0.039115</td>\n",
              "      <td>-0.000090</td>\n",
              "      <td>1.000000</td>\n",
              "      <td>0.011611</td>\n",
              "      <td>-0.057593</td>\n",
              "      <td>-0.033523</td>\n",
              "      <td>-0.046525</td>\n",
              "      <td>-0.008610</td>\n",
              "      <td>0.035620</td>\n",
              "      <td>-0.048515</td>\n",
              "      <td>0.070163</td>\n",
              "      <td>0.005320</td>\n",
              "      <td>-0.020160</td>\n",
              "      <td>-0.016917</td>\n",
              "      <td>0.060954</td>\n",
              "      <td>0.025998</td>\n",
              "      <td>NaN</td>\n",
              "    </tr>\n",
              "    <tr>\n",
              "      <th>m_dep</th>\n",
              "      <td>0.033896</td>\n",
              "      <td>-0.016718</td>\n",
              "      <td>-0.075859</td>\n",
              "      <td>-0.056753</td>\n",
              "      <td>-0.042970</td>\n",
              "      <td>0.098571</td>\n",
              "      <td>0.011611</td>\n",
              "      <td>1.000000</td>\n",
              "      <td>0.015905</td>\n",
              "      <td>0.005673</td>\n",
              "      <td>0.024424</td>\n",
              "      <td>-0.035808</td>\n",
              "      <td>-0.042339</td>\n",
              "      <td>-0.017574</td>\n",
              "      <td>-0.036196</td>\n",
              "      <td>-0.077183</td>\n",
              "      <td>0.037715</td>\n",
              "      <td>0.081976</td>\n",
              "      <td>0.037092</td>\n",
              "      <td>0.001044</td>\n",
              "      <td>NaN</td>\n",
              "    </tr>\n",
              "    <tr>\n",
              "      <th>mobile_wt</th>\n",
              "      <td>-0.002937</td>\n",
              "      <td>-0.030398</td>\n",
              "      <td>0.036738</td>\n",
              "      <td>-0.050991</td>\n",
              "      <td>0.064398</td>\n",
              "      <td>0.038960</td>\n",
              "      <td>-0.057593</td>\n",
              "      <td>0.015905</td>\n",
              "      <td>1.000000</td>\n",
              "      <td>-0.041840</td>\n",
              "      <td>0.046314</td>\n",
              "      <td>-0.003764</td>\n",
              "      <td>-0.004345</td>\n",
              "      <td>0.107730</td>\n",
              "      <td>0.010026</td>\n",
              "      <td>-0.013806</td>\n",
              "      <td>-0.013653</td>\n",
              "      <td>0.034039</td>\n",
              "      <td>0.010625</td>\n",
              "      <td>0.055018</td>\n",
              "      <td>NaN</td>\n",
              "    </tr>\n",
              "    <tr>\n",
              "      <th>n_cores</th>\n",
              "      <td>-0.066908</td>\n",
              "      <td>-0.045381</td>\n",
              "      <td>-0.052820</td>\n",
              "      <td>-0.078633</td>\n",
              "      <td>-0.047587</td>\n",
              "      <td>0.061228</td>\n",
              "      <td>-0.033523</td>\n",
              "      <td>0.005673</td>\n",
              "      <td>-0.041840</td>\n",
              "      <td>1.000000</td>\n",
              "      <td>-0.002674</td>\n",
              "      <td>0.038382</td>\n",
              "      <td>0.124608</td>\n",
              "      <td>-0.036159</td>\n",
              "      <td>-0.032997</td>\n",
              "      <td>-0.011491</td>\n",
              "      <td>0.029556</td>\n",
              "      <td>0.013938</td>\n",
              "      <td>0.000879</td>\n",
              "      <td>0.006066</td>\n",
              "      <td>NaN</td>\n",
              "    </tr>\n",
              "    <tr>\n",
              "      <th>pc</th>\n",
              "      <td>0.025482</td>\n",
              "      <td>0.024459</td>\n",
              "      <td>0.052912</td>\n",
              "      <td>-0.051248</td>\n",
              "      <td>0.635166</td>\n",
              "      <td>-0.059680</td>\n",
              "      <td>-0.046525</td>\n",
              "      <td>0.024424</td>\n",
              "      <td>0.046314</td>\n",
              "      <td>-0.002674</td>\n",
              "      <td>1.000000</td>\n",
              "      <td>0.000874</td>\n",
              "      <td>-0.050998</td>\n",
              "      <td>-0.015646</td>\n",
              "      <td>0.004423</td>\n",
              "      <td>-0.096039</td>\n",
              "      <td>0.010506</td>\n",
              "      <td>0.002541</td>\n",
              "      <td>0.042637</td>\n",
              "      <td>0.034056</td>\n",
              "      <td>NaN</td>\n",
              "    </tr>\n",
              "    <tr>\n",
              "      <th>px_height</th>\n",
              "      <td>-0.082547</td>\n",
              "      <td>0.043505</td>\n",
              "      <td>0.046343</td>\n",
              "      <td>-0.074033</td>\n",
              "      <td>0.044692</td>\n",
              "      <td>-0.024102</td>\n",
              "      <td>-0.008610</td>\n",
              "      <td>-0.035808</td>\n",
              "      <td>-0.003764</td>\n",
              "      <td>0.038382</td>\n",
              "      <td>0.000874</td>\n",
              "      <td>1.000000</td>\n",
              "      <td>0.538207</td>\n",
              "      <td>-0.238720</td>\n",
              "      <td>0.117225</td>\n",
              "      <td>0.048856</td>\n",
              "      <td>0.021954</td>\n",
              "      <td>-0.056407</td>\n",
              "      <td>-0.042087</td>\n",
              "      <td>0.081369</td>\n",
              "      <td>NaN</td>\n",
              "    </tr>\n",
              "    <tr>\n",
              "      <th>px_width</th>\n",
              "      <td>-0.065939</td>\n",
              "      <td>-0.066695</td>\n",
              "      <td>-0.011819</td>\n",
              "      <td>-0.011231</td>\n",
              "      <td>-0.025624</td>\n",
              "      <td>0.002240</td>\n",
              "      <td>0.035620</td>\n",
              "      <td>-0.042339</td>\n",
              "      <td>-0.004345</td>\n",
              "      <td>0.124608</td>\n",
              "      <td>-0.050998</td>\n",
              "      <td>0.538207</td>\n",
              "      <td>1.000000</td>\n",
              "      <td>-0.257496</td>\n",
              "      <td>0.079685</td>\n",
              "      <td>0.016369</td>\n",
              "      <td>0.027057</td>\n",
              "      <td>-0.029298</td>\n",
              "      <td>0.018708</td>\n",
              "      <td>0.078801</td>\n",
              "      <td>NaN</td>\n",
              "    </tr>\n",
              "    <tr>\n",
              "      <th>ram</th>\n",
              "      <td>-0.262759</td>\n",
              "      <td>0.010000</td>\n",
              "      <td>0.041331</td>\n",
              "      <td>0.094004</td>\n",
              "      <td>-0.050382</td>\n",
              "      <td>-0.006090</td>\n",
              "      <td>-0.048515</td>\n",
              "      <td>-0.017574</td>\n",
              "      <td>0.107730</td>\n",
              "      <td>-0.036159</td>\n",
              "      <td>-0.015646</td>\n",
              "      <td>-0.238720</td>\n",
              "      <td>-0.257496</td>\n",
              "      <td>1.000000</td>\n",
              "      <td>0.005199</td>\n",
              "      <td>0.011657</td>\n",
              "      <td>-0.045694</td>\n",
              "      <td>0.016857</td>\n",
              "      <td>-0.000097</td>\n",
              "      <td>0.016474</td>\n",
              "      <td>NaN</td>\n",
              "    </tr>\n",
              "    <tr>\n",
              "      <th>sc_h</th>\n",
              "      <td>-0.080752</td>\n",
              "      <td>0.001807</td>\n",
              "      <td>0.047115</td>\n",
              "      <td>-0.067544</td>\n",
              "      <td>0.016927</td>\n",
              "      <td>0.007722</td>\n",
              "      <td>0.070163</td>\n",
              "      <td>-0.036196</td>\n",
              "      <td>0.010026</td>\n",
              "      <td>-0.032997</td>\n",
              "      <td>0.004423</td>\n",
              "      <td>0.117225</td>\n",
              "      <td>0.079685</td>\n",
              "      <td>0.005199</td>\n",
              "      <td>1.000000</td>\n",
              "      <td>0.514600</td>\n",
              "      <td>0.008626</td>\n",
              "      <td>-0.005477</td>\n",
              "      <td>0.058934</td>\n",
              "      <td>0.038308</td>\n",
              "      <td>NaN</td>\n",
              "    </tr>\n",
              "    <tr>\n",
              "      <th>sc_w</th>\n",
              "      <td>-0.009713</td>\n",
              "      <td>0.065277</td>\n",
              "      <td>0.039579</td>\n",
              "      <td>-0.041602</td>\n",
              "      <td>0.024985</td>\n",
              "      <td>0.059551</td>\n",
              "      <td>0.005320</td>\n",
              "      <td>-0.077183</td>\n",
              "      <td>-0.013806</td>\n",
              "      <td>-0.011491</td>\n",
              "      <td>-0.096039</td>\n",
              "      <td>0.048856</td>\n",
              "      <td>0.016369</td>\n",
              "      <td>0.011657</td>\n",
              "      <td>0.514600</td>\n",
              "      <td>1.000000</td>\n",
              "      <td>-0.088692</td>\n",
              "      <td>0.025941</td>\n",
              "      <td>0.046907</td>\n",
              "      <td>0.018241</td>\n",
              "      <td>NaN</td>\n",
              "    </tr>\n",
              "    <tr>\n",
              "      <th>talk_time</th>\n",
              "      <td>0.086021</td>\n",
              "      <td>-0.072417</td>\n",
              "      <td>-0.055842</td>\n",
              "      <td>-0.078093</td>\n",
              "      <td>-0.029785</td>\n",
              "      <td>-0.056890</td>\n",
              "      <td>-0.020160</td>\n",
              "      <td>0.037715</td>\n",
              "      <td>-0.013653</td>\n",
              "      <td>0.029556</td>\n",
              "      <td>0.010506</td>\n",
              "      <td>0.021954</td>\n",
              "      <td>0.027057</td>\n",
              "      <td>-0.045694</td>\n",
              "      <td>0.008626</td>\n",
              "      <td>-0.088692</td>\n",
              "      <td>1.000000</td>\n",
              "      <td>-0.076675</td>\n",
              "      <td>0.027730</td>\n",
              "      <td>-0.029220</td>\n",
              "      <td>NaN</td>\n",
              "    </tr>\n",
              "    <tr>\n",
              "      <th>three_g</th>\n",
              "      <td>-0.020736</td>\n",
              "      <td>-0.032623</td>\n",
              "      <td>-0.127549</td>\n",
              "      <td>-0.076653</td>\n",
              "      <td>-0.031470</td>\n",
              "      <td>0.604218</td>\n",
              "      <td>-0.016917</td>\n",
              "      <td>0.081976</td>\n",
              "      <td>0.034039</td>\n",
              "      <td>0.013938</td>\n",
              "      <td>0.002541</td>\n",
              "      <td>-0.056407</td>\n",
              "      <td>-0.029298</td>\n",
              "      <td>0.016857</td>\n",
              "      <td>-0.005477</td>\n",
              "      <td>0.025941</td>\n",
              "      <td>-0.076675</td>\n",
              "      <td>1.000000</td>\n",
              "      <td>0.047907</td>\n",
              "      <td>-0.026074</td>\n",
              "      <td>NaN</td>\n",
              "    </tr>\n",
              "    <tr>\n",
              "      <th>touch_screen</th>\n",
              "      <td>-0.033993</td>\n",
              "      <td>0.060329</td>\n",
              "      <td>0.010260</td>\n",
              "      <td>0.012503</td>\n",
              "      <td>0.067129</td>\n",
              "      <td>0.069149</td>\n",
              "      <td>0.060954</td>\n",
              "      <td>0.037092</td>\n",
              "      <td>0.010625</td>\n",
              "      <td>0.000879</td>\n",
              "      <td>0.042637</td>\n",
              "      <td>-0.042087</td>\n",
              "      <td>0.018708</td>\n",
              "      <td>-0.000097</td>\n",
              "      <td>0.058934</td>\n",
              "      <td>0.046907</td>\n",
              "      <td>0.027730</td>\n",
              "      <td>0.047907</td>\n",
              "      <td>1.000000</td>\n",
              "      <td>0.072470</td>\n",
              "      <td>NaN</td>\n",
              "    </tr>\n",
              "    <tr>\n",
              "      <th>wifi</th>\n",
              "      <td>0.001345</td>\n",
              "      <td>0.010291</td>\n",
              "      <td>0.005814</td>\n",
              "      <td>-0.014924</td>\n",
              "      <td>0.010370</td>\n",
              "      <td>0.015294</td>\n",
              "      <td>0.025998</td>\n",
              "      <td>0.001044</td>\n",
              "      <td>0.055018</td>\n",
              "      <td>0.006066</td>\n",
              "      <td>0.034056</td>\n",
              "      <td>0.081369</td>\n",
              "      <td>0.078801</td>\n",
              "      <td>0.016474</td>\n",
              "      <td>0.038308</td>\n",
              "      <td>0.018241</td>\n",
              "      <td>-0.029220</td>\n",
              "      <td>-0.026074</td>\n",
              "      <td>0.072470</td>\n",
              "      <td>1.000000</td>\n",
              "      <td>NaN</td>\n",
              "    </tr>\n",
              "    <tr>\n",
              "      <th>price_range</th>\n",
              "      <td>NaN</td>\n",
              "      <td>NaN</td>\n",
              "      <td>NaN</td>\n",
              "      <td>NaN</td>\n",
              "      <td>NaN</td>\n",
              "      <td>NaN</td>\n",
              "      <td>NaN</td>\n",
              "      <td>NaN</td>\n",
              "      <td>NaN</td>\n",
              "      <td>NaN</td>\n",
              "      <td>NaN</td>\n",
              "      <td>NaN</td>\n",
              "      <td>NaN</td>\n",
              "      <td>NaN</td>\n",
              "      <td>NaN</td>\n",
              "      <td>NaN</td>\n",
              "      <td>NaN</td>\n",
              "      <td>NaN</td>\n",
              "      <td>NaN</td>\n",
              "      <td>NaN</td>\n",
              "      <td>NaN</td>\n",
              "    </tr>\n",
              "  </tbody>\n",
              "</table>\n",
              "</div>"
            ],
            "text/plain": [
              "               battery_power      blue  ...      wifi  price_range\n",
              "battery_power       1.000000 -0.019588  ...  0.001345          NaN\n",
              "blue               -0.019588  1.000000  ...  0.010291          NaN\n",
              "clock_speed        -0.047833  0.074535  ...  0.005814          NaN\n",
              "dual_sim           -0.134352  0.061992  ... -0.014924          NaN\n",
              "fc                  0.083515  0.031587  ...  0.010370          NaN\n",
              "four_g              0.014355  0.044653  ...  0.015294          NaN\n",
              "int_memory         -0.041099 -0.003080  ...  0.025998          NaN\n",
              "m_dep               0.033896 -0.016718  ...  0.001044          NaN\n",
              "mobile_wt          -0.002937 -0.030398  ...  0.055018          NaN\n",
              "n_cores            -0.066908 -0.045381  ...  0.006066          NaN\n",
              "pc                  0.025482  0.024459  ...  0.034056          NaN\n",
              "px_height          -0.082547  0.043505  ...  0.081369          NaN\n",
              "px_width           -0.065939 -0.066695  ...  0.078801          NaN\n",
              "ram                -0.262759  0.010000  ...  0.016474          NaN\n",
              "sc_h               -0.080752  0.001807  ...  0.038308          NaN\n",
              "sc_w               -0.009713  0.065277  ...  0.018241          NaN\n",
              "talk_time           0.086021 -0.072417  ... -0.029220          NaN\n",
              "three_g            -0.020736 -0.032623  ... -0.026074          NaN\n",
              "touch_screen       -0.033993  0.060329  ...  0.072470          NaN\n",
              "wifi                0.001345  0.010291  ...  1.000000          NaN\n",
              "price_range              NaN       NaN  ...       NaN          NaN\n",
              "\n",
              "[21 rows x 21 columns]"
            ]
          },
          "metadata": {},
          "execution_count": 83
        }
      ]
    },
    {
      "cell_type": "code",
      "metadata": {
        "colab": {
          "base_uri": "https://localhost:8080/"
        },
        "id": "-LTIIMQQHwTr",
        "outputId": "9ec164fc-1168-4d97-b670-8f284ee3e80c"
      },
      "source": [
        "data[(data['price_range']==3)].corr().unstack()"
      ],
      "execution_count": null,
      "outputs": [
        {
          "output_type": "execute_result",
          "data": {
            "text/plain": [
              "battery_power  battery_power    1.000000\n",
              "               blue            -0.019588\n",
              "               clock_speed     -0.047833\n",
              "               dual_sim        -0.134352\n",
              "               fc               0.083515\n",
              "                                  ...   \n",
              "price_range    talk_time             NaN\n",
              "               three_g               NaN\n",
              "               touch_screen          NaN\n",
              "               wifi                  NaN\n",
              "               price_range           NaN\n",
              "Length: 441, dtype: float64"
            ]
          },
          "metadata": {},
          "execution_count": 84
        }
      ]
    },
    {
      "cell_type": "code",
      "metadata": {
        "id": "X9GWONkSI-_8"
      },
      "source": [
        "df = pd.DataFrame(data = data[(data['price_range']==3)].corr().unstack(), columns=['a']).sort_values('a', ascending=False)"
      ],
      "execution_count": null,
      "outputs": []
    },
    {
      "cell_type": "code",
      "metadata": {
        "colab": {
          "base_uri": "https://localhost:8080/",
          "height": 833
        },
        "id": "UZuHVzG7qO5S",
        "outputId": "628ce6e6-e644-46e0-b04e-2169c26a3e8b"
      },
      "source": [
        "df.head(25)"
      ],
      "execution_count": null,
      "outputs": [
        {
          "output_type": "execute_result",
          "data": {
            "text/html": [
              "<div>\n",
              "<style scoped>\n",
              "    .dataframe tbody tr th:only-of-type {\n",
              "        vertical-align: middle;\n",
              "    }\n",
              "\n",
              "    .dataframe tbody tr th {\n",
              "        vertical-align: top;\n",
              "    }\n",
              "\n",
              "    .dataframe thead th {\n",
              "        text-align: right;\n",
              "    }\n",
              "</style>\n",
              "<table border=\"1\" class=\"dataframe\">\n",
              "  <thead>\n",
              "    <tr style=\"text-align: right;\">\n",
              "      <th></th>\n",
              "      <th></th>\n",
              "      <th>a</th>\n",
              "    </tr>\n",
              "  </thead>\n",
              "  <tbody>\n",
              "    <tr>\n",
              "      <th>battery_power</th>\n",
              "      <th>battery_power</th>\n",
              "      <td>1.000000</td>\n",
              "    </tr>\n",
              "    <tr>\n",
              "      <th>pc</th>\n",
              "      <th>pc</th>\n",
              "      <td>1.000000</td>\n",
              "    </tr>\n",
              "    <tr>\n",
              "      <th>dual_sim</th>\n",
              "      <th>dual_sim</th>\n",
              "      <td>1.000000</td>\n",
              "    </tr>\n",
              "    <tr>\n",
              "      <th>fc</th>\n",
              "      <th>fc</th>\n",
              "      <td>1.000000</td>\n",
              "    </tr>\n",
              "    <tr>\n",
              "      <th>four_g</th>\n",
              "      <th>four_g</th>\n",
              "      <td>1.000000</td>\n",
              "    </tr>\n",
              "    <tr>\n",
              "      <th>int_memory</th>\n",
              "      <th>int_memory</th>\n",
              "      <td>1.000000</td>\n",
              "    </tr>\n",
              "    <tr>\n",
              "      <th>m_dep</th>\n",
              "      <th>m_dep</th>\n",
              "      <td>1.000000</td>\n",
              "    </tr>\n",
              "    <tr>\n",
              "      <th>mobile_wt</th>\n",
              "      <th>mobile_wt</th>\n",
              "      <td>1.000000</td>\n",
              "    </tr>\n",
              "    <tr>\n",
              "      <th>n_cores</th>\n",
              "      <th>n_cores</th>\n",
              "      <td>1.000000</td>\n",
              "    </tr>\n",
              "    <tr>\n",
              "      <th>px_height</th>\n",
              "      <th>px_height</th>\n",
              "      <td>1.000000</td>\n",
              "    </tr>\n",
              "    <tr>\n",
              "      <th>blue</th>\n",
              "      <th>blue</th>\n",
              "      <td>1.000000</td>\n",
              "    </tr>\n",
              "    <tr>\n",
              "      <th>px_width</th>\n",
              "      <th>px_width</th>\n",
              "      <td>1.000000</td>\n",
              "    </tr>\n",
              "    <tr>\n",
              "      <th>ram</th>\n",
              "      <th>ram</th>\n",
              "      <td>1.000000</td>\n",
              "    </tr>\n",
              "    <tr>\n",
              "      <th>sc_h</th>\n",
              "      <th>sc_h</th>\n",
              "      <td>1.000000</td>\n",
              "    </tr>\n",
              "    <tr>\n",
              "      <th>sc_w</th>\n",
              "      <th>sc_w</th>\n",
              "      <td>1.000000</td>\n",
              "    </tr>\n",
              "    <tr>\n",
              "      <th>talk_time</th>\n",
              "      <th>talk_time</th>\n",
              "      <td>1.000000</td>\n",
              "    </tr>\n",
              "    <tr>\n",
              "      <th>three_g</th>\n",
              "      <th>three_g</th>\n",
              "      <td>1.000000</td>\n",
              "    </tr>\n",
              "    <tr>\n",
              "      <th>touch_screen</th>\n",
              "      <th>touch_screen</th>\n",
              "      <td>1.000000</td>\n",
              "    </tr>\n",
              "    <tr>\n",
              "      <th>clock_speed</th>\n",
              "      <th>clock_speed</th>\n",
              "      <td>1.000000</td>\n",
              "    </tr>\n",
              "    <tr>\n",
              "      <th>wifi</th>\n",
              "      <th>wifi</th>\n",
              "      <td>1.000000</td>\n",
              "    </tr>\n",
              "    <tr>\n",
              "      <th>fc</th>\n",
              "      <th>pc</th>\n",
              "      <td>0.635166</td>\n",
              "    </tr>\n",
              "    <tr>\n",
              "      <th>pc</th>\n",
              "      <th>fc</th>\n",
              "      <td>0.635166</td>\n",
              "    </tr>\n",
              "    <tr>\n",
              "      <th>three_g</th>\n",
              "      <th>four_g</th>\n",
              "      <td>0.604218</td>\n",
              "    </tr>\n",
              "    <tr>\n",
              "      <th>four_g</th>\n",
              "      <th>three_g</th>\n",
              "      <td>0.604218</td>\n",
              "    </tr>\n",
              "    <tr>\n",
              "      <th>px_width</th>\n",
              "      <th>px_height</th>\n",
              "      <td>0.538207</td>\n",
              "    </tr>\n",
              "  </tbody>\n",
              "</table>\n",
              "</div>"
            ],
            "text/plain": [
              "                                    a\n",
              "battery_power battery_power  1.000000\n",
              "pc            pc             1.000000\n",
              "dual_sim      dual_sim       1.000000\n",
              "fc            fc             1.000000\n",
              "four_g        four_g         1.000000\n",
              "int_memory    int_memory     1.000000\n",
              "m_dep         m_dep          1.000000\n",
              "mobile_wt     mobile_wt      1.000000\n",
              "n_cores       n_cores        1.000000\n",
              "px_height     px_height      1.000000\n",
              "blue          blue           1.000000\n",
              "px_width      px_width       1.000000\n",
              "ram           ram            1.000000\n",
              "sc_h          sc_h           1.000000\n",
              "sc_w          sc_w           1.000000\n",
              "talk_time     talk_time      1.000000\n",
              "three_g       three_g        1.000000\n",
              "touch_screen  touch_screen   1.000000\n",
              "clock_speed   clock_speed    1.000000\n",
              "wifi          wifi           1.000000\n",
              "fc            pc             0.635166\n",
              "pc            fc             0.635166\n",
              "three_g       four_g         0.604218\n",
              "four_g        three_g        0.604218\n",
              "px_width      px_height      0.538207"
            ]
          },
          "metadata": {},
          "execution_count": 86
        }
      ]
    },
    {
      "cell_type": "code",
      "metadata": {
        "id": "uUlTt1GEJaew"
      },
      "source": [
        "df_remove_one = df[ df['a'] != 1.0]"
      ],
      "execution_count": null,
      "outputs": []
    },
    {
      "cell_type": "code",
      "metadata": {
        "colab": {
          "base_uri": "https://localhost:8080/",
          "height": 81
        },
        "id": "kumkFJq4NfMP",
        "outputId": "a4ca9bbd-adba-4e5e-966c-8b561aa271f1"
      },
      "source": [
        "df_remove_one.head(1)"
      ],
      "execution_count": null,
      "outputs": [
        {
          "output_type": "execute_result",
          "data": {
            "text/html": [
              "<div>\n",
              "<style scoped>\n",
              "    .dataframe tbody tr th:only-of-type {\n",
              "        vertical-align: middle;\n",
              "    }\n",
              "\n",
              "    .dataframe tbody tr th {\n",
              "        vertical-align: top;\n",
              "    }\n",
              "\n",
              "    .dataframe thead th {\n",
              "        text-align: right;\n",
              "    }\n",
              "</style>\n",
              "<table border=\"1\" class=\"dataframe\">\n",
              "  <thead>\n",
              "    <tr style=\"text-align: right;\">\n",
              "      <th></th>\n",
              "      <th></th>\n",
              "      <th>a</th>\n",
              "    </tr>\n",
              "  </thead>\n",
              "  <tbody>\n",
              "    <tr>\n",
              "      <th>fc</th>\n",
              "      <th>pc</th>\n",
              "      <td>0.635166</td>\n",
              "    </tr>\n",
              "  </tbody>\n",
              "</table>\n",
              "</div>"
            ],
            "text/plain": [
              "              a\n",
              "fc pc  0.635166"
            ]
          },
          "metadata": {},
          "execution_count": 88
        }
      ]
    },
    {
      "cell_type": "markdown",
      "metadata": {
        "id": "OOkGo4tmqZvF"
      },
      "source": [
        "#3주차 실기 유형 2 첫번째"
      ]
    },
    {
      "cell_type": "markdown",
      "metadata": {
        "id": "R4bu9KTrvcnB"
      },
      "source": [
        "분류 문제에서 F1 Score로 평가 / MinMaxScale 변경 해봄"
      ]
    },
    {
      "cell_type": "code",
      "metadata": {
        "id": "IKI2PinoIKqr"
      },
      "source": [
        "Train = pd.read_csv('https://raw.githubusercontent.com/Datamanim/datarepo/main/heart/train.csv')\n",
        "Test = pd.read_csv('https://raw.githubusercontent.com/Datamanim/datarepo/main/heart/test.csv')\n",
        "submission =pd.read_csv(\"https://raw.githubusercontent.com/Datamanim/datarepo/main/heart/submission.csv\")"
      ],
      "execution_count": null,
      "outputs": []
    },
    {
      "cell_type": "code",
      "metadata": {
        "colab": {
          "base_uri": "https://localhost:8080/",
          "height": 143
        },
        "id": "O1HO_73HAzx_",
        "outputId": "7c0d6da3-d795-4326-b6b7-5634d5628d90"
      },
      "source": [
        "Train.head(3)"
      ],
      "execution_count": null,
      "outputs": [
        {
          "output_type": "execute_result",
          "data": {
            "text/html": [
              "<div>\n",
              "<style scoped>\n",
              "    .dataframe tbody tr th:only-of-type {\n",
              "        vertical-align: middle;\n",
              "    }\n",
              "\n",
              "    .dataframe tbody tr th {\n",
              "        vertical-align: top;\n",
              "    }\n",
              "\n",
              "    .dataframe thead th {\n",
              "        text-align: right;\n",
              "    }\n",
              "</style>\n",
              "<table border=\"1\" class=\"dataframe\">\n",
              "  <thead>\n",
              "    <tr style=\"text-align: right;\">\n",
              "      <th></th>\n",
              "      <th>age</th>\n",
              "      <th>sex</th>\n",
              "      <th>cp</th>\n",
              "      <th>trestbps</th>\n",
              "      <th>chol</th>\n",
              "      <th>fbs</th>\n",
              "      <th>restecg</th>\n",
              "      <th>thalach</th>\n",
              "      <th>exang</th>\n",
              "      <th>oldpeak</th>\n",
              "      <th>slope</th>\n",
              "      <th>ca</th>\n",
              "      <th>thal</th>\n",
              "      <th>target</th>\n",
              "    </tr>\n",
              "  </thead>\n",
              "  <tbody>\n",
              "    <tr>\n",
              "      <th>0</th>\n",
              "      <td>60</td>\n",
              "      <td>1</td>\n",
              "      <td>0</td>\n",
              "      <td>140</td>\n",
              "      <td>293</td>\n",
              "      <td>0</td>\n",
              "      <td>0</td>\n",
              "      <td>170</td>\n",
              "      <td>0</td>\n",
              "      <td>1.2</td>\n",
              "      <td>1</td>\n",
              "      <td>2</td>\n",
              "      <td>3</td>\n",
              "      <td>0</td>\n",
              "    </tr>\n",
              "    <tr>\n",
              "      <th>1</th>\n",
              "      <td>51</td>\n",
              "      <td>0</td>\n",
              "      <td>2</td>\n",
              "      <td>120</td>\n",
              "      <td>295</td>\n",
              "      <td>0</td>\n",
              "      <td>0</td>\n",
              "      <td>157</td>\n",
              "      <td>0</td>\n",
              "      <td>0.6</td>\n",
              "      <td>2</td>\n",
              "      <td>0</td>\n",
              "      <td>2</td>\n",
              "      <td>1</td>\n",
              "    </tr>\n",
              "    <tr>\n",
              "      <th>2</th>\n",
              "      <td>51</td>\n",
              "      <td>1</td>\n",
              "      <td>3</td>\n",
              "      <td>125</td>\n",
              "      <td>213</td>\n",
              "      <td>0</td>\n",
              "      <td>0</td>\n",
              "      <td>125</td>\n",
              "      <td>1</td>\n",
              "      <td>1.4</td>\n",
              "      <td>2</td>\n",
              "      <td>1</td>\n",
              "      <td>2</td>\n",
              "      <td>1</td>\n",
              "    </tr>\n",
              "  </tbody>\n",
              "</table>\n",
              "</div>"
            ],
            "text/plain": [
              "   age  sex  cp  trestbps  chol  fbs  ...  exang  oldpeak  slope  ca  thal  target\n",
              "0   60    1   0       140   293    0  ...      0      1.2      1   2     3       0\n",
              "1   51    0   2       120   295    0  ...      0      0.6      2   0     2       1\n",
              "2   51    1   3       125   213    0  ...      1      1.4      2   1     2       1\n",
              "\n",
              "[3 rows x 14 columns]"
            ]
          },
          "metadata": {},
          "execution_count": 118
        }
      ]
    },
    {
      "cell_type": "code",
      "metadata": {
        "id": "Y7WBy9DbBWvy"
      },
      "source": [
        "X = Train[Train.columns[0:13]]\n",
        "y = Train[['target']]"
      ],
      "execution_count": null,
      "outputs": []
    },
    {
      "cell_type": "code",
      "metadata": {
        "id": "bk1duJjAA7aD"
      },
      "source": [
        "from sklearn.model_selection import train_test_split\n",
        "X_train, X_test, y_train, y_test = train_test_split(X, y, stratify=y, random_state=42)"
      ],
      "execution_count": null,
      "outputs": []
    },
    {
      "cell_type": "code",
      "metadata": {
        "id": "R-YImAUywMzq"
      },
      "source": [
        "from sklearn.preprocessing import MinMaxScaler\n",
        "mms = MinMaxScaler()\n",
        "mms.fit(X_train)\n",
        "X_train_scaled = mms.transform(X_train)\n",
        "X_test_scaled = mms.transform(X_test)"
      ],
      "execution_count": null,
      "outputs": []
    },
    {
      "cell_type": "code",
      "metadata": {
        "id": "GXWtVuCWBrWE"
      },
      "source": [
        "from sklearn.ensemble import RandomForestClassifier"
      ],
      "execution_count": null,
      "outputs": []
    },
    {
      "cell_type": "code",
      "metadata": {
        "id": "l2g5hDx8Bzq2"
      },
      "source": [
        "model = RandomForestClassifier(random_state=42)"
      ],
      "execution_count": null,
      "outputs": []
    },
    {
      "cell_type": "code",
      "metadata": {
        "colab": {
          "base_uri": "https://localhost:8080/"
        },
        "id": "vDujB083B8eq",
        "outputId": "096fb2fa-c889-406b-eace-6f95d8e369f6"
      },
      "source": [
        "#model.fit(X_train, y_train)\n",
        "model.fit(X_train_scaled, y_train)"
      ],
      "execution_count": null,
      "outputs": [
        {
          "output_type": "stream",
          "name": "stderr",
          "text": [
            "/usr/local/lib/python3.7/dist-packages/ipykernel_launcher.py:2: DataConversionWarning: A column-vector y was passed when a 1d array was expected. Please change the shape of y to (n_samples,), for example using ravel().\n",
            "  \n"
          ]
        },
        {
          "output_type": "execute_result",
          "data": {
            "text/plain": [
              "RandomForestClassifier(random_state=42)"
            ]
          },
          "metadata": {},
          "execution_count": 124
        }
      ]
    },
    {
      "cell_type": "code",
      "metadata": {
        "id": "uA-ebulfB_Od"
      },
      "source": [
        "#pred_train = model.predict(X_train)\n",
        "#pred_test = model.predict(X_test)\n",
        "pred_train_scaled = model.predict(X_train_scaled)\n",
        "pred_test_scaled = model.predict(X_test_scaled)"
      ],
      "execution_count": null,
      "outputs": []
    },
    {
      "cell_type": "code",
      "metadata": {
        "id": "DngVaGZSCFvD"
      },
      "source": [
        "from sklearn.metrics import f1_score"
      ],
      "execution_count": null,
      "outputs": []
    },
    {
      "cell_type": "code",
      "metadata": {
        "id": "Xb5t8HJ_CON4"
      },
      "source": [
        "#f1_s_train = f1_score(y_train, pred_train)\n",
        "f1_s_train = f1_score(y_train, pred_train_scaled)"
      ],
      "execution_count": null,
      "outputs": []
    },
    {
      "cell_type": "code",
      "metadata": {
        "id": "xgUjF_dHCVad"
      },
      "source": [
        "#f1_s_test = f1_score(y_test, pred_test)\n",
        "f1_s_test = f1_score(y_test, pred_test_scaled)"
      ],
      "execution_count": null,
      "outputs": []
    },
    {
      "cell_type": "code",
      "metadata": {
        "colab": {
          "base_uri": "https://localhost:8080/"
        },
        "id": "pr3pVJv-CY0b",
        "outputId": "6bef8b4c-8657-49a6-bbdb-3b33c394aae4"
      },
      "source": [
        "print(f1_s_train)\n",
        "print(f1_s_test)"
      ],
      "execution_count": null,
      "outputs": [
        {
          "output_type": "stream",
          "name": "stdout",
          "text": [
            "1.0\n",
            "0.8955223880597014\n"
          ]
        }
      ]
    },
    {
      "cell_type": "code",
      "metadata": {
        "colab": {
          "base_uri": "https://localhost:8080/",
          "height": 112
        },
        "id": "9-cGv9_fDEPt",
        "outputId": "e3075e86-2892-4550-f0bd-86e9a76f248d"
      },
      "source": [
        "Test.head(2)"
      ],
      "execution_count": null,
      "outputs": [
        {
          "output_type": "execute_result",
          "data": {
            "text/html": [
              "<div>\n",
              "<style scoped>\n",
              "    .dataframe tbody tr th:only-of-type {\n",
              "        vertical-align: middle;\n",
              "    }\n",
              "\n",
              "    .dataframe tbody tr th {\n",
              "        vertical-align: top;\n",
              "    }\n",
              "\n",
              "    .dataframe thead th {\n",
              "        text-align: right;\n",
              "    }\n",
              "</style>\n",
              "<table border=\"1\" class=\"dataframe\">\n",
              "  <thead>\n",
              "    <tr style=\"text-align: right;\">\n",
              "      <th></th>\n",
              "      <th>age</th>\n",
              "      <th>sex</th>\n",
              "      <th>cp</th>\n",
              "      <th>trestbps</th>\n",
              "      <th>chol</th>\n",
              "      <th>fbs</th>\n",
              "      <th>restecg</th>\n",
              "      <th>thalach</th>\n",
              "      <th>exang</th>\n",
              "      <th>oldpeak</th>\n",
              "      <th>slope</th>\n",
              "      <th>ca</th>\n",
              "      <th>thal</th>\n",
              "    </tr>\n",
              "  </thead>\n",
              "  <tbody>\n",
              "    <tr>\n",
              "      <th>0</th>\n",
              "      <td>62</td>\n",
              "      <td>0</td>\n",
              "      <td>0</td>\n",
              "      <td>124</td>\n",
              "      <td>209</td>\n",
              "      <td>0</td>\n",
              "      <td>1</td>\n",
              "      <td>163</td>\n",
              "      <td>0</td>\n",
              "      <td>0.0</td>\n",
              "      <td>2</td>\n",
              "      <td>0</td>\n",
              "      <td>2</td>\n",
              "    </tr>\n",
              "    <tr>\n",
              "      <th>1</th>\n",
              "      <td>54</td>\n",
              "      <td>1</td>\n",
              "      <td>2</td>\n",
              "      <td>120</td>\n",
              "      <td>258</td>\n",
              "      <td>0</td>\n",
              "      <td>0</td>\n",
              "      <td>147</td>\n",
              "      <td>0</td>\n",
              "      <td>0.4</td>\n",
              "      <td>1</td>\n",
              "      <td>0</td>\n",
              "      <td>3</td>\n",
              "    </tr>\n",
              "  </tbody>\n",
              "</table>\n",
              "</div>"
            ],
            "text/plain": [
              "   age  sex  cp  trestbps  chol  fbs  ...  thalach  exang  oldpeak  slope  ca  thal\n",
              "0   62    0   0       124   209    0  ...      163      0      0.0      2   0     2\n",
              "1   54    1   2       120   258    0  ...      147      0      0.4      1   0     3\n",
              "\n",
              "[2 rows x 13 columns]"
            ]
          },
          "metadata": {},
          "execution_count": 133
        }
      ]
    },
    {
      "cell_type": "code",
      "metadata": {
        "colab": {
          "base_uri": "https://localhost:8080/",
          "height": 112
        },
        "id": "Hydycwgfv6O9",
        "outputId": "e5027c07-d880-4071-e3de-e226d11c2393"
      },
      "source": [
        "submission.head(2)"
      ],
      "execution_count": null,
      "outputs": [
        {
          "output_type": "execute_result",
          "data": {
            "text/html": [
              "<div>\n",
              "<style scoped>\n",
              "    .dataframe tbody tr th:only-of-type {\n",
              "        vertical-align: middle;\n",
              "    }\n",
              "\n",
              "    .dataframe tbody tr th {\n",
              "        vertical-align: top;\n",
              "    }\n",
              "\n",
              "    .dataframe thead th {\n",
              "        text-align: right;\n",
              "    }\n",
              "</style>\n",
              "<table border=\"1\" class=\"dataframe\">\n",
              "  <thead>\n",
              "    <tr style=\"text-align: right;\">\n",
              "      <th></th>\n",
              "      <th>0</th>\n",
              "    </tr>\n",
              "  </thead>\n",
              "  <tbody>\n",
              "    <tr>\n",
              "      <th>0</th>\n",
              "      <td>0.0</td>\n",
              "    </tr>\n",
              "    <tr>\n",
              "      <th>1</th>\n",
              "      <td>0.0</td>\n",
              "    </tr>\n",
              "  </tbody>\n",
              "</table>\n",
              "</div>"
            ],
            "text/plain": [
              "     0\n",
              "0  0.0\n",
              "1  0.0"
            ]
          },
          "metadata": {},
          "execution_count": 134
        }
      ]
    },
    {
      "cell_type": "code",
      "metadata": {
        "id": "dmkLWaYqCdHU",
        "colab": {
          "base_uri": "https://localhost:8080/"
        },
        "outputId": "dabc9d9d-4be8-4722-c42d-1887e5adf71e"
      },
      "source": [
        "preprocessing_test_df  = Test\n",
        "test_pred = model.predict(preprocessing_test_df)\n",
        "submission['0'] = test_pred\n",
        "submission.to_csv('submission_model.csv',index=False)"
      ],
      "execution_count": null,
      "outputs": [
        {
          "output_type": "stream",
          "name": "stderr",
          "text": [
            "/usr/local/lib/python3.7/dist-packages/sklearn/base.py:439: UserWarning: X has feature names, but RandomForestClassifier was fitted without feature names\n",
            "  f\"X has feature names, but {self.__class__.__name__} was fitted without\"\n"
          ]
        }
      ]
    },
    {
      "cell_type": "code",
      "metadata": {
        "colab": {
          "base_uri": "https://localhost:8080/",
          "height": 206
        },
        "id": "Domp6-bWF0Sa",
        "outputId": "7f8be19f-e050-4b17-c134-de253ce4067b"
      },
      "source": [
        "submission.head(5)"
      ],
      "execution_count": null,
      "outputs": [
        {
          "output_type": "execute_result",
          "data": {
            "text/html": [
              "<div>\n",
              "<style scoped>\n",
              "    .dataframe tbody tr th:only-of-type {\n",
              "        vertical-align: middle;\n",
              "    }\n",
              "\n",
              "    .dataframe tbody tr th {\n",
              "        vertical-align: top;\n",
              "    }\n",
              "\n",
              "    .dataframe thead th {\n",
              "        text-align: right;\n",
              "    }\n",
              "</style>\n",
              "<table border=\"1\" class=\"dataframe\">\n",
              "  <thead>\n",
              "    <tr style=\"text-align: right;\">\n",
              "      <th></th>\n",
              "      <th>0</th>\n",
              "    </tr>\n",
              "  </thead>\n",
              "  <tbody>\n",
              "    <tr>\n",
              "      <th>0</th>\n",
              "      <td>0</td>\n",
              "    </tr>\n",
              "    <tr>\n",
              "      <th>1</th>\n",
              "      <td>1</td>\n",
              "    </tr>\n",
              "    <tr>\n",
              "      <th>2</th>\n",
              "      <td>0</td>\n",
              "    </tr>\n",
              "    <tr>\n",
              "      <th>3</th>\n",
              "      <td>0</td>\n",
              "    </tr>\n",
              "    <tr>\n",
              "      <th>4</th>\n",
              "      <td>0</td>\n",
              "    </tr>\n",
              "  </tbody>\n",
              "</table>\n",
              "</div>"
            ],
            "text/plain": [
              "   0\n",
              "0  0\n",
              "1  1\n",
              "2  0\n",
              "3  0\n",
              "4  0"
            ]
          },
          "metadata": {},
          "execution_count": 136
        }
      ]
    },
    {
      "cell_type": "markdown",
      "metadata": {
        "id": "DE9b5YBxquc7"
      },
      "source": [
        "#3주차 실기 유형 2 두번째"
      ]
    },
    {
      "cell_type": "markdown",
      "metadata": {
        "id": "wl92QYhdrHM8"
      },
      "source": [
        "핸드폰 가격예측 (price_range컬럼 0(저렴) ~3(매우비쌈) 범위 ) accuarcy로 평가 변수 변환 해봄(sqrt)"
      ]
    },
    {
      "cell_type": "code",
      "metadata": {
        "id": "y27tuo9DGGlK"
      },
      "source": [
        "train_url = 'https://raw.githubusercontent.com/Datamanim/datarepo/main/mobile/train.csv'\n",
        "test_url ='https://raw.githubusercontent.com/Datamanim/datarepo/main/mobile/test.csv'"
      ],
      "execution_count": 10,
      "outputs": []
    },
    {
      "cell_type": "code",
      "metadata": {
        "id": "U_MNtQOWmzVa"
      },
      "source": [
        "import pandas as pd\n",
        "import numpy as np"
      ],
      "execution_count": 11,
      "outputs": []
    },
    {
      "cell_type": "code",
      "metadata": {
        "id": "aaWvWw7_rQGe"
      },
      "source": [
        "data = pd.read_csv(train_url)"
      ],
      "execution_count": 12,
      "outputs": []
    },
    {
      "cell_type": "code",
      "metadata": {
        "colab": {
          "base_uri": "https://localhost:8080/",
          "height": 111
        },
        "id": "f4Tuz7nCrXVk",
        "outputId": "65a62a38-0348-4394-d5d6-19b52feb1759"
      },
      "source": [
        "data.head(2)"
      ],
      "execution_count": 13,
      "outputs": [
        {
          "output_type": "execute_result",
          "data": {
            "text/html": [
              "<div>\n",
              "<style scoped>\n",
              "    .dataframe tbody tr th:only-of-type {\n",
              "        vertical-align: middle;\n",
              "    }\n",
              "\n",
              "    .dataframe tbody tr th {\n",
              "        vertical-align: top;\n",
              "    }\n",
              "\n",
              "    .dataframe thead th {\n",
              "        text-align: right;\n",
              "    }\n",
              "</style>\n",
              "<table border=\"1\" class=\"dataframe\">\n",
              "  <thead>\n",
              "    <tr style=\"text-align: right;\">\n",
              "      <th></th>\n",
              "      <th>battery_power</th>\n",
              "      <th>blue</th>\n",
              "      <th>clock_speed</th>\n",
              "      <th>dual_sim</th>\n",
              "      <th>fc</th>\n",
              "      <th>four_g</th>\n",
              "      <th>int_memory</th>\n",
              "      <th>m_dep</th>\n",
              "      <th>mobile_wt</th>\n",
              "      <th>n_cores</th>\n",
              "      <th>pc</th>\n",
              "      <th>px_height</th>\n",
              "      <th>px_width</th>\n",
              "      <th>ram</th>\n",
              "      <th>sc_h</th>\n",
              "      <th>sc_w</th>\n",
              "      <th>talk_time</th>\n",
              "      <th>three_g</th>\n",
              "      <th>touch_screen</th>\n",
              "      <th>wifi</th>\n",
              "      <th>price_range</th>\n",
              "    </tr>\n",
              "  </thead>\n",
              "  <tbody>\n",
              "    <tr>\n",
              "      <th>0</th>\n",
              "      <td>842</td>\n",
              "      <td>0</td>\n",
              "      <td>2.2</td>\n",
              "      <td>0</td>\n",
              "      <td>1</td>\n",
              "      <td>0</td>\n",
              "      <td>7</td>\n",
              "      <td>0.6</td>\n",
              "      <td>188</td>\n",
              "      <td>2</td>\n",
              "      <td>2</td>\n",
              "      <td>20</td>\n",
              "      <td>756</td>\n",
              "      <td>2549</td>\n",
              "      <td>9</td>\n",
              "      <td>7</td>\n",
              "      <td>19</td>\n",
              "      <td>0</td>\n",
              "      <td>0</td>\n",
              "      <td>1</td>\n",
              "      <td>1</td>\n",
              "    </tr>\n",
              "    <tr>\n",
              "      <th>1</th>\n",
              "      <td>1021</td>\n",
              "      <td>1</td>\n",
              "      <td>0.5</td>\n",
              "      <td>1</td>\n",
              "      <td>0</td>\n",
              "      <td>1</td>\n",
              "      <td>53</td>\n",
              "      <td>0.7</td>\n",
              "      <td>136</td>\n",
              "      <td>3</td>\n",
              "      <td>6</td>\n",
              "      <td>905</td>\n",
              "      <td>1988</td>\n",
              "      <td>2631</td>\n",
              "      <td>17</td>\n",
              "      <td>3</td>\n",
              "      <td>7</td>\n",
              "      <td>1</td>\n",
              "      <td>1</td>\n",
              "      <td>0</td>\n",
              "      <td>2</td>\n",
              "    </tr>\n",
              "  </tbody>\n",
              "</table>\n",
              "</div>"
            ],
            "text/plain": [
              "   battery_power  blue  clock_speed  ...  touch_screen  wifi  price_range\n",
              "0            842     0          2.2  ...             0     1            1\n",
              "1           1021     1          0.5  ...             1     0            2\n",
              "\n",
              "[2 rows x 21 columns]"
            ]
          },
          "metadata": {},
          "execution_count": 13
        }
      ]
    },
    {
      "cell_type": "code",
      "metadata": {
        "id": "BsmwxCkHrYjR"
      },
      "source": [
        "X = data [ data.columns[0:20]]"
      ],
      "execution_count": 14,
      "outputs": []
    },
    {
      "cell_type": "code",
      "metadata": {
        "colab": {
          "base_uri": "https://localhost:8080/",
          "height": 1000
        },
        "id": "4S-t9VYwsxC3",
        "outputId": "63f59aca-da17-4e74-d4ab-9db867223c7e"
      },
      "source": [
        "X.hist(bins=50,figsize=(30,20))"
      ],
      "execution_count": 15,
      "outputs": [
        {
          "output_type": "execute_result",
          "data": {
            "text/plain": [
              "array([[<matplotlib.axes._subplots.AxesSubplot object at 0x7f238cbdcfd0>,\n",
              "        <matplotlib.axes._subplots.AxesSubplot object at 0x7f238a53f4d0>,\n",
              "        <matplotlib.axes._subplots.AxesSubplot object at 0x7f238a553990>,\n",
              "        <matplotlib.axes._subplots.AxesSubplot object at 0x7f238a4e9f50>],\n",
              "       [<matplotlib.axes._subplots.AxesSubplot object at 0x7f238a4fe3d0>,\n",
              "        <matplotlib.axes._subplots.AxesSubplot object at 0x7f238a5128d0>,\n",
              "        <matplotlib.axes._subplots.AxesSubplot object at 0x7f238a527dd0>,\n",
              "        <matplotlib.axes._subplots.AxesSubplot object at 0x7f238a4dd310>],\n",
              "       [<matplotlib.axes._subplots.AxesSubplot object at 0x7f238a4683d0>,\n",
              "        <matplotlib.axes._subplots.AxesSubplot object at 0x7f238a49ca10>,\n",
              "        <matplotlib.axes._subplots.AxesSubplot object at 0x7f238a40c250>,\n",
              "        <matplotlib.axes._subplots.AxesSubplot object at 0x7f238a3c1750>],\n",
              "       [<matplotlib.axes._subplots.AxesSubplot object at 0x7f238a376c50>,\n",
              "        <matplotlib.axes._subplots.AxesSubplot object at 0x7f238a339190>,\n",
              "        <matplotlib.axes._subplots.AxesSubplot object at 0x7f238a2f0690>,\n",
              "        <matplotlib.axes._subplots.AxesSubplot object at 0x7f238a325b90>],\n",
              "       [<matplotlib.axes._subplots.AxesSubplot object at 0x7f238a2e60d0>,\n",
              "        <matplotlib.axes._subplots.AxesSubplot object at 0x7f238a29e5d0>,\n",
              "        <matplotlib.axes._subplots.AxesSubplot object at 0x7f238a256ad0>,\n",
              "        <matplotlib.axes._subplots.AxesSubplot object at 0x7f238a21f2d0>]],\n",
              "      dtype=object)"
            ]
          },
          "metadata": {},
          "execution_count": 15
        },
        {
          "output_type": "display_data",
          "data": {
            "image/png": "[encoded data removed]",
            "text/plain": [
              "<Figure size 2160x1440 with 20 Axes>"
            ]
          },
          "metadata": {
            "needs_background": "light"
          }
        }
      ]
    },
    {
      "cell_type": "code",
      "metadata": {
        "colab": {
          "base_uri": "https://localhost:8080/",
          "height": 111
        },
        "id": "9sX3y9Umriah",
        "outputId": "5e781474-ae78-4bbf-a69d-321a22b04da1"
      },
      "source": [
        "X.head(2)"
      ],
      "execution_count": 16,
      "outputs": [
        {
          "output_type": "execute_result",
          "data": {
            "text/html": [
              "<div>\n",
              "<style scoped>\n",
              "    .dataframe tbody tr th:only-of-type {\n",
              "        vertical-align: middle;\n",
              "    }\n",
              "\n",
              "    .dataframe tbody tr th {\n",
              "        vertical-align: top;\n",
              "    }\n",
              "\n",
              "    .dataframe thead th {\n",
              "        text-align: right;\n",
              "    }\n",
              "</style>\n",
              "<table border=\"1\" class=\"dataframe\">\n",
              "  <thead>\n",
              "    <tr style=\"text-align: right;\">\n",
              "      <th></th>\n",
              "      <th>battery_power</th>\n",
              "      <th>blue</th>\n",
              "      <th>clock_speed</th>\n",
              "      <th>dual_sim</th>\n",
              "      <th>fc</th>\n",
              "      <th>four_g</th>\n",
              "      <th>int_memory</th>\n",
              "      <th>m_dep</th>\n",
              "      <th>mobile_wt</th>\n",
              "      <th>n_cores</th>\n",
              "      <th>pc</th>\n",
              "      <th>px_height</th>\n",
              "      <th>px_width</th>\n",
              "      <th>ram</th>\n",
              "      <th>sc_h</th>\n",
              "      <th>sc_w</th>\n",
              "      <th>talk_time</th>\n",
              "      <th>three_g</th>\n",
              "      <th>touch_screen</th>\n",
              "      <th>wifi</th>\n",
              "    </tr>\n",
              "  </thead>\n",
              "  <tbody>\n",
              "    <tr>\n",
              "      <th>0</th>\n",
              "      <td>842</td>\n",
              "      <td>0</td>\n",
              "      <td>2.2</td>\n",
              "      <td>0</td>\n",
              "      <td>1</td>\n",
              "      <td>0</td>\n",
              "      <td>7</td>\n",
              "      <td>0.6</td>\n",
              "      <td>188</td>\n",
              "      <td>2</td>\n",
              "      <td>2</td>\n",
              "      <td>20</td>\n",
              "      <td>756</td>\n",
              "      <td>2549</td>\n",
              "      <td>9</td>\n",
              "      <td>7</td>\n",
              "      <td>19</td>\n",
              "      <td>0</td>\n",
              "      <td>0</td>\n",
              "      <td>1</td>\n",
              "    </tr>\n",
              "    <tr>\n",
              "      <th>1</th>\n",
              "      <td>1021</td>\n",
              "      <td>1</td>\n",
              "      <td>0.5</td>\n",
              "      <td>1</td>\n",
              "      <td>0</td>\n",
              "      <td>1</td>\n",
              "      <td>53</td>\n",
              "      <td>0.7</td>\n",
              "      <td>136</td>\n",
              "      <td>3</td>\n",
              "      <td>6</td>\n",
              "      <td>905</td>\n",
              "      <td>1988</td>\n",
              "      <td>2631</td>\n",
              "      <td>17</td>\n",
              "      <td>3</td>\n",
              "      <td>7</td>\n",
              "      <td>1</td>\n",
              "      <td>1</td>\n",
              "      <td>0</td>\n",
              "    </tr>\n",
              "  </tbody>\n",
              "</table>\n",
              "</div>"
            ],
            "text/plain": [
              "   battery_power  blue  clock_speed  ...  three_g  touch_screen  wifi\n",
              "0            842     0          2.2  ...        0             0     1\n",
              "1           1021     1          0.5  ...        1             1     0\n",
              "\n",
              "[2 rows x 20 columns]"
            ]
          },
          "metadata": {},
          "execution_count": 16
        }
      ]
    },
    {
      "cell_type": "code",
      "metadata": {
        "colab": {
          "base_uri": "https://localhost:8080/"
        },
        "id": "A18St8J2nHUY",
        "outputId": "d8ba6a0e-8775-4fd7-d893-0c370519847b"
      },
      "source": [
        "X['px_height'] = np.sqrt(X['px_height'])\n",
        "#X['sc_w'] = np.sqrt(X['sc_w'])"
      ],
      "execution_count": 17,
      "outputs": [
        {
          "output_type": "stream",
          "name": "stderr",
          "text": [
            "/usr/local/lib/python3.7/dist-packages/ipykernel_launcher.py:1: SettingWithCopyWarning: \n",
            "A value is trying to be set on a copy of a slice from a DataFrame.\n",
            "Try using .loc[row_indexer,col_indexer] = value instead\n",
            "\n",
            "See the caveats in the documentation: https://pandas.pydata.org/pandas-docs/stable/user_guide/indexing.html#returning-a-view-versus-a-copy\n",
            "  \"\"\"Entry point for launching an IPython kernel.\n"
          ]
        }
      ]
    },
    {
      "cell_type": "code",
      "metadata": {
        "colab": {
          "base_uri": "https://localhost:8080/",
          "height": 1000
        },
        "id": "cmqJhn1LnvY4",
        "outputId": "4e4f214b-680d-43a6-ed1b-be3459879a28"
      },
      "source": [
        "X.hist(bins=50,figsize=(30,20))"
      ],
      "execution_count": 18,
      "outputs": [
        {
          "output_type": "execute_result",
          "data": {
            "text/plain": [
              "array([[<matplotlib.axes._subplots.AxesSubplot object at 0x7f238934e1d0>,\n",
              "        <matplotlib.axes._subplots.AxesSubplot object at 0x7f238ac259d0>,\n",
              "        <matplotlib.axes._subplots.AxesSubplot object at 0x7f2389589e90>,\n",
              "        <matplotlib.axes._subplots.AxesSubplot object at 0x7f2389489490>],\n",
              "       [<matplotlib.axes._subplots.AxesSubplot object at 0x7f2389533910>,\n",
              "        <matplotlib.axes._subplots.AxesSubplot object at 0x7f23892c7ad0>,\n",
              "        <matplotlib.axes._subplots.AxesSubplot object at 0x7f23891bedd0>,\n",
              "        <matplotlib.axes._subplots.AxesSubplot object at 0x7f2389176410>],\n",
              "       [<matplotlib.axes._subplots.AxesSubplot object at 0x7f238917e4d0>,\n",
              "        <matplotlib.axes._subplots.AxesSubplot object at 0x7f2389131c10>,\n",
              "        <matplotlib.axes._subplots.AxesSubplot object at 0x7f238911c650>,\n",
              "        <matplotlib.axes._subplots.AxesSubplot object at 0x7f23890d2c50>],\n",
              "       [<matplotlib.axes._subplots.AxesSubplot object at 0x7f2389094290>,\n",
              "        <matplotlib.axes._subplots.AxesSubplot object at 0x7f238904a890>,\n",
              "        <matplotlib.axes._subplots.AxesSubplot object at 0x7f238900bf50>,\n",
              "        <matplotlib.axes._subplots.AxesSubplot object at 0x7f2388fc54d0>],\n",
              "       [<matplotlib.axes._subplots.AxesSubplot object at 0x7f2388f7bad0>,\n",
              "        <matplotlib.axes._subplots.AxesSubplot object at 0x7f2388f3e110>,\n",
              "        <matplotlib.axes._subplots.AxesSubplot object at 0x7f2388ef4710>,\n",
              "        <matplotlib.axes._subplots.AxesSubplot object at 0x7f2388eaad10>]],\n",
              "      dtype=object)"
            ]
          },
          "metadata": {},
          "execution_count": 18
        },
        {
          "output_type": "display_data",
          "data": {
            "image/png": "[encoded data removed]",
            "text/plain": [
              "<Figure size 2160x1440 with 20 Axes>"
            ]
          },
          "metadata": {
            "needs_background": "light"
          }
        }
      ]
    },
    {
      "cell_type": "code",
      "metadata": {
        "id": "NXeIz05-rjZB"
      },
      "source": [
        "y = data[['price_range']]"
      ],
      "execution_count": 19,
      "outputs": []
    },
    {
      "cell_type": "code",
      "metadata": {
        "id": "IrRggqnQrnNT"
      },
      "source": [
        "from sklearn.model_selection import train_test_split\n",
        "X_train, X_test, y_train, y_test = train_test_split(X,y,stratify=y, random_state=42)"
      ],
      "execution_count": 20,
      "outputs": []
    },
    {
      "cell_type": "code",
      "metadata": {
        "id": "B1nxcFRar4lS"
      },
      "source": [
        "from sklearn.ensemble import RandomForestClassifier"
      ],
      "execution_count": 21,
      "outputs": []
    },
    {
      "cell_type": "code",
      "metadata": {
        "id": "SHkBKoWvsBVy"
      },
      "source": [
        "model = RandomForestClassifier(random_state=42)"
      ],
      "execution_count": 22,
      "outputs": []
    },
    {
      "cell_type": "code",
      "metadata": {
        "colab": {
          "base_uri": "https://localhost:8080/"
        },
        "id": "deQ30vVrsJZy",
        "outputId": "66c2f67c-ef4b-4523-dc96-70f1a23a0530"
      },
      "source": [
        "model.fit(X_train, y_train)"
      ],
      "execution_count": 23,
      "outputs": [
        {
          "output_type": "stream",
          "name": "stderr",
          "text": [
            "/usr/local/lib/python3.7/dist-packages/ipykernel_launcher.py:1: DataConversionWarning: A column-vector y was passed when a 1d array was expected. Please change the shape of y to (n_samples,), for example using ravel().\n",
            "  \"\"\"Entry point for launching an IPython kernel.\n"
          ]
        },
        {
          "output_type": "execute_result",
          "data": {
            "text/plain": [
              "RandomForestClassifier(random_state=42)"
            ]
          },
          "metadata": {},
          "execution_count": 23
        }
      ]
    },
    {
      "cell_type": "code",
      "metadata": {
        "id": "CUDaaGSqsNDy"
      },
      "source": [
        "pred_train = model.predict(X_train)\n",
        "pred_test = model.predict(X_test)"
      ],
      "execution_count": 24,
      "outputs": []
    },
    {
      "cell_type": "code",
      "metadata": {
        "colab": {
          "base_uri": "https://localhost:8080/"
        },
        "id": "tfOtrpazsSft",
        "outputId": "0b3437c1-fc1e-413a-e0d2-d8f6cf00516c"
      },
      "source": [
        "pred_train[0:5]"
      ],
      "execution_count": 25,
      "outputs": [
        {
          "output_type": "execute_result",
          "data": {
            "text/plain": [
              "array([2, 3, 1, 2, 1])"
            ]
          },
          "metadata": {},
          "execution_count": 25
        }
      ]
    },
    {
      "cell_type": "code",
      "metadata": {
        "id": "yDrYRHwPsVxC"
      },
      "source": [
        "from sklearn.metrics import accuracy_score"
      ],
      "execution_count": 26,
      "outputs": []
    },
    {
      "cell_type": "code",
      "metadata": {
        "id": "3TaxnGeWslCO"
      },
      "source": [
        "score_train = accuracy_score(y_train, pred_train)\n",
        "score_test = accuracy_score(y_test, pred_test)"
      ],
      "execution_count": 36,
      "outputs": []
    },
    {
      "cell_type": "code",
      "metadata": {
        "colab": {
          "base_uri": "https://localhost:8080/"
        },
        "id": "Zy7JGD8ptKNh",
        "outputId": "5e30bbbf-4735-4c96-9b40-867352549029"
      },
      "source": [
        "print(score_train)\n",
        "print(score_test)"
      ],
      "execution_count": 37,
      "outputs": [
        {
          "output_type": "stream",
          "name": "stdout",
          "text": [
            "1.0\n",
            "0.88\n"
          ]
        }
      ]
    },
    {
      "cell_type": "code",
      "metadata": {
        "id": "GBMSEXjEtLvX"
      },
      "source": [
        "submit = pd.read_csv(test_url)"
      ],
      "execution_count": 38,
      "outputs": []
    },
    {
      "cell_type": "code",
      "metadata": {
        "colab": {
          "base_uri": "https://localhost:8080/",
          "height": 111
        },
        "id": "hZvLXBsquv2d",
        "outputId": "4d4aa8e0-2b4c-4036-fcad-dd059a5efee0"
      },
      "source": [
        "submit.head(2)"
      ],
      "execution_count": 39,
      "outputs": [
        {
          "output_type": "execute_result",
          "data": {
            "text/html": [
              "<div>\n",
              "<style scoped>\n",
              "    .dataframe tbody tr th:only-of-type {\n",
              "        vertical-align: middle;\n",
              "    }\n",
              "\n",
              "    .dataframe tbody tr th {\n",
              "        vertical-align: top;\n",
              "    }\n",
              "\n",
              "    .dataframe thead th {\n",
              "        text-align: right;\n",
              "    }\n",
              "</style>\n",
              "<table border=\"1\" class=\"dataframe\">\n",
              "  <thead>\n",
              "    <tr style=\"text-align: right;\">\n",
              "      <th></th>\n",
              "      <th>id</th>\n",
              "      <th>battery_power</th>\n",
              "      <th>blue</th>\n",
              "      <th>clock_speed</th>\n",
              "      <th>dual_sim</th>\n",
              "      <th>fc</th>\n",
              "      <th>four_g</th>\n",
              "      <th>int_memory</th>\n",
              "      <th>m_dep</th>\n",
              "      <th>mobile_wt</th>\n",
              "      <th>n_cores</th>\n",
              "      <th>pc</th>\n",
              "      <th>px_height</th>\n",
              "      <th>px_width</th>\n",
              "      <th>ram</th>\n",
              "      <th>sc_h</th>\n",
              "      <th>sc_w</th>\n",
              "      <th>talk_time</th>\n",
              "      <th>three_g</th>\n",
              "      <th>touch_screen</th>\n",
              "      <th>wifi</th>\n",
              "    </tr>\n",
              "  </thead>\n",
              "  <tbody>\n",
              "    <tr>\n",
              "      <th>0</th>\n",
              "      <td>1</td>\n",
              "      <td>1043</td>\n",
              "      <td>1</td>\n",
              "      <td>1.8</td>\n",
              "      <td>1</td>\n",
              "      <td>14</td>\n",
              "      <td>0</td>\n",
              "      <td>5</td>\n",
              "      <td>0.1</td>\n",
              "      <td>193</td>\n",
              "      <td>3</td>\n",
              "      <td>16</td>\n",
              "      <td>226</td>\n",
              "      <td>1412</td>\n",
              "      <td>3476</td>\n",
              "      <td>12</td>\n",
              "      <td>7</td>\n",
              "      <td>2</td>\n",
              "      <td>0</td>\n",
              "      <td>1</td>\n",
              "      <td>0</td>\n",
              "    </tr>\n",
              "    <tr>\n",
              "      <th>1</th>\n",
              "      <td>2</td>\n",
              "      <td>841</td>\n",
              "      <td>1</td>\n",
              "      <td>0.5</td>\n",
              "      <td>1</td>\n",
              "      <td>4</td>\n",
              "      <td>1</td>\n",
              "      <td>61</td>\n",
              "      <td>0.8</td>\n",
              "      <td>191</td>\n",
              "      <td>5</td>\n",
              "      <td>12</td>\n",
              "      <td>746</td>\n",
              "      <td>857</td>\n",
              "      <td>3895</td>\n",
              "      <td>6</td>\n",
              "      <td>0</td>\n",
              "      <td>7</td>\n",
              "      <td>1</td>\n",
              "      <td>0</td>\n",
              "      <td>0</td>\n",
              "    </tr>\n",
              "  </tbody>\n",
              "</table>\n",
              "</div>"
            ],
            "text/plain": [
              "   id  battery_power  blue  clock_speed  ...  talk_time  three_g  touch_screen  wifi\n",
              "0   1           1043     1          1.8  ...          2        0             1     0\n",
              "1   2            841     1          0.5  ...          7        1             0     0\n",
              "\n",
              "[2 rows x 21 columns]"
            ]
          },
          "metadata": {},
          "execution_count": 39
        }
      ]
    },
    {
      "cell_type": "code",
      "metadata": {
        "id": "L23Uv_UWt7s8"
      },
      "source": [
        "submit_beforeT = submit.drop('id', axis=1)"
      ],
      "execution_count": 41,
      "outputs": []
    },
    {
      "cell_type": "code",
      "metadata": {
        "id": "X_5SsxLX7Ovy"
      },
      "source": [
        "submit_predict['sc_w'] = np.sqrt(submit_predict['sc_w'])"
      ],
      "execution_count": 44,
      "outputs": []
    },
    {
      "cell_type": "code",
      "metadata": {
        "colab": {
          "base_uri": "https://localhost:8080/",
          "height": 111
        },
        "id": "L-_9ubb_t2D5",
        "outputId": "50e77c65-d48d-46d1-b370-6ef0381670af"
      },
      "source": [
        "submit_predict.head(2)"
      ],
      "execution_count": 45,
      "outputs": [
        {
          "output_type": "execute_result",
          "data": {
            "text/html": [
              "<div>\n",
              "<style scoped>\n",
              "    .dataframe tbody tr th:only-of-type {\n",
              "        vertical-align: middle;\n",
              "    }\n",
              "\n",
              "    .dataframe tbody tr th {\n",
              "        vertical-align: top;\n",
              "    }\n",
              "\n",
              "    .dataframe thead th {\n",
              "        text-align: right;\n",
              "    }\n",
              "</style>\n",
              "<table border=\"1\" class=\"dataframe\">\n",
              "  <thead>\n",
              "    <tr style=\"text-align: right;\">\n",
              "      <th></th>\n",
              "      <th>battery_power</th>\n",
              "      <th>blue</th>\n",
              "      <th>clock_speed</th>\n",
              "      <th>dual_sim</th>\n",
              "      <th>fc</th>\n",
              "      <th>four_g</th>\n",
              "      <th>int_memory</th>\n",
              "      <th>m_dep</th>\n",
              "      <th>mobile_wt</th>\n",
              "      <th>n_cores</th>\n",
              "      <th>pc</th>\n",
              "      <th>px_height</th>\n",
              "      <th>px_width</th>\n",
              "      <th>ram</th>\n",
              "      <th>sc_h</th>\n",
              "      <th>sc_w</th>\n",
              "      <th>talk_time</th>\n",
              "      <th>three_g</th>\n",
              "      <th>touch_screen</th>\n",
              "      <th>wifi</th>\n",
              "    </tr>\n",
              "  </thead>\n",
              "  <tbody>\n",
              "    <tr>\n",
              "      <th>0</th>\n",
              "      <td>1043</td>\n",
              "      <td>1</td>\n",
              "      <td>1.8</td>\n",
              "      <td>1</td>\n",
              "      <td>14</td>\n",
              "      <td>0</td>\n",
              "      <td>5</td>\n",
              "      <td>0.1</td>\n",
              "      <td>193</td>\n",
              "      <td>3</td>\n",
              "      <td>16</td>\n",
              "      <td>226</td>\n",
              "      <td>1412</td>\n",
              "      <td>3476</td>\n",
              "      <td>12</td>\n",
              "      <td>2.645751</td>\n",
              "      <td>2</td>\n",
              "      <td>0</td>\n",
              "      <td>1</td>\n",
              "      <td>0</td>\n",
              "    </tr>\n",
              "    <tr>\n",
              "      <th>1</th>\n",
              "      <td>841</td>\n",
              "      <td>1</td>\n",
              "      <td>0.5</td>\n",
              "      <td>1</td>\n",
              "      <td>4</td>\n",
              "      <td>1</td>\n",
              "      <td>61</td>\n",
              "      <td>0.8</td>\n",
              "      <td>191</td>\n",
              "      <td>5</td>\n",
              "      <td>12</td>\n",
              "      <td>746</td>\n",
              "      <td>857</td>\n",
              "      <td>3895</td>\n",
              "      <td>6</td>\n",
              "      <td>0.000000</td>\n",
              "      <td>7</td>\n",
              "      <td>1</td>\n",
              "      <td>0</td>\n",
              "      <td>0</td>\n",
              "    </tr>\n",
              "  </tbody>\n",
              "</table>\n",
              "</div>"
            ],
            "text/plain": [
              "   battery_power  blue  clock_speed  ...  three_g  touch_screen  wifi\n",
              "0           1043     1          1.8  ...        0             1     0\n",
              "1            841     1          0.5  ...        1             0     0\n",
              "\n",
              "[2 rows x 20 columns]"
            ]
          },
          "metadata": {},
          "execution_count": 45
        }
      ]
    },
    {
      "cell_type": "code",
      "metadata": {
        "id": "Y0J1hgkOtZvK"
      },
      "source": [
        "pred_submit = model.predict(submit_predict)"
      ],
      "execution_count": 46,
      "outputs": []
    },
    {
      "cell_type": "code",
      "metadata": {
        "id": "5UdMhdyFtogY"
      },
      "source": [
        "submit['price_range'] = pred_submit "
      ],
      "execution_count": 47,
      "outputs": []
    },
    {
      "cell_type": "code",
      "metadata": {
        "colab": {
          "base_uri": "https://localhost:8080/",
          "height": 111
        },
        "id": "wlvc0VAoubJc",
        "outputId": "93263234-8b63-4ce5-ba07-3c1a8899f9c8"
      },
      "source": [
        "submit.head(2)"
      ],
      "execution_count": 48,
      "outputs": [
        {
          "output_type": "execute_result",
          "data": {
            "text/html": [
              "<div>\n",
              "<style scoped>\n",
              "    .dataframe tbody tr th:only-of-type {\n",
              "        vertical-align: middle;\n",
              "    }\n",
              "\n",
              "    .dataframe tbody tr th {\n",
              "        vertical-align: top;\n",
              "    }\n",
              "\n",
              "    .dataframe thead th {\n",
              "        text-align: right;\n",
              "    }\n",
              "</style>\n",
              "<table border=\"1\" class=\"dataframe\">\n",
              "  <thead>\n",
              "    <tr style=\"text-align: right;\">\n",
              "      <th></th>\n",
              "      <th>id</th>\n",
              "      <th>battery_power</th>\n",
              "      <th>blue</th>\n",
              "      <th>clock_speed</th>\n",
              "      <th>dual_sim</th>\n",
              "      <th>fc</th>\n",
              "      <th>four_g</th>\n",
              "      <th>int_memory</th>\n",
              "      <th>m_dep</th>\n",
              "      <th>mobile_wt</th>\n",
              "      <th>n_cores</th>\n",
              "      <th>pc</th>\n",
              "      <th>px_height</th>\n",
              "      <th>px_width</th>\n",
              "      <th>ram</th>\n",
              "      <th>sc_h</th>\n",
              "      <th>sc_w</th>\n",
              "      <th>talk_time</th>\n",
              "      <th>three_g</th>\n",
              "      <th>touch_screen</th>\n",
              "      <th>wifi</th>\n",
              "      <th>price_range</th>\n",
              "    </tr>\n",
              "  </thead>\n",
              "  <tbody>\n",
              "    <tr>\n",
              "      <th>0</th>\n",
              "      <td>1</td>\n",
              "      <td>1043</td>\n",
              "      <td>1</td>\n",
              "      <td>1.8</td>\n",
              "      <td>1</td>\n",
              "      <td>14</td>\n",
              "      <td>0</td>\n",
              "      <td>5</td>\n",
              "      <td>0.1</td>\n",
              "      <td>193</td>\n",
              "      <td>3</td>\n",
              "      <td>16</td>\n",
              "      <td>226</td>\n",
              "      <td>1412</td>\n",
              "      <td>3476</td>\n",
              "      <td>12</td>\n",
              "      <td>7</td>\n",
              "      <td>2</td>\n",
              "      <td>0</td>\n",
              "      <td>1</td>\n",
              "      <td>0</td>\n",
              "      <td>3</td>\n",
              "    </tr>\n",
              "    <tr>\n",
              "      <th>1</th>\n",
              "      <td>2</td>\n",
              "      <td>841</td>\n",
              "      <td>1</td>\n",
              "      <td>0.5</td>\n",
              "      <td>1</td>\n",
              "      <td>4</td>\n",
              "      <td>1</td>\n",
              "      <td>61</td>\n",
              "      <td>0.8</td>\n",
              "      <td>191</td>\n",
              "      <td>5</td>\n",
              "      <td>12</td>\n",
              "      <td>746</td>\n",
              "      <td>857</td>\n",
              "      <td>3895</td>\n",
              "      <td>6</td>\n",
              "      <td>0</td>\n",
              "      <td>7</td>\n",
              "      <td>1</td>\n",
              "      <td>0</td>\n",
              "      <td>0</td>\n",
              "      <td>3</td>\n",
              "    </tr>\n",
              "  </tbody>\n",
              "</table>\n",
              "</div>"
            ],
            "text/plain": [
              "   id  battery_power  blue  ...  touch_screen  wifi  price_range\n",
              "0   1           1043     1  ...             1     0            3\n",
              "1   2            841     1  ...             0     0            3\n",
              "\n",
              "[2 rows x 22 columns]"
            ]
          },
          "metadata": {},
          "execution_count": 48
        }
      ]
    },
    {
      "cell_type": "code",
      "metadata": {
        "id": "5zE4dBlguisc"
      },
      "source": [
        ""
      ],
      "execution_count": null,
      "outputs": []
    }
  ]
}