{
  "nbformat": 4,
  "nbformat_minor": 0,
  "metadata": {
    "colab": {
      "name": "YG_week3.ipynb",
      "provenance": [],
      "collapsed_sections": [
        "FOeTRGbMpwYp",
        "-tvH0Qjbp4Ys",
        "OOkGo4tmqZvF",
        "DE9b5YBxquc7"
      ],
      "authorship_tag": "ABX9TyMoHs0DrqP1fpvYFmXC4MiW",
      "include_colab_link": true
    },
    "kernelspec": {
      "name": "python3",
      "display_name": "Python 3"
    },
    "language_info": {
      "name": "python"
    }
  },
  "cells": [
    {
      "cell_type": "markdown",
      "metadata": {
        "id": "view-in-github",
        "colab_type": "text"
      },
      "source": [
        "<a href=\"https://colab.research.google.com/github/holdenkim/YG/blob/main/YG_week3.ipynb\" target=\"_parent\"><img src=\"https://colab.research.google.com/assets/colab-badge.svg\" alt=\"Open In Colab\"/></a>"
      ]
    },
    {
      "cell_type": "markdown",
      "metadata": {
        "id": "FOeTRGbMpwYp"
      },
      "source": [
        "#3주차 실기 유형 1 첫번째"
      ]
    },
    {
      "cell_type": "code",
      "metadata": {
        "id": "WO8rswKq7fnj"
      },
      "source": [
        "import pandas as pd"
      ],
      "execution_count": 41,
      "outputs": []
    },
    {
      "cell_type": "code",
      "metadata": {
        "id": "una0VL-w7hrz"
      },
      "source": [
        "data = pd.read_csv('https://raw.githubusercontent.com/Datamanim/datarepo/main/insurance/train.csv')"
      ],
      "execution_count": 42,
      "outputs": []
    },
    {
      "cell_type": "markdown",
      "metadata": {
        "id": "dvMP1M_D7mQ-"
      },
      "source": [
        " Vehicle_Age 값이 2년이상인 사람들 중 Annual_Premium 값이 해당 그룹의 중간값 이상인 사람들을 찾고, 그들의 Vintage값의 평균을 구하여라"
      ]
    },
    {
      "cell_type": "code",
      "metadata": {
        "colab": {
          "base_uri": "https://localhost:8080/"
        },
        "id": "1y2eeDFp7lkH",
        "outputId": "21e684d8-b894-4a13-e54b-8dc9fe30a085"
      },
      "source": [
        "data.value_counts()"
      ],
      "execution_count": 43,
      "outputs": [
        {
          "output_type": "execute_result",
          "data": {
            "text/plain": [
              "id      Gender  Age  Driving_License  Region_Code  Previously_Insured  Vehicle_Age  Vehicle_Damage  Annual_Premium  Policy_Sales_Channel  Vintage  Response\n",
              "381108  Female  68   1                14.0         0                   > 2 Years    Yes             44617.0         124.0                 74       0           1\n",
              "127057  Male    25   1                26.0         0                   < 1 Year     Yes             26299.0         160.0                 298      0           1\n",
              "127061  Male    25   1                5.0          1                   < 1 Year     No              50212.0         152.0                 78       0           1\n",
              "127064  Female  24   1                29.0         1                   < 1 Year     No              38992.0         152.0                 237      0           1\n",
              "127065  Female  29   1                30.0         1                   < 1 Year     No              30747.0         152.0                 237      0           1\n",
              "                                                                                                                                                              ..\n",
              "254160  Male    42   1                22.0         0                   1-2 Year     Yes             2630.0          157.0                 61       0           1\n",
              "254161  Female  28   1                37.0         0                   < 1 Year     No              2630.0          160.0                 275      0           1\n",
              "254162  Female  38   1                30.0         0                   1-2 Year     Yes             2630.0          157.0                 262      0           1\n",
              "254163  Male    54   1                20.0         0                   1-2 Year     Yes             2630.0          157.0                 203      0           1\n",
              "1       Male    44   1                28.0         0                   > 2 Years    Yes             40454.0         26.0                  217      1           1\n",
              "Length: 304887, dtype: int64"
            ]
          },
          "metadata": {},
          "execution_count": 43
        }
      ]
    },
    {
      "cell_type": "code",
      "metadata": {
        "colab": {
          "base_uri": "https://localhost:8080/",
          "height": 419
        },
        "id": "DGevGh4m7ovZ",
        "outputId": "f40532c2-86e1-4dca-f24f-644ee595a480"
      },
      "source": [
        "data[(data.Vehicle_Age == ('> 2 Years')) & (data.Annual_Premium > data.Annual_Premium.median())]"
      ],
      "execution_count": 44,
      "outputs": [
        {
          "output_type": "execute_result",
          "data": {
            "text/html": [
              "<div>\n",
              "<style scoped>\n",
              "    .dataframe tbody tr th:only-of-type {\n",
              "        vertical-align: middle;\n",
              "    }\n",
              "\n",
              "    .dataframe tbody tr th {\n",
              "        vertical-align: top;\n",
              "    }\n",
              "\n",
              "    .dataframe thead th {\n",
              "        text-align: right;\n",
              "    }\n",
              "</style>\n",
              "<table border=\"1\" class=\"dataframe\">\n",
              "  <thead>\n",
              "    <tr style=\"text-align: right;\">\n",
              "      <th></th>\n",
              "      <th>id</th>\n",
              "      <th>Gender</th>\n",
              "      <th>Age</th>\n",
              "      <th>Driving_License</th>\n",
              "      <th>Region_Code</th>\n",
              "      <th>Previously_Insured</th>\n",
              "      <th>Vehicle_Age</th>\n",
              "      <th>Vehicle_Damage</th>\n",
              "      <th>Annual_Premium</th>\n",
              "      <th>Policy_Sales_Channel</th>\n",
              "      <th>Vintage</th>\n",
              "      <th>Response</th>\n",
              "    </tr>\n",
              "  </thead>\n",
              "  <tbody>\n",
              "    <tr>\n",
              "      <th>11</th>\n",
              "      <td>39234</td>\n",
              "      <td>Male</td>\n",
              "      <td>65</td>\n",
              "      <td>1</td>\n",
              "      <td>28.0</td>\n",
              "      <td>0</td>\n",
              "      <td>&gt; 2 Years</td>\n",
              "      <td>Yes</td>\n",
              "      <td>41403.0</td>\n",
              "      <td>122.0</td>\n",
              "      <td>254</td>\n",
              "      <td>0</td>\n",
              "    </tr>\n",
              "    <tr>\n",
              "      <th>55</th>\n",
              "      <td>219321</td>\n",
              "      <td>Female</td>\n",
              "      <td>74</td>\n",
              "      <td>1</td>\n",
              "      <td>28.0</td>\n",
              "      <td>0</td>\n",
              "      <td>&gt; 2 Years</td>\n",
              "      <td>Yes</td>\n",
              "      <td>51430.0</td>\n",
              "      <td>26.0</td>\n",
              "      <td>197</td>\n",
              "      <td>0</td>\n",
              "    </tr>\n",
              "    <tr>\n",
              "      <th>71</th>\n",
              "      <td>48023</td>\n",
              "      <td>Female</td>\n",
              "      <td>48</td>\n",
              "      <td>1</td>\n",
              "      <td>28.0</td>\n",
              "      <td>0</td>\n",
              "      <td>&gt; 2 Years</td>\n",
              "      <td>Yes</td>\n",
              "      <td>66444.0</td>\n",
              "      <td>26.0</td>\n",
              "      <td>36</td>\n",
              "      <td>0</td>\n",
              "    </tr>\n",
              "    <tr>\n",
              "      <th>72</th>\n",
              "      <td>13025</td>\n",
              "      <td>Male</td>\n",
              "      <td>47</td>\n",
              "      <td>1</td>\n",
              "      <td>28.0</td>\n",
              "      <td>0</td>\n",
              "      <td>&gt; 2 Years</td>\n",
              "      <td>Yes</td>\n",
              "      <td>47506.0</td>\n",
              "      <td>124.0</td>\n",
              "      <td>148</td>\n",
              "      <td>1</td>\n",
              "    </tr>\n",
              "    <tr>\n",
              "      <th>144</th>\n",
              "      <td>91149</td>\n",
              "      <td>Male</td>\n",
              "      <td>46</td>\n",
              "      <td>1</td>\n",
              "      <td>8.0</td>\n",
              "      <td>0</td>\n",
              "      <td>&gt; 2 Years</td>\n",
              "      <td>Yes</td>\n",
              "      <td>34768.0</td>\n",
              "      <td>26.0</td>\n",
              "      <td>31</td>\n",
              "      <td>0</td>\n",
              "    </tr>\n",
              "    <tr>\n",
              "      <th>...</th>\n",
              "      <td>...</td>\n",
              "      <td>...</td>\n",
              "      <td>...</td>\n",
              "      <td>...</td>\n",
              "      <td>...</td>\n",
              "      <td>...</td>\n",
              "      <td>...</td>\n",
              "      <td>...</td>\n",
              "      <td>...</td>\n",
              "      <td>...</td>\n",
              "      <td>...</td>\n",
              "      <td>...</td>\n",
              "    </tr>\n",
              "    <tr>\n",
              "      <th>304789</th>\n",
              "      <td>105172</td>\n",
              "      <td>Male</td>\n",
              "      <td>68</td>\n",
              "      <td>1</td>\n",
              "      <td>28.0</td>\n",
              "      <td>0</td>\n",
              "      <td>&gt; 2 Years</td>\n",
              "      <td>Yes</td>\n",
              "      <td>56124.0</td>\n",
              "      <td>26.0</td>\n",
              "      <td>18</td>\n",
              "      <td>0</td>\n",
              "    </tr>\n",
              "    <tr>\n",
              "      <th>304811</th>\n",
              "      <td>15285</td>\n",
              "      <td>Male</td>\n",
              "      <td>44</td>\n",
              "      <td>1</td>\n",
              "      <td>28.0</td>\n",
              "      <td>0</td>\n",
              "      <td>&gt; 2 Years</td>\n",
              "      <td>Yes</td>\n",
              "      <td>45614.0</td>\n",
              "      <td>26.0</td>\n",
              "      <td>238</td>\n",
              "      <td>0</td>\n",
              "    </tr>\n",
              "    <tr>\n",
              "      <th>304815</th>\n",
              "      <td>64939</td>\n",
              "      <td>Male</td>\n",
              "      <td>59</td>\n",
              "      <td>1</td>\n",
              "      <td>28.0</td>\n",
              "      <td>0</td>\n",
              "      <td>&gt; 2 Years</td>\n",
              "      <td>Yes</td>\n",
              "      <td>49092.0</td>\n",
              "      <td>26.0</td>\n",
              "      <td>80</td>\n",
              "      <td>1</td>\n",
              "    </tr>\n",
              "    <tr>\n",
              "      <th>304818</th>\n",
              "      <td>133703</td>\n",
              "      <td>Male</td>\n",
              "      <td>57</td>\n",
              "      <td>1</td>\n",
              "      <td>41.0</td>\n",
              "      <td>0</td>\n",
              "      <td>&gt; 2 Years</td>\n",
              "      <td>Yes</td>\n",
              "      <td>37758.0</td>\n",
              "      <td>124.0</td>\n",
              "      <td>292</td>\n",
              "      <td>0</td>\n",
              "    </tr>\n",
              "    <tr>\n",
              "      <th>304823</th>\n",
              "      <td>339208</td>\n",
              "      <td>Male</td>\n",
              "      <td>63</td>\n",
              "      <td>1</td>\n",
              "      <td>28.0</td>\n",
              "      <td>0</td>\n",
              "      <td>&gt; 2 Years</td>\n",
              "      <td>Yes</td>\n",
              "      <td>32132.0</td>\n",
              "      <td>26.0</td>\n",
              "      <td>180</td>\n",
              "      <td>0</td>\n",
              "    </tr>\n",
              "  </tbody>\n",
              "</table>\n",
              "<p>8571 rows × 12 columns</p>\n",
              "</div>"
            ],
            "text/plain": [
              "            id  Gender  Age  ...  Policy_Sales_Channel  Vintage  Response\n",
              "11       39234    Male   65  ...                 122.0      254         0\n",
              "55      219321  Female   74  ...                  26.0      197         0\n",
              "71       48023  Female   48  ...                  26.0       36         0\n",
              "72       13025    Male   47  ...                 124.0      148         1\n",
              "144      91149    Male   46  ...                  26.0       31         0\n",
              "...        ...     ...  ...  ...                   ...      ...       ...\n",
              "304789  105172    Male   68  ...                  26.0       18         0\n",
              "304811   15285    Male   44  ...                  26.0      238         0\n",
              "304815   64939    Male   59  ...                  26.0       80         1\n",
              "304818  133703    Male   57  ...                 124.0      292         0\n",
              "304823  339208    Male   63  ...                  26.0      180         0\n",
              "\n",
              "[8571 rows x 12 columns]"
            ]
          },
          "metadata": {},
          "execution_count": 44
        }
      ]
    },
    {
      "cell_type": "code",
      "metadata": {
        "colab": {
          "base_uri": "https://localhost:8080/"
        },
        "id": "O0Hz032R7zQl",
        "outputId": "6ae87f10-8786-4672-e2b1-31ea23b7c914"
      },
      "source": [
        "data[(data.Vehicle_Age == ('> 2 Years')) & (data.Annual_Premium > data.Annual_Premium.median())].Vintage.mean()"
      ],
      "execution_count": 45,
      "outputs": [
        {
          "output_type": "execute_result",
          "data": {
            "text/plain": [
              "154.43647182359118"
            ]
          },
          "metadata": {},
          "execution_count": 45
        }
      ]
    },
    {
      "cell_type": "markdown",
      "metadata": {
        "id": "bSO-4P9i-z6d"
      },
      "source": [
        "vehicle_age에 따른 각 성별(gender)그룹의 Annual_Premium값의 평균을 구하여 아래 테이블과 동일하게 구현하라\n"
      ]
    },
    {
      "cell_type": "code",
      "metadata": {
        "id": "XhQGQ3T68NQ5"
      },
      "source": [
        "data_AP = data.groupby(['Vehicle_Age','Gender'], as_index=False)['Annual_Premium'].mean()"
      ],
      "execution_count": 46,
      "outputs": []
    },
    {
      "cell_type": "code",
      "metadata": {
        "colab": {
          "base_uri": "https://localhost:8080/",
          "height": 235
        },
        "id": "EXIuwEatBh9M",
        "outputId": "6fbc09d8-f56e-43a9-ee08-05dad7832d66"
      },
      "source": [
        "data_AP"
      ],
      "execution_count": 47,
      "outputs": [
        {
          "output_type": "execute_result",
          "data": {
            "text/html": [
              "<div>\n",
              "<style scoped>\n",
              "    .dataframe tbody tr th:only-of-type {\n",
              "        vertical-align: middle;\n",
              "    }\n",
              "\n",
              "    .dataframe tbody tr th {\n",
              "        vertical-align: top;\n",
              "    }\n",
              "\n",
              "    .dataframe thead th {\n",
              "        text-align: right;\n",
              "    }\n",
              "</style>\n",
              "<table border=\"1\" class=\"dataframe\">\n",
              "  <thead>\n",
              "    <tr style=\"text-align: right;\">\n",
              "      <th></th>\n",
              "      <th>Vehicle_Age</th>\n",
              "      <th>Gender</th>\n",
              "      <th>Annual_Premium</th>\n",
              "    </tr>\n",
              "  </thead>\n",
              "  <tbody>\n",
              "    <tr>\n",
              "      <th>0</th>\n",
              "      <td>1-2 Year</td>\n",
              "      <td>Female</td>\n",
              "      <td>30762.245001</td>\n",
              "    </tr>\n",
              "    <tr>\n",
              "      <th>1</th>\n",
              "      <td>1-2 Year</td>\n",
              "      <td>Male</td>\n",
              "      <td>30413.088469</td>\n",
              "    </tr>\n",
              "    <tr>\n",
              "      <th>2</th>\n",
              "      <td>&lt; 1 Year</td>\n",
              "      <td>Female</td>\n",
              "      <td>29972.286702</td>\n",
              "    </tr>\n",
              "    <tr>\n",
              "      <th>3</th>\n",
              "      <td>&lt; 1 Year</td>\n",
              "      <td>Male</td>\n",
              "      <td>30310.982212</td>\n",
              "    </tr>\n",
              "    <tr>\n",
              "      <th>4</th>\n",
              "      <td>&gt; 2 Years</td>\n",
              "      <td>Female</td>\n",
              "      <td>36108.366374</td>\n",
              "    </tr>\n",
              "    <tr>\n",
              "      <th>5</th>\n",
              "      <td>&gt; 2 Years</td>\n",
              "      <td>Male</td>\n",
              "      <td>35303.870627</td>\n",
              "    </tr>\n",
              "  </tbody>\n",
              "</table>\n",
              "</div>"
            ],
            "text/plain": [
              "  Vehicle_Age  Gender  Annual_Premium\n",
              "0    1-2 Year  Female    30762.245001\n",
              "1    1-2 Year    Male    30413.088469\n",
              "2    < 1 Year  Female    29972.286702\n",
              "3    < 1 Year    Male    30310.982212\n",
              "4   > 2 Years  Female    36108.366374\n",
              "5   > 2 Years    Male    35303.870627"
            ]
          },
          "metadata": {},
          "execution_count": 47
        }
      ]
    },
    {
      "cell_type": "code",
      "metadata": {
        "id": "obY0RCq4_BUO"
      },
      "source": [
        "pivot = data_AP.pivot(index='Vehicle_Age', columns='Gender')"
      ],
      "execution_count": 48,
      "outputs": []
    },
    {
      "cell_type": "code",
      "metadata": {
        "colab": {
          "base_uri": "https://localhost:8080/",
          "height": 204
        },
        "id": "eybtIoE0BfDN",
        "outputId": "67ed763c-228b-4c0a-f593-bf205b188997"
      },
      "source": [
        "pivot"
      ],
      "execution_count": 49,
      "outputs": [
        {
          "output_type": "execute_result",
          "data": {
            "text/html": [
              "<div>\n",
              "<style scoped>\n",
              "    .dataframe tbody tr th:only-of-type {\n",
              "        vertical-align: middle;\n",
              "    }\n",
              "\n",
              "    .dataframe tbody tr th {\n",
              "        vertical-align: top;\n",
              "    }\n",
              "\n",
              "    .dataframe thead tr th {\n",
              "        text-align: left;\n",
              "    }\n",
              "\n",
              "    .dataframe thead tr:last-of-type th {\n",
              "        text-align: right;\n",
              "    }\n",
              "</style>\n",
              "<table border=\"1\" class=\"dataframe\">\n",
              "  <thead>\n",
              "    <tr>\n",
              "      <th></th>\n",
              "      <th colspan=\"2\" halign=\"left\">Annual_Premium</th>\n",
              "    </tr>\n",
              "    <tr>\n",
              "      <th>Gender</th>\n",
              "      <th>Female</th>\n",
              "      <th>Male</th>\n",
              "    </tr>\n",
              "    <tr>\n",
              "      <th>Vehicle_Age</th>\n",
              "      <th></th>\n",
              "      <th></th>\n",
              "    </tr>\n",
              "  </thead>\n",
              "  <tbody>\n",
              "    <tr>\n",
              "      <th>1-2 Year</th>\n",
              "      <td>30762.245001</td>\n",
              "      <td>30413.088469</td>\n",
              "    </tr>\n",
              "    <tr>\n",
              "      <th>&lt; 1 Year</th>\n",
              "      <td>29972.286702</td>\n",
              "      <td>30310.982212</td>\n",
              "    </tr>\n",
              "    <tr>\n",
              "      <th>&gt; 2 Years</th>\n",
              "      <td>36108.366374</td>\n",
              "      <td>35303.870627</td>\n",
              "    </tr>\n",
              "  </tbody>\n",
              "</table>\n",
              "</div>"
            ],
            "text/plain": [
              "            Annual_Premium              \n",
              "Gender              Female          Male\n",
              "Vehicle_Age                             \n",
              "1-2 Year      30762.245001  30413.088469\n",
              "< 1 Year      29972.286702  30310.982212\n",
              "> 2 Years     36108.366374  35303.870627"
            ]
          },
          "metadata": {},
          "execution_count": 49
        }
      ]
    },
    {
      "cell_type": "markdown",
      "metadata": {
        "id": "-tvH0Qjbp4Ys"
      },
      "source": [
        "#3주차 실기 유형1 두번째"
      ]
    },
    {
      "cell_type": "code",
      "metadata": {
        "id": "KHQWVX6VBpeW"
      },
      "source": [
        "data = pd.read_csv('https://raw.githubusercontent.com/Datamanim/datarepo/main/mobile/train.csv')"
      ],
      "execution_count": 51,
      "outputs": []
    },
    {
      "cell_type": "code",
      "metadata": {
        "colab": {
          "base_uri": "https://localhost:8080/",
          "height": 111
        },
        "id": "OekDiptRBzus",
        "outputId": "665562e4-2002-4f45-8c2e-389897a4cba3"
      },
      "source": [
        "data.head(2)"
      ],
      "execution_count": 52,
      "outputs": [
        {
          "output_type": "execute_result",
          "data": {
            "text/html": [
              "<div>\n",
              "<style scoped>\n",
              "    .dataframe tbody tr th:only-of-type {\n",
              "        vertical-align: middle;\n",
              "    }\n",
              "\n",
              "    .dataframe tbody tr th {\n",
              "        vertical-align: top;\n",
              "    }\n",
              "\n",
              "    .dataframe thead th {\n",
              "        text-align: right;\n",
              "    }\n",
              "</style>\n",
              "<table border=\"1\" class=\"dataframe\">\n",
              "  <thead>\n",
              "    <tr style=\"text-align: right;\">\n",
              "      <th></th>\n",
              "      <th>battery_power</th>\n",
              "      <th>blue</th>\n",
              "      <th>clock_speed</th>\n",
              "      <th>dual_sim</th>\n",
              "      <th>fc</th>\n",
              "      <th>four_g</th>\n",
              "      <th>int_memory</th>\n",
              "      <th>m_dep</th>\n",
              "      <th>mobile_wt</th>\n",
              "      <th>n_cores</th>\n",
              "      <th>pc</th>\n",
              "      <th>px_height</th>\n",
              "      <th>px_width</th>\n",
              "      <th>ram</th>\n",
              "      <th>sc_h</th>\n",
              "      <th>sc_w</th>\n",
              "      <th>talk_time</th>\n",
              "      <th>three_g</th>\n",
              "      <th>touch_screen</th>\n",
              "      <th>wifi</th>\n",
              "      <th>price_range</th>\n",
              "    </tr>\n",
              "  </thead>\n",
              "  <tbody>\n",
              "    <tr>\n",
              "      <th>0</th>\n",
              "      <td>842</td>\n",
              "      <td>0</td>\n",
              "      <td>2.2</td>\n",
              "      <td>0</td>\n",
              "      <td>1</td>\n",
              "      <td>0</td>\n",
              "      <td>7</td>\n",
              "      <td>0.6</td>\n",
              "      <td>188</td>\n",
              "      <td>2</td>\n",
              "      <td>2</td>\n",
              "      <td>20</td>\n",
              "      <td>756</td>\n",
              "      <td>2549</td>\n",
              "      <td>9</td>\n",
              "      <td>7</td>\n",
              "      <td>19</td>\n",
              "      <td>0</td>\n",
              "      <td>0</td>\n",
              "      <td>1</td>\n",
              "      <td>1</td>\n",
              "    </tr>\n",
              "    <tr>\n",
              "      <th>1</th>\n",
              "      <td>1021</td>\n",
              "      <td>1</td>\n",
              "      <td>0.5</td>\n",
              "      <td>1</td>\n",
              "      <td>0</td>\n",
              "      <td>1</td>\n",
              "      <td>53</td>\n",
              "      <td>0.7</td>\n",
              "      <td>136</td>\n",
              "      <td>3</td>\n",
              "      <td>6</td>\n",
              "      <td>905</td>\n",
              "      <td>1988</td>\n",
              "      <td>2631</td>\n",
              "      <td>17</td>\n",
              "      <td>3</td>\n",
              "      <td>7</td>\n",
              "      <td>1</td>\n",
              "      <td>1</td>\n",
              "      <td>0</td>\n",
              "      <td>2</td>\n",
              "    </tr>\n",
              "  </tbody>\n",
              "</table>\n",
              "</div>"
            ],
            "text/plain": [
              "   battery_power  blue  clock_speed  ...  touch_screen  wifi  price_range\n",
              "0            842     0          2.2  ...             0     1            1\n",
              "1           1021     1          0.5  ...             1     0            2\n",
              "\n",
              "[2 rows x 21 columns]"
            ]
          },
          "metadata": {},
          "execution_count": 52
        }
      ]
    },
    {
      "cell_type": "markdown",
      "metadata": {
        "id": "2aiJ_GF_B3Sr"
      },
      "source": [
        "price_range로 그룹핑 하여 각 그룹의 n_core 빈도가 가장 높은 value와 그 빈도수를 구하여라"
      ]
    },
    {
      "cell_type": "code",
      "metadata": {
        "colab": {
          "base_uri": "https://localhost:8080/"
        },
        "id": "ZJxODAh_B3pX",
        "outputId": "a039a516-7b28-4894-baac-8c8587b6fb88"
      },
      "source": [
        "data.groupby('price_range')['n_cores'].sum().sort_values(ascending=False)"
      ],
      "execution_count": 53,
      "outputs": [
        {
          "output_type": "execute_result",
          "data": {
            "text/plain": [
              "price_range\n",
              "2    2341\n",
              "0    2300\n",
              "3    2251\n",
              "1    2149\n",
              "Name: n_cores, dtype: int64"
            ]
          },
          "metadata": {},
          "execution_count": 53
        }
      ]
    },
    {
      "cell_type": "code",
      "metadata": {
        "colab": {
          "base_uri": "https://localhost:8080/"
        },
        "id": "0gBaWek4E6Qy",
        "outputId": "cae236a1-fd56-4d5c-eac6-ee6724085120"
      },
      "source": [
        "data.groupby('price_range', as_index=False)['n_cores'].sum().sort_values('n_cores', ascending=False).iloc[0,:]"
      ],
      "execution_count": 54,
      "outputs": [
        {
          "output_type": "execute_result",
          "data": {
            "text/plain": [
              "price_range       2\n",
              "n_cores        2341\n",
              "Name: 2, dtype: int64"
            ]
          },
          "metadata": {},
          "execution_count": 54
        }
      ]
    },
    {
      "cell_type": "markdown",
      "metadata": {
        "id": "haoNvQcgFtLf"
      },
      "source": [
        "price_range 3인 그룹에서 상관관계가 2번째로 높은 두 컬럼과 상관 계수를 구하라"
      ]
    },
    {
      "cell_type": "code",
      "metadata": {
        "colab": {
          "base_uri": "https://localhost:8080/",
          "height": 419
        },
        "id": "UFDg1GAaFZKZ",
        "outputId": "ac43e145-99cc-4bb0-98d8-f3d8db0efe4d"
      },
      "source": [
        "data[(data['price_range']==3)]"
      ],
      "execution_count": 55,
      "outputs": [
        {
          "output_type": "execute_result",
          "data": {
            "text/html": [
              "<div>\n",
              "<style scoped>\n",
              "    .dataframe tbody tr th:only-of-type {\n",
              "        vertical-align: middle;\n",
              "    }\n",
              "\n",
              "    .dataframe tbody tr th {\n",
              "        vertical-align: top;\n",
              "    }\n",
              "\n",
              "    .dataframe thead th {\n",
              "        text-align: right;\n",
              "    }\n",
              "</style>\n",
              "<table border=\"1\" class=\"dataframe\">\n",
              "  <thead>\n",
              "    <tr style=\"text-align: right;\">\n",
              "      <th></th>\n",
              "      <th>battery_power</th>\n",
              "      <th>blue</th>\n",
              "      <th>clock_speed</th>\n",
              "      <th>dual_sim</th>\n",
              "      <th>fc</th>\n",
              "      <th>four_g</th>\n",
              "      <th>int_memory</th>\n",
              "      <th>m_dep</th>\n",
              "      <th>mobile_wt</th>\n",
              "      <th>n_cores</th>\n",
              "      <th>pc</th>\n",
              "      <th>px_height</th>\n",
              "      <th>px_width</th>\n",
              "      <th>ram</th>\n",
              "      <th>sc_h</th>\n",
              "      <th>sc_w</th>\n",
              "      <th>talk_time</th>\n",
              "      <th>three_g</th>\n",
              "      <th>touch_screen</th>\n",
              "      <th>wifi</th>\n",
              "      <th>price_range</th>\n",
              "    </tr>\n",
              "  </thead>\n",
              "  <tbody>\n",
              "    <tr>\n",
              "      <th>6</th>\n",
              "      <td>1821</td>\n",
              "      <td>0</td>\n",
              "      <td>1.7</td>\n",
              "      <td>0</td>\n",
              "      <td>4</td>\n",
              "      <td>1</td>\n",
              "      <td>10</td>\n",
              "      <td>0.8</td>\n",
              "      <td>139</td>\n",
              "      <td>8</td>\n",
              "      <td>10</td>\n",
              "      <td>381</td>\n",
              "      <td>1018</td>\n",
              "      <td>3220</td>\n",
              "      <td>13</td>\n",
              "      <td>8</td>\n",
              "      <td>18</td>\n",
              "      <td>1</td>\n",
              "      <td>0</td>\n",
              "      <td>1</td>\n",
              "      <td>3</td>\n",
              "    </tr>\n",
              "    <tr>\n",
              "      <th>10</th>\n",
              "      <td>769</td>\n",
              "      <td>1</td>\n",
              "      <td>2.9</td>\n",
              "      <td>1</td>\n",
              "      <td>0</td>\n",
              "      <td>0</td>\n",
              "      <td>9</td>\n",
              "      <td>0.1</td>\n",
              "      <td>182</td>\n",
              "      <td>5</td>\n",
              "      <td>1</td>\n",
              "      <td>248</td>\n",
              "      <td>874</td>\n",
              "      <td>3946</td>\n",
              "      <td>5</td>\n",
              "      <td>2</td>\n",
              "      <td>7</td>\n",
              "      <td>0</td>\n",
              "      <td>0</td>\n",
              "      <td>0</td>\n",
              "      <td>3</td>\n",
              "    </tr>\n",
              "    <tr>\n",
              "      <th>11</th>\n",
              "      <td>1520</td>\n",
              "      <td>1</td>\n",
              "      <td>2.2</td>\n",
              "      <td>0</td>\n",
              "      <td>5</td>\n",
              "      <td>1</td>\n",
              "      <td>33</td>\n",
              "      <td>0.5</td>\n",
              "      <td>177</td>\n",
              "      <td>8</td>\n",
              "      <td>18</td>\n",
              "      <td>151</td>\n",
              "      <td>1005</td>\n",
              "      <td>3826</td>\n",
              "      <td>14</td>\n",
              "      <td>9</td>\n",
              "      <td>13</td>\n",
              "      <td>1</td>\n",
              "      <td>1</td>\n",
              "      <td>1</td>\n",
              "      <td>3</td>\n",
              "    </tr>\n",
              "    <tr>\n",
              "      <th>16</th>\n",
              "      <td>838</td>\n",
              "      <td>0</td>\n",
              "      <td>0.5</td>\n",
              "      <td>0</td>\n",
              "      <td>1</td>\n",
              "      <td>1</td>\n",
              "      <td>13</td>\n",
              "      <td>0.1</td>\n",
              "      <td>196</td>\n",
              "      <td>8</td>\n",
              "      <td>4</td>\n",
              "      <td>984</td>\n",
              "      <td>1850</td>\n",
              "      <td>3554</td>\n",
              "      <td>10</td>\n",
              "      <td>9</td>\n",
              "      <td>19</td>\n",
              "      <td>1</td>\n",
              "      <td>0</td>\n",
              "      <td>1</td>\n",
              "      <td>3</td>\n",
              "    </tr>\n",
              "    <tr>\n",
              "      <th>17</th>\n",
              "      <td>595</td>\n",
              "      <td>0</td>\n",
              "      <td>0.9</td>\n",
              "      <td>1</td>\n",
              "      <td>7</td>\n",
              "      <td>1</td>\n",
              "      <td>23</td>\n",
              "      <td>0.1</td>\n",
              "      <td>121</td>\n",
              "      <td>3</td>\n",
              "      <td>17</td>\n",
              "      <td>441</td>\n",
              "      <td>810</td>\n",
              "      <td>3752</td>\n",
              "      <td>10</td>\n",
              "      <td>2</td>\n",
              "      <td>18</td>\n",
              "      <td>1</td>\n",
              "      <td>1</td>\n",
              "      <td>0</td>\n",
              "      <td>3</td>\n",
              "    </tr>\n",
              "    <tr>\n",
              "      <th>...</th>\n",
              "      <td>...</td>\n",
              "      <td>...</td>\n",
              "      <td>...</td>\n",
              "      <td>...</td>\n",
              "      <td>...</td>\n",
              "      <td>...</td>\n",
              "      <td>...</td>\n",
              "      <td>...</td>\n",
              "      <td>...</td>\n",
              "      <td>...</td>\n",
              "      <td>...</td>\n",
              "      <td>...</td>\n",
              "      <td>...</td>\n",
              "      <td>...</td>\n",
              "      <td>...</td>\n",
              "      <td>...</td>\n",
              "      <td>...</td>\n",
              "      <td>...</td>\n",
              "      <td>...</td>\n",
              "      <td>...</td>\n",
              "      <td>...</td>\n",
              "    </tr>\n",
              "    <tr>\n",
              "      <th>1991</th>\n",
              "      <td>1882</td>\n",
              "      <td>0</td>\n",
              "      <td>2.0</td>\n",
              "      <td>0</td>\n",
              "      <td>11</td>\n",
              "      <td>1</td>\n",
              "      <td>44</td>\n",
              "      <td>0.8</td>\n",
              "      <td>113</td>\n",
              "      <td>8</td>\n",
              "      <td>19</td>\n",
              "      <td>4</td>\n",
              "      <td>743</td>\n",
              "      <td>3579</td>\n",
              "      <td>19</td>\n",
              "      <td>8</td>\n",
              "      <td>20</td>\n",
              "      <td>1</td>\n",
              "      <td>1</td>\n",
              "      <td>0</td>\n",
              "      <td>3</td>\n",
              "    </tr>\n",
              "    <tr>\n",
              "      <th>1993</th>\n",
              "      <td>1467</td>\n",
              "      <td>1</td>\n",
              "      <td>0.5</td>\n",
              "      <td>0</td>\n",
              "      <td>0</td>\n",
              "      <td>0</td>\n",
              "      <td>18</td>\n",
              "      <td>0.6</td>\n",
              "      <td>122</td>\n",
              "      <td>5</td>\n",
              "      <td>0</td>\n",
              "      <td>888</td>\n",
              "      <td>1099</td>\n",
              "      <td>3962</td>\n",
              "      <td>15</td>\n",
              "      <td>11</td>\n",
              "      <td>5</td>\n",
              "      <td>1</td>\n",
              "      <td>1</td>\n",
              "      <td>1</td>\n",
              "      <td>3</td>\n",
              "    </tr>\n",
              "    <tr>\n",
              "      <th>1994</th>\n",
              "      <td>858</td>\n",
              "      <td>0</td>\n",
              "      <td>2.2</td>\n",
              "      <td>0</td>\n",
              "      <td>1</td>\n",
              "      <td>0</td>\n",
              "      <td>50</td>\n",
              "      <td>0.1</td>\n",
              "      <td>84</td>\n",
              "      <td>1</td>\n",
              "      <td>2</td>\n",
              "      <td>528</td>\n",
              "      <td>1416</td>\n",
              "      <td>3978</td>\n",
              "      <td>17</td>\n",
              "      <td>16</td>\n",
              "      <td>3</td>\n",
              "      <td>1</td>\n",
              "      <td>1</td>\n",
              "      <td>0</td>\n",
              "      <td>3</td>\n",
              "    </tr>\n",
              "    <tr>\n",
              "      <th>1997</th>\n",
              "      <td>1911</td>\n",
              "      <td>0</td>\n",
              "      <td>0.9</td>\n",
              "      <td>1</td>\n",
              "      <td>1</td>\n",
              "      <td>1</td>\n",
              "      <td>36</td>\n",
              "      <td>0.7</td>\n",
              "      <td>108</td>\n",
              "      <td>8</td>\n",
              "      <td>3</td>\n",
              "      <td>868</td>\n",
              "      <td>1632</td>\n",
              "      <td>3057</td>\n",
              "      <td>9</td>\n",
              "      <td>1</td>\n",
              "      <td>5</td>\n",
              "      <td>1</td>\n",
              "      <td>1</td>\n",
              "      <td>0</td>\n",
              "      <td>3</td>\n",
              "    </tr>\n",
              "    <tr>\n",
              "      <th>1999</th>\n",
              "      <td>510</td>\n",
              "      <td>1</td>\n",
              "      <td>2.0</td>\n",
              "      <td>1</td>\n",
              "      <td>5</td>\n",
              "      <td>1</td>\n",
              "      <td>45</td>\n",
              "      <td>0.9</td>\n",
              "      <td>168</td>\n",
              "      <td>6</td>\n",
              "      <td>16</td>\n",
              "      <td>483</td>\n",
              "      <td>754</td>\n",
              "      <td>3919</td>\n",
              "      <td>19</td>\n",
              "      <td>4</td>\n",
              "      <td>2</td>\n",
              "      <td>1</td>\n",
              "      <td>1</td>\n",
              "      <td>1</td>\n",
              "      <td>3</td>\n",
              "    </tr>\n",
              "  </tbody>\n",
              "</table>\n",
              "<p>500 rows × 21 columns</p>\n",
              "</div>"
            ],
            "text/plain": [
              "      battery_power  blue  clock_speed  ...  touch_screen  wifi  price_range\n",
              "6              1821     0          1.7  ...             0     1            3\n",
              "10              769     1          2.9  ...             0     0            3\n",
              "11             1520     1          2.2  ...             1     1            3\n",
              "16              838     0          0.5  ...             0     1            3\n",
              "17              595     0          0.9  ...             1     0            3\n",
              "...             ...   ...          ...  ...           ...   ...          ...\n",
              "1991           1882     0          2.0  ...             1     0            3\n",
              "1993           1467     1          0.5  ...             1     1            3\n",
              "1994            858     0          2.2  ...             1     0            3\n",
              "1997           1911     0          0.9  ...             1     0            3\n",
              "1999            510     1          2.0  ...             1     1            3\n",
              "\n",
              "[500 rows x 21 columns]"
            ]
          },
          "metadata": {},
          "execution_count": 55
        }
      ]
    },
    {
      "cell_type": "code",
      "metadata": {
        "colab": {
          "base_uri": "https://localhost:8080/",
          "height": 720
        },
        "id": "tiNVUc9RHWRV",
        "outputId": "d87100cd-e842-422f-a261-6b5112bca8d3"
      },
      "source": [
        "data[(data['price_range']==3)].corr()"
      ],
      "execution_count": 56,
      "outputs": [
        {
          "output_type": "execute_result",
          "data": {
            "text/html": [
              "<div>\n",
              "<style scoped>\n",
              "    .dataframe tbody tr th:only-of-type {\n",
              "        vertical-align: middle;\n",
              "    }\n",
              "\n",
              "    .dataframe tbody tr th {\n",
              "        vertical-align: top;\n",
              "    }\n",
              "\n",
              "    .dataframe thead th {\n",
              "        text-align: right;\n",
              "    }\n",
              "</style>\n",
              "<table border=\"1\" class=\"dataframe\">\n",
              "  <thead>\n",
              "    <tr style=\"text-align: right;\">\n",
              "      <th></th>\n",
              "      <th>battery_power</th>\n",
              "      <th>blue</th>\n",
              "      <th>clock_speed</th>\n",
              "      <th>dual_sim</th>\n",
              "      <th>fc</th>\n",
              "      <th>four_g</th>\n",
              "      <th>int_memory</th>\n",
              "      <th>m_dep</th>\n",
              "      <th>mobile_wt</th>\n",
              "      <th>n_cores</th>\n",
              "      <th>pc</th>\n",
              "      <th>px_height</th>\n",
              "      <th>px_width</th>\n",
              "      <th>ram</th>\n",
              "      <th>sc_h</th>\n",
              "      <th>sc_w</th>\n",
              "      <th>talk_time</th>\n",
              "      <th>three_g</th>\n",
              "      <th>touch_screen</th>\n",
              "      <th>wifi</th>\n",
              "      <th>price_range</th>\n",
              "    </tr>\n",
              "  </thead>\n",
              "  <tbody>\n",
              "    <tr>\n",
              "      <th>battery_power</th>\n",
              "      <td>1.000000</td>\n",
              "      <td>-0.019588</td>\n",
              "      <td>-0.047833</td>\n",
              "      <td>-0.134352</td>\n",
              "      <td>0.083515</td>\n",
              "      <td>0.014355</td>\n",
              "      <td>-0.041099</td>\n",
              "      <td>0.033896</td>\n",
              "      <td>-0.002937</td>\n",
              "      <td>-0.066908</td>\n",
              "      <td>0.025482</td>\n",
              "      <td>-0.082547</td>\n",
              "      <td>-0.065939</td>\n",
              "      <td>-0.262759</td>\n",
              "      <td>-0.080752</td>\n",
              "      <td>-0.009713</td>\n",
              "      <td>0.086021</td>\n",
              "      <td>-0.020736</td>\n",
              "      <td>-0.033993</td>\n",
              "      <td>0.001345</td>\n",
              "      <td>NaN</td>\n",
              "    </tr>\n",
              "    <tr>\n",
              "      <th>blue</th>\n",
              "      <td>-0.019588</td>\n",
              "      <td>1.000000</td>\n",
              "      <td>0.074535</td>\n",
              "      <td>0.061992</td>\n",
              "      <td>0.031587</td>\n",
              "      <td>0.044653</td>\n",
              "      <td>-0.003080</td>\n",
              "      <td>-0.016718</td>\n",
              "      <td>-0.030398</td>\n",
              "      <td>-0.045381</td>\n",
              "      <td>0.024459</td>\n",
              "      <td>0.043505</td>\n",
              "      <td>-0.066695</td>\n",
              "      <td>0.010000</td>\n",
              "      <td>0.001807</td>\n",
              "      <td>0.065277</td>\n",
              "      <td>-0.072417</td>\n",
              "      <td>-0.032623</td>\n",
              "      <td>0.060329</td>\n",
              "      <td>0.010291</td>\n",
              "      <td>NaN</td>\n",
              "    </tr>\n",
              "    <tr>\n",
              "      <th>clock_speed</th>\n",
              "      <td>-0.047833</td>\n",
              "      <td>0.074535</td>\n",
              "      <td>1.000000</td>\n",
              "      <td>-0.042840</td>\n",
              "      <td>0.095757</td>\n",
              "      <td>-0.144051</td>\n",
              "      <td>-0.008301</td>\n",
              "      <td>-0.075859</td>\n",
              "      <td>0.036738</td>\n",
              "      <td>-0.052820</td>\n",
              "      <td>0.052912</td>\n",
              "      <td>0.046343</td>\n",
              "      <td>-0.011819</td>\n",
              "      <td>0.041331</td>\n",
              "      <td>0.047115</td>\n",
              "      <td>0.039579</td>\n",
              "      <td>-0.055842</td>\n",
              "      <td>-0.127549</td>\n",
              "      <td>0.010260</td>\n",
              "      <td>0.005814</td>\n",
              "      <td>NaN</td>\n",
              "    </tr>\n",
              "    <tr>\n",
              "      <th>dual_sim</th>\n",
              "      <td>-0.134352</td>\n",
              "      <td>0.061992</td>\n",
              "      <td>-0.042840</td>\n",
              "      <td>1.000000</td>\n",
              "      <td>-0.075681</td>\n",
              "      <td>-0.014096</td>\n",
              "      <td>-0.036384</td>\n",
              "      <td>-0.056753</td>\n",
              "      <td>-0.050991</td>\n",
              "      <td>-0.078633</td>\n",
              "      <td>-0.051248</td>\n",
              "      <td>-0.074033</td>\n",
              "      <td>-0.011231</td>\n",
              "      <td>0.094004</td>\n",
              "      <td>-0.067544</td>\n",
              "      <td>-0.041602</td>\n",
              "      <td>-0.078093</td>\n",
              "      <td>-0.076653</td>\n",
              "      <td>0.012503</td>\n",
              "      <td>-0.014924</td>\n",
              "      <td>NaN</td>\n",
              "    </tr>\n",
              "    <tr>\n",
              "      <th>fc</th>\n",
              "      <td>0.083515</td>\n",
              "      <td>0.031587</td>\n",
              "      <td>0.095757</td>\n",
              "      <td>-0.075681</td>\n",
              "      <td>1.000000</td>\n",
              "      <td>-0.053781</td>\n",
              "      <td>-0.039115</td>\n",
              "      <td>-0.042970</td>\n",
              "      <td>0.064398</td>\n",
              "      <td>-0.047587</td>\n",
              "      <td>0.635166</td>\n",
              "      <td>0.044692</td>\n",
              "      <td>-0.025624</td>\n",
              "      <td>-0.050382</td>\n",
              "      <td>0.016927</td>\n",
              "      <td>0.024985</td>\n",
              "      <td>-0.029785</td>\n",
              "      <td>-0.031470</td>\n",
              "      <td>0.067129</td>\n",
              "      <td>0.010370</td>\n",
              "      <td>NaN</td>\n",
              "    </tr>\n",
              "    <tr>\n",
              "      <th>four_g</th>\n",
              "      <td>0.014355</td>\n",
              "      <td>0.044653</td>\n",
              "      <td>-0.144051</td>\n",
              "      <td>-0.014096</td>\n",
              "      <td>-0.053781</td>\n",
              "      <td>1.000000</td>\n",
              "      <td>-0.000090</td>\n",
              "      <td>0.098571</td>\n",
              "      <td>0.038960</td>\n",
              "      <td>0.061228</td>\n",
              "      <td>-0.059680</td>\n",
              "      <td>-0.024102</td>\n",
              "      <td>0.002240</td>\n",
              "      <td>-0.006090</td>\n",
              "      <td>0.007722</td>\n",
              "      <td>0.059551</td>\n",
              "      <td>-0.056890</td>\n",
              "      <td>0.604218</td>\n",
              "      <td>0.069149</td>\n",
              "      <td>0.015294</td>\n",
              "      <td>NaN</td>\n",
              "    </tr>\n",
              "    <tr>\n",
              "      <th>int_memory</th>\n",
              "      <td>-0.041099</td>\n",
              "      <td>-0.003080</td>\n",
              "      <td>-0.008301</td>\n",
              "      <td>-0.036384</td>\n",
              "      <td>-0.039115</td>\n",
              "      <td>-0.000090</td>\n",
              "      <td>1.000000</td>\n",
              "      <td>0.011611</td>\n",
              "      <td>-0.057593</td>\n",
              "      <td>-0.033523</td>\n",
              "      <td>-0.046525</td>\n",
              "      <td>-0.008610</td>\n",
              "      <td>0.035620</td>\n",
              "      <td>-0.048515</td>\n",
              "      <td>0.070163</td>\n",
              "      <td>0.005320</td>\n",
              "      <td>-0.020160</td>\n",
              "      <td>-0.016917</td>\n",
              "      <td>0.060954</td>\n",
              "      <td>0.025998</td>\n",
              "      <td>NaN</td>\n",
              "    </tr>\n",
              "    <tr>\n",
              "      <th>m_dep</th>\n",
              "      <td>0.033896</td>\n",
              "      <td>-0.016718</td>\n",
              "      <td>-0.075859</td>\n",
              "      <td>-0.056753</td>\n",
              "      <td>-0.042970</td>\n",
              "      <td>0.098571</td>\n",
              "      <td>0.011611</td>\n",
              "      <td>1.000000</td>\n",
              "      <td>0.015905</td>\n",
              "      <td>0.005673</td>\n",
              "      <td>0.024424</td>\n",
              "      <td>-0.035808</td>\n",
              "      <td>-0.042339</td>\n",
              "      <td>-0.017574</td>\n",
              "      <td>-0.036196</td>\n",
              "      <td>-0.077183</td>\n",
              "      <td>0.037715</td>\n",
              "      <td>0.081976</td>\n",
              "      <td>0.037092</td>\n",
              "      <td>0.001044</td>\n",
              "      <td>NaN</td>\n",
              "    </tr>\n",
              "    <tr>\n",
              "      <th>mobile_wt</th>\n",
              "      <td>-0.002937</td>\n",
              "      <td>-0.030398</td>\n",
              "      <td>0.036738</td>\n",
              "      <td>-0.050991</td>\n",
              "      <td>0.064398</td>\n",
              "      <td>0.038960</td>\n",
              "      <td>-0.057593</td>\n",
              "      <td>0.015905</td>\n",
              "      <td>1.000000</td>\n",
              "      <td>-0.041840</td>\n",
              "      <td>0.046314</td>\n",
              "      <td>-0.003764</td>\n",
              "      <td>-0.004345</td>\n",
              "      <td>0.107730</td>\n",
              "      <td>0.010026</td>\n",
              "      <td>-0.013806</td>\n",
              "      <td>-0.013653</td>\n",
              "      <td>0.034039</td>\n",
              "      <td>0.010625</td>\n",
              "      <td>0.055018</td>\n",
              "      <td>NaN</td>\n",
              "    </tr>\n",
              "    <tr>\n",
              "      <th>n_cores</th>\n",
              "      <td>-0.066908</td>\n",
              "      <td>-0.045381</td>\n",
              "      <td>-0.052820</td>\n",
              "      <td>-0.078633</td>\n",
              "      <td>-0.047587</td>\n",
              "      <td>0.061228</td>\n",
              "      <td>-0.033523</td>\n",
              "      <td>0.005673</td>\n",
              "      <td>-0.041840</td>\n",
              "      <td>1.000000</td>\n",
              "      <td>-0.002674</td>\n",
              "      <td>0.038382</td>\n",
              "      <td>0.124608</td>\n",
              "      <td>-0.036159</td>\n",
              "      <td>-0.032997</td>\n",
              "      <td>-0.011491</td>\n",
              "      <td>0.029556</td>\n",
              "      <td>0.013938</td>\n",
              "      <td>0.000879</td>\n",
              "      <td>0.006066</td>\n",
              "      <td>NaN</td>\n",
              "    </tr>\n",
              "    <tr>\n",
              "      <th>pc</th>\n",
              "      <td>0.025482</td>\n",
              "      <td>0.024459</td>\n",
              "      <td>0.052912</td>\n",
              "      <td>-0.051248</td>\n",
              "      <td>0.635166</td>\n",
              "      <td>-0.059680</td>\n",
              "      <td>-0.046525</td>\n",
              "      <td>0.024424</td>\n",
              "      <td>0.046314</td>\n",
              "      <td>-0.002674</td>\n",
              "      <td>1.000000</td>\n",
              "      <td>0.000874</td>\n",
              "      <td>-0.050998</td>\n",
              "      <td>-0.015646</td>\n",
              "      <td>0.004423</td>\n",
              "      <td>-0.096039</td>\n",
              "      <td>0.010506</td>\n",
              "      <td>0.002541</td>\n",
              "      <td>0.042637</td>\n",
              "      <td>0.034056</td>\n",
              "      <td>NaN</td>\n",
              "    </tr>\n",
              "    <tr>\n",
              "      <th>px_height</th>\n",
              "      <td>-0.082547</td>\n",
              "      <td>0.043505</td>\n",
              "      <td>0.046343</td>\n",
              "      <td>-0.074033</td>\n",
              "      <td>0.044692</td>\n",
              "      <td>-0.024102</td>\n",
              "      <td>-0.008610</td>\n",
              "      <td>-0.035808</td>\n",
              "      <td>-0.003764</td>\n",
              "      <td>0.038382</td>\n",
              "      <td>0.000874</td>\n",
              "      <td>1.000000</td>\n",
              "      <td>0.538207</td>\n",
              "      <td>-0.238720</td>\n",
              "      <td>0.117225</td>\n",
              "      <td>0.048856</td>\n",
              "      <td>0.021954</td>\n",
              "      <td>-0.056407</td>\n",
              "      <td>-0.042087</td>\n",
              "      <td>0.081369</td>\n",
              "      <td>NaN</td>\n",
              "    </tr>\n",
              "    <tr>\n",
              "      <th>px_width</th>\n",
              "      <td>-0.065939</td>\n",
              "      <td>-0.066695</td>\n",
              "      <td>-0.011819</td>\n",
              "      <td>-0.011231</td>\n",
              "      <td>-0.025624</td>\n",
              "      <td>0.002240</td>\n",
              "      <td>0.035620</td>\n",
              "      <td>-0.042339</td>\n",
              "      <td>-0.004345</td>\n",
              "      <td>0.124608</td>\n",
              "      <td>-0.050998</td>\n",
              "      <td>0.538207</td>\n",
              "      <td>1.000000</td>\n",
              "      <td>-0.257496</td>\n",
              "      <td>0.079685</td>\n",
              "      <td>0.016369</td>\n",
              "      <td>0.027057</td>\n",
              "      <td>-0.029298</td>\n",
              "      <td>0.018708</td>\n",
              "      <td>0.078801</td>\n",
              "      <td>NaN</td>\n",
              "    </tr>\n",
              "    <tr>\n",
              "      <th>ram</th>\n",
              "      <td>-0.262759</td>\n",
              "      <td>0.010000</td>\n",
              "      <td>0.041331</td>\n",
              "      <td>0.094004</td>\n",
              "      <td>-0.050382</td>\n",
              "      <td>-0.006090</td>\n",
              "      <td>-0.048515</td>\n",
              "      <td>-0.017574</td>\n",
              "      <td>0.107730</td>\n",
              "      <td>-0.036159</td>\n",
              "      <td>-0.015646</td>\n",
              "      <td>-0.238720</td>\n",
              "      <td>-0.257496</td>\n",
              "      <td>1.000000</td>\n",
              "      <td>0.005199</td>\n",
              "      <td>0.011657</td>\n",
              "      <td>-0.045694</td>\n",
              "      <td>0.016857</td>\n",
              "      <td>-0.000097</td>\n",
              "      <td>0.016474</td>\n",
              "      <td>NaN</td>\n",
              "    </tr>\n",
              "    <tr>\n",
              "      <th>sc_h</th>\n",
              "      <td>-0.080752</td>\n",
              "      <td>0.001807</td>\n",
              "      <td>0.047115</td>\n",
              "      <td>-0.067544</td>\n",
              "      <td>0.016927</td>\n",
              "      <td>0.007722</td>\n",
              "      <td>0.070163</td>\n",
              "      <td>-0.036196</td>\n",
              "      <td>0.010026</td>\n",
              "      <td>-0.032997</td>\n",
              "      <td>0.004423</td>\n",
              "      <td>0.117225</td>\n",
              "      <td>0.079685</td>\n",
              "      <td>0.005199</td>\n",
              "      <td>1.000000</td>\n",
              "      <td>0.514600</td>\n",
              "      <td>0.008626</td>\n",
              "      <td>-0.005477</td>\n",
              "      <td>0.058934</td>\n",
              "      <td>0.038308</td>\n",
              "      <td>NaN</td>\n",
              "    </tr>\n",
              "    <tr>\n",
              "      <th>sc_w</th>\n",
              "      <td>-0.009713</td>\n",
              "      <td>0.065277</td>\n",
              "      <td>0.039579</td>\n",
              "      <td>-0.041602</td>\n",
              "      <td>0.024985</td>\n",
              "      <td>0.059551</td>\n",
              "      <td>0.005320</td>\n",
              "      <td>-0.077183</td>\n",
              "      <td>-0.013806</td>\n",
              "      <td>-0.011491</td>\n",
              "      <td>-0.096039</td>\n",
              "      <td>0.048856</td>\n",
              "      <td>0.016369</td>\n",
              "      <td>0.011657</td>\n",
              "      <td>0.514600</td>\n",
              "      <td>1.000000</td>\n",
              "      <td>-0.088692</td>\n",
              "      <td>0.025941</td>\n",
              "      <td>0.046907</td>\n",
              "      <td>0.018241</td>\n",
              "      <td>NaN</td>\n",
              "    </tr>\n",
              "    <tr>\n",
              "      <th>talk_time</th>\n",
              "      <td>0.086021</td>\n",
              "      <td>-0.072417</td>\n",
              "      <td>-0.055842</td>\n",
              "      <td>-0.078093</td>\n",
              "      <td>-0.029785</td>\n",
              "      <td>-0.056890</td>\n",
              "      <td>-0.020160</td>\n",
              "      <td>0.037715</td>\n",
              "      <td>-0.013653</td>\n",
              "      <td>0.029556</td>\n",
              "      <td>0.010506</td>\n",
              "      <td>0.021954</td>\n",
              "      <td>0.027057</td>\n",
              "      <td>-0.045694</td>\n",
              "      <td>0.008626</td>\n",
              "      <td>-0.088692</td>\n",
              "      <td>1.000000</td>\n",
              "      <td>-0.076675</td>\n",
              "      <td>0.027730</td>\n",
              "      <td>-0.029220</td>\n",
              "      <td>NaN</td>\n",
              "    </tr>\n",
              "    <tr>\n",
              "      <th>three_g</th>\n",
              "      <td>-0.020736</td>\n",
              "      <td>-0.032623</td>\n",
              "      <td>-0.127549</td>\n",
              "      <td>-0.076653</td>\n",
              "      <td>-0.031470</td>\n",
              "      <td>0.604218</td>\n",
              "      <td>-0.016917</td>\n",
              "      <td>0.081976</td>\n",
              "      <td>0.034039</td>\n",
              "      <td>0.013938</td>\n",
              "      <td>0.002541</td>\n",
              "      <td>-0.056407</td>\n",
              "      <td>-0.029298</td>\n",
              "      <td>0.016857</td>\n",
              "      <td>-0.005477</td>\n",
              "      <td>0.025941</td>\n",
              "      <td>-0.076675</td>\n",
              "      <td>1.000000</td>\n",
              "      <td>0.047907</td>\n",
              "      <td>-0.026074</td>\n",
              "      <td>NaN</td>\n",
              "    </tr>\n",
              "    <tr>\n",
              "      <th>touch_screen</th>\n",
              "      <td>-0.033993</td>\n",
              "      <td>0.060329</td>\n",
              "      <td>0.010260</td>\n",
              "      <td>0.012503</td>\n",
              "      <td>0.067129</td>\n",
              "      <td>0.069149</td>\n",
              "      <td>0.060954</td>\n",
              "      <td>0.037092</td>\n",
              "      <td>0.010625</td>\n",
              "      <td>0.000879</td>\n",
              "      <td>0.042637</td>\n",
              "      <td>-0.042087</td>\n",
              "      <td>0.018708</td>\n",
              "      <td>-0.000097</td>\n",
              "      <td>0.058934</td>\n",
              "      <td>0.046907</td>\n",
              "      <td>0.027730</td>\n",
              "      <td>0.047907</td>\n",
              "      <td>1.000000</td>\n",
              "      <td>0.072470</td>\n",
              "      <td>NaN</td>\n",
              "    </tr>\n",
              "    <tr>\n",
              "      <th>wifi</th>\n",
              "      <td>0.001345</td>\n",
              "      <td>0.010291</td>\n",
              "      <td>0.005814</td>\n",
              "      <td>-0.014924</td>\n",
              "      <td>0.010370</td>\n",
              "      <td>0.015294</td>\n",
              "      <td>0.025998</td>\n",
              "      <td>0.001044</td>\n",
              "      <td>0.055018</td>\n",
              "      <td>0.006066</td>\n",
              "      <td>0.034056</td>\n",
              "      <td>0.081369</td>\n",
              "      <td>0.078801</td>\n",
              "      <td>0.016474</td>\n",
              "      <td>0.038308</td>\n",
              "      <td>0.018241</td>\n",
              "      <td>-0.029220</td>\n",
              "      <td>-0.026074</td>\n",
              "      <td>0.072470</td>\n",
              "      <td>1.000000</td>\n",
              "      <td>NaN</td>\n",
              "    </tr>\n",
              "    <tr>\n",
              "      <th>price_range</th>\n",
              "      <td>NaN</td>\n",
              "      <td>NaN</td>\n",
              "      <td>NaN</td>\n",
              "      <td>NaN</td>\n",
              "      <td>NaN</td>\n",
              "      <td>NaN</td>\n",
              "      <td>NaN</td>\n",
              "      <td>NaN</td>\n",
              "      <td>NaN</td>\n",
              "      <td>NaN</td>\n",
              "      <td>NaN</td>\n",
              "      <td>NaN</td>\n",
              "      <td>NaN</td>\n",
              "      <td>NaN</td>\n",
              "      <td>NaN</td>\n",
              "      <td>NaN</td>\n",
              "      <td>NaN</td>\n",
              "      <td>NaN</td>\n",
              "      <td>NaN</td>\n",
              "      <td>NaN</td>\n",
              "      <td>NaN</td>\n",
              "    </tr>\n",
              "  </tbody>\n",
              "</table>\n",
              "</div>"
            ],
            "text/plain": [
              "               battery_power      blue  ...      wifi  price_range\n",
              "battery_power       1.000000 -0.019588  ...  0.001345          NaN\n",
              "blue               -0.019588  1.000000  ...  0.010291          NaN\n",
              "clock_speed        -0.047833  0.074535  ...  0.005814          NaN\n",
              "dual_sim           -0.134352  0.061992  ... -0.014924          NaN\n",
              "fc                  0.083515  0.031587  ...  0.010370          NaN\n",
              "four_g              0.014355  0.044653  ...  0.015294          NaN\n",
              "int_memory         -0.041099 -0.003080  ...  0.025998          NaN\n",
              "m_dep               0.033896 -0.016718  ...  0.001044          NaN\n",
              "mobile_wt          -0.002937 -0.030398  ...  0.055018          NaN\n",
              "n_cores            -0.066908 -0.045381  ...  0.006066          NaN\n",
              "pc                  0.025482  0.024459  ...  0.034056          NaN\n",
              "px_height          -0.082547  0.043505  ...  0.081369          NaN\n",
              "px_width           -0.065939 -0.066695  ...  0.078801          NaN\n",
              "ram                -0.262759  0.010000  ...  0.016474          NaN\n",
              "sc_h               -0.080752  0.001807  ...  0.038308          NaN\n",
              "sc_w               -0.009713  0.065277  ...  0.018241          NaN\n",
              "talk_time           0.086021 -0.072417  ... -0.029220          NaN\n",
              "three_g            -0.020736 -0.032623  ... -0.026074          NaN\n",
              "touch_screen       -0.033993  0.060329  ...  0.072470          NaN\n",
              "wifi                0.001345  0.010291  ...  1.000000          NaN\n",
              "price_range              NaN       NaN  ...       NaN          NaN\n",
              "\n",
              "[21 rows x 21 columns]"
            ]
          },
          "metadata": {},
          "execution_count": 56
        }
      ]
    },
    {
      "cell_type": "code",
      "metadata": {
        "colab": {
          "base_uri": "https://localhost:8080/"
        },
        "id": "-LTIIMQQHwTr",
        "outputId": "1d6ba580-c0c0-4409-c20c-8a92d6fbb7b6"
      },
      "source": [
        "data[(data['price_range']==3)].corr().unstack()"
      ],
      "execution_count": 57,
      "outputs": [
        {
          "output_type": "execute_result",
          "data": {
            "text/plain": [
              "battery_power  battery_power    1.000000\n",
              "               blue            -0.019588\n",
              "               clock_speed     -0.047833\n",
              "               dual_sim        -0.134352\n",
              "               fc               0.083515\n",
              "                                  ...   \n",
              "price_range    talk_time             NaN\n",
              "               three_g               NaN\n",
              "               touch_screen          NaN\n",
              "               wifi                  NaN\n",
              "               price_range           NaN\n",
              "Length: 441, dtype: float64"
            ]
          },
          "metadata": {},
          "execution_count": 57
        }
      ]
    },
    {
      "cell_type": "code",
      "metadata": {
        "id": "X9GWONkSI-_8"
      },
      "source": [
        "df = pd.DataFrame(data = data[(data['price_range']==3)].corr().unstack(), columns=['a']).sort_values('a', ascending=False)"
      ],
      "execution_count": 58,
      "outputs": []
    },
    {
      "cell_type": "code",
      "metadata": {
        "colab": {
          "base_uri": "https://localhost:8080/",
          "height": 979
        },
        "id": "UZuHVzG7qO5S",
        "outputId": "9e223232-20df-4317-ad47-da6ddcc63872"
      },
      "source": [
        "df.head(30)"
      ],
      "execution_count": 62,
      "outputs": [
        {
          "output_type": "execute_result",
          "data": {
            "text/html": [
              "<div>\n",
              "<style scoped>\n",
              "    .dataframe tbody tr th:only-of-type {\n",
              "        vertical-align: middle;\n",
              "    }\n",
              "\n",
              "    .dataframe tbody tr th {\n",
              "        vertical-align: top;\n",
              "    }\n",
              "\n",
              "    .dataframe thead th {\n",
              "        text-align: right;\n",
              "    }\n",
              "</style>\n",
              "<table border=\"1\" class=\"dataframe\">\n",
              "  <thead>\n",
              "    <tr style=\"text-align: right;\">\n",
              "      <th></th>\n",
              "      <th></th>\n",
              "      <th>a</th>\n",
              "    </tr>\n",
              "  </thead>\n",
              "  <tbody>\n",
              "    <tr>\n",
              "      <th>battery_power</th>\n",
              "      <th>battery_power</th>\n",
              "      <td>1.000000</td>\n",
              "    </tr>\n",
              "    <tr>\n",
              "      <th>pc</th>\n",
              "      <th>pc</th>\n",
              "      <td>1.000000</td>\n",
              "    </tr>\n",
              "    <tr>\n",
              "      <th>dual_sim</th>\n",
              "      <th>dual_sim</th>\n",
              "      <td>1.000000</td>\n",
              "    </tr>\n",
              "    <tr>\n",
              "      <th>fc</th>\n",
              "      <th>fc</th>\n",
              "      <td>1.000000</td>\n",
              "    </tr>\n",
              "    <tr>\n",
              "      <th>four_g</th>\n",
              "      <th>four_g</th>\n",
              "      <td>1.000000</td>\n",
              "    </tr>\n",
              "    <tr>\n",
              "      <th>int_memory</th>\n",
              "      <th>int_memory</th>\n",
              "      <td>1.000000</td>\n",
              "    </tr>\n",
              "    <tr>\n",
              "      <th>m_dep</th>\n",
              "      <th>m_dep</th>\n",
              "      <td>1.000000</td>\n",
              "    </tr>\n",
              "    <tr>\n",
              "      <th>mobile_wt</th>\n",
              "      <th>mobile_wt</th>\n",
              "      <td>1.000000</td>\n",
              "    </tr>\n",
              "    <tr>\n",
              "      <th>n_cores</th>\n",
              "      <th>n_cores</th>\n",
              "      <td>1.000000</td>\n",
              "    </tr>\n",
              "    <tr>\n",
              "      <th>px_height</th>\n",
              "      <th>px_height</th>\n",
              "      <td>1.000000</td>\n",
              "    </tr>\n",
              "    <tr>\n",
              "      <th>blue</th>\n",
              "      <th>blue</th>\n",
              "      <td>1.000000</td>\n",
              "    </tr>\n",
              "    <tr>\n",
              "      <th>px_width</th>\n",
              "      <th>px_width</th>\n",
              "      <td>1.000000</td>\n",
              "    </tr>\n",
              "    <tr>\n",
              "      <th>ram</th>\n",
              "      <th>ram</th>\n",
              "      <td>1.000000</td>\n",
              "    </tr>\n",
              "    <tr>\n",
              "      <th>sc_h</th>\n",
              "      <th>sc_h</th>\n",
              "      <td>1.000000</td>\n",
              "    </tr>\n",
              "    <tr>\n",
              "      <th>sc_w</th>\n",
              "      <th>sc_w</th>\n",
              "      <td>1.000000</td>\n",
              "    </tr>\n",
              "    <tr>\n",
              "      <th>talk_time</th>\n",
              "      <th>talk_time</th>\n",
              "      <td>1.000000</td>\n",
              "    </tr>\n",
              "    <tr>\n",
              "      <th>three_g</th>\n",
              "      <th>three_g</th>\n",
              "      <td>1.000000</td>\n",
              "    </tr>\n",
              "    <tr>\n",
              "      <th>touch_screen</th>\n",
              "      <th>touch_screen</th>\n",
              "      <td>1.000000</td>\n",
              "    </tr>\n",
              "    <tr>\n",
              "      <th>clock_speed</th>\n",
              "      <th>clock_speed</th>\n",
              "      <td>1.000000</td>\n",
              "    </tr>\n",
              "    <tr>\n",
              "      <th>wifi</th>\n",
              "      <th>wifi</th>\n",
              "      <td>1.000000</td>\n",
              "    </tr>\n",
              "    <tr>\n",
              "      <th>fc</th>\n",
              "      <th>pc</th>\n",
              "      <td>0.635166</td>\n",
              "    </tr>\n",
              "    <tr>\n",
              "      <th>pc</th>\n",
              "      <th>fc</th>\n",
              "      <td>0.635166</td>\n",
              "    </tr>\n",
              "    <tr>\n",
              "      <th>three_g</th>\n",
              "      <th>four_g</th>\n",
              "      <td>0.604218</td>\n",
              "    </tr>\n",
              "    <tr>\n",
              "      <th>four_g</th>\n",
              "      <th>three_g</th>\n",
              "      <td>0.604218</td>\n",
              "    </tr>\n",
              "    <tr>\n",
              "      <th>px_width</th>\n",
              "      <th>px_height</th>\n",
              "      <td>0.538207</td>\n",
              "    </tr>\n",
              "    <tr>\n",
              "      <th>px_height</th>\n",
              "      <th>px_width</th>\n",
              "      <td>0.538207</td>\n",
              "    </tr>\n",
              "    <tr>\n",
              "      <th>sc_w</th>\n",
              "      <th>sc_h</th>\n",
              "      <td>0.514600</td>\n",
              "    </tr>\n",
              "    <tr>\n",
              "      <th>sc_h</th>\n",
              "      <th>sc_w</th>\n",
              "      <td>0.514600</td>\n",
              "    </tr>\n",
              "    <tr>\n",
              "      <th>n_cores</th>\n",
              "      <th>px_width</th>\n",
              "      <td>0.124608</td>\n",
              "    </tr>\n",
              "    <tr>\n",
              "      <th>px_width</th>\n",
              "      <th>n_cores</th>\n",
              "      <td>0.124608</td>\n",
              "    </tr>\n",
              "  </tbody>\n",
              "</table>\n",
              "</div>"
            ],
            "text/plain": [
              "                                    a\n",
              "battery_power battery_power  1.000000\n",
              "pc            pc             1.000000\n",
              "dual_sim      dual_sim       1.000000\n",
              "fc            fc             1.000000\n",
              "four_g        four_g         1.000000\n",
              "int_memory    int_memory     1.000000\n",
              "m_dep         m_dep          1.000000\n",
              "mobile_wt     mobile_wt      1.000000\n",
              "n_cores       n_cores        1.000000\n",
              "px_height     px_height      1.000000\n",
              "blue          blue           1.000000\n",
              "px_width      px_width       1.000000\n",
              "ram           ram            1.000000\n",
              "sc_h          sc_h           1.000000\n",
              "sc_w          sc_w           1.000000\n",
              "talk_time     talk_time      1.000000\n",
              "three_g       three_g        1.000000\n",
              "touch_screen  touch_screen   1.000000\n",
              "clock_speed   clock_speed    1.000000\n",
              "wifi          wifi           1.000000\n",
              "fc            pc             0.635166\n",
              "pc            fc             0.635166\n",
              "three_g       four_g         0.604218\n",
              "four_g        three_g        0.604218\n",
              "px_width      px_height      0.538207\n",
              "px_height     px_width       0.538207\n",
              "sc_w          sc_h           0.514600\n",
              "sc_h          sc_w           0.514600\n",
              "n_cores       px_width       0.124608\n",
              "px_width      n_cores        0.124608"
            ]
          },
          "metadata": {},
          "execution_count": 62
        }
      ]
    },
    {
      "cell_type": "code",
      "metadata": {
        "id": "uUlTt1GEJaew"
      },
      "source": [
        "df_remove_one =df[ df['a'] != 1.0]"
      ],
      "execution_count": 63,
      "outputs": []
    },
    {
      "cell_type": "code",
      "metadata": {
        "colab": {
          "base_uri": "https://localhost:8080/",
          "height": 80
        },
        "id": "kumkFJq4NfMP",
        "outputId": "19f26429-6480-41ba-da24-cf8e28b7549f"
      },
      "source": [
        "df_remove_one.head(1)"
      ],
      "execution_count": 64,
      "outputs": [
        {
          "output_type": "execute_result",
          "data": {
            "text/html": [
              "<div>\n",
              "<style scoped>\n",
              "    .dataframe tbody tr th:only-of-type {\n",
              "        vertical-align: middle;\n",
              "    }\n",
              "\n",
              "    .dataframe tbody tr th {\n",
              "        vertical-align: top;\n",
              "    }\n",
              "\n",
              "    .dataframe thead th {\n",
              "        text-align: right;\n",
              "    }\n",
              "</style>\n",
              "<table border=\"1\" class=\"dataframe\">\n",
              "  <thead>\n",
              "    <tr style=\"text-align: right;\">\n",
              "      <th></th>\n",
              "      <th></th>\n",
              "      <th>a</th>\n",
              "    </tr>\n",
              "  </thead>\n",
              "  <tbody>\n",
              "    <tr>\n",
              "      <th>fc</th>\n",
              "      <th>pc</th>\n",
              "      <td>0.635166</td>\n",
              "    </tr>\n",
              "  </tbody>\n",
              "</table>\n",
              "</div>"
            ],
            "text/plain": [
              "              a\n",
              "fc pc  0.635166"
            ]
          },
          "metadata": {},
          "execution_count": 64
        }
      ]
    },
    {
      "cell_type": "markdown",
      "metadata": {
        "id": "OOkGo4tmqZvF"
      },
      "source": [
        "#3주차 실기 유형 2 첫번째"
      ]
    },
    {
      "cell_type": "code",
      "metadata": {
        "id": "IKI2PinoIKqr"
      },
      "source": [
        "Train = pd.read_csv('https://raw.githubusercontent.com/Datamanim/datarepo/main/heart/train.csv')\n",
        "Test = pd.read_csv('https://raw.githubusercontent.com/Datamanim/datarepo/main/heart/test.csv')"
      ],
      "execution_count": 65,
      "outputs": []
    },
    {
      "cell_type": "code",
      "metadata": {
        "colab": {
          "base_uri": "https://localhost:8080/",
          "height": 142
        },
        "id": "O1HO_73HAzx_",
        "outputId": "223d46bd-d3c4-4e72-b54c-b8e55f86c2c9"
      },
      "source": [
        "Train.head(3)"
      ],
      "execution_count": 66,
      "outputs": [
        {
          "output_type": "execute_result",
          "data": {
            "text/html": [
              "<div>\n",
              "<style scoped>\n",
              "    .dataframe tbody tr th:only-of-type {\n",
              "        vertical-align: middle;\n",
              "    }\n",
              "\n",
              "    .dataframe tbody tr th {\n",
              "        vertical-align: top;\n",
              "    }\n",
              "\n",
              "    .dataframe thead th {\n",
              "        text-align: right;\n",
              "    }\n",
              "</style>\n",
              "<table border=\"1\" class=\"dataframe\">\n",
              "  <thead>\n",
              "    <tr style=\"text-align: right;\">\n",
              "      <th></th>\n",
              "      <th>age</th>\n",
              "      <th>sex</th>\n",
              "      <th>cp</th>\n",
              "      <th>trestbps</th>\n",
              "      <th>chol</th>\n",
              "      <th>fbs</th>\n",
              "      <th>restecg</th>\n",
              "      <th>thalach</th>\n",
              "      <th>exang</th>\n",
              "      <th>oldpeak</th>\n",
              "      <th>slope</th>\n",
              "      <th>ca</th>\n",
              "      <th>thal</th>\n",
              "      <th>target</th>\n",
              "    </tr>\n",
              "  </thead>\n",
              "  <tbody>\n",
              "    <tr>\n",
              "      <th>0</th>\n",
              "      <td>60</td>\n",
              "      <td>1</td>\n",
              "      <td>0</td>\n",
              "      <td>140</td>\n",
              "      <td>293</td>\n",
              "      <td>0</td>\n",
              "      <td>0</td>\n",
              "      <td>170</td>\n",
              "      <td>0</td>\n",
              "      <td>1.2</td>\n",
              "      <td>1</td>\n",
              "      <td>2</td>\n",
              "      <td>3</td>\n",
              "      <td>0</td>\n",
              "    </tr>\n",
              "    <tr>\n",
              "      <th>1</th>\n",
              "      <td>51</td>\n",
              "      <td>0</td>\n",
              "      <td>2</td>\n",
              "      <td>120</td>\n",
              "      <td>295</td>\n",
              "      <td>0</td>\n",
              "      <td>0</td>\n",
              "      <td>157</td>\n",
              "      <td>0</td>\n",
              "      <td>0.6</td>\n",
              "      <td>2</td>\n",
              "      <td>0</td>\n",
              "      <td>2</td>\n",
              "      <td>1</td>\n",
              "    </tr>\n",
              "    <tr>\n",
              "      <th>2</th>\n",
              "      <td>51</td>\n",
              "      <td>1</td>\n",
              "      <td>3</td>\n",
              "      <td>125</td>\n",
              "      <td>213</td>\n",
              "      <td>0</td>\n",
              "      <td>0</td>\n",
              "      <td>125</td>\n",
              "      <td>1</td>\n",
              "      <td>1.4</td>\n",
              "      <td>2</td>\n",
              "      <td>1</td>\n",
              "      <td>2</td>\n",
              "      <td>1</td>\n",
              "    </tr>\n",
              "  </tbody>\n",
              "</table>\n",
              "</div>"
            ],
            "text/plain": [
              "   age  sex  cp  trestbps  chol  fbs  ...  exang  oldpeak  slope  ca  thal  target\n",
              "0   60    1   0       140   293    0  ...      0      1.2      1   2     3       0\n",
              "1   51    0   2       120   295    0  ...      0      0.6      2   0     2       1\n",
              "2   51    1   3       125   213    0  ...      1      1.4      2   1     2       1\n",
              "\n",
              "[3 rows x 14 columns]"
            ]
          },
          "metadata": {},
          "execution_count": 66
        }
      ]
    },
    {
      "cell_type": "code",
      "metadata": {
        "id": "Y7WBy9DbBWvy"
      },
      "source": [
        "X = Train[Train.columns[0:13]]\n",
        "y = Train[['target']]"
      ],
      "execution_count": 67,
      "outputs": []
    },
    {
      "cell_type": "code",
      "metadata": {
        "id": "bk1duJjAA7aD"
      },
      "source": [
        "from sklearn.model_selection import train_test_split\n",
        "X_train, X_test, y_train, y_test = train_test_split(X, y, stratify=y, random_state=42)"
      ],
      "execution_count": 68,
      "outputs": []
    },
    {
      "cell_type": "code",
      "metadata": {
        "id": "GXWtVuCWBrWE"
      },
      "source": [
        "from sklearn.ensemble import RandomForestClassifier"
      ],
      "execution_count": 69,
      "outputs": []
    },
    {
      "cell_type": "code",
      "metadata": {
        "id": "l2g5hDx8Bzq2"
      },
      "source": [
        "model = RandomForestClassifier(random_state=42)"
      ],
      "execution_count": 70,
      "outputs": []
    },
    {
      "cell_type": "code",
      "metadata": {
        "colab": {
          "base_uri": "https://localhost:8080/"
        },
        "id": "vDujB083B8eq",
        "outputId": "9af1eb26-d88c-4267-d1dc-b457282b9a26"
      },
      "source": [
        "model.fit(X_train, y_train)"
      ],
      "execution_count": 71,
      "outputs": [
        {
          "output_type": "stream",
          "name": "stderr",
          "text": [
            "/usr/local/lib/python3.7/dist-packages/ipykernel_launcher.py:1: DataConversionWarning: A column-vector y was passed when a 1d array was expected. Please change the shape of y to (n_samples,), for example using ravel().\n",
            "  \"\"\"Entry point for launching an IPython kernel.\n"
          ]
        },
        {
          "output_type": "execute_result",
          "data": {
            "text/plain": [
              "RandomForestClassifier(bootstrap=True, ccp_alpha=0.0, class_weight=None,\n",
              "                       criterion='gini', max_depth=None, max_features='auto',\n",
              "                       max_leaf_nodes=None, max_samples=None,\n",
              "                       min_impurity_decrease=0.0, min_impurity_split=None,\n",
              "                       min_samples_leaf=1, min_samples_split=2,\n",
              "                       min_weight_fraction_leaf=0.0, n_estimators=100,\n",
              "                       n_jobs=None, oob_score=False, random_state=42, verbose=0,\n",
              "                       warm_start=False)"
            ]
          },
          "metadata": {},
          "execution_count": 71
        }
      ]
    },
    {
      "cell_type": "code",
      "metadata": {
        "id": "uA-ebulfB_Od"
      },
      "source": [
        "pred_train = model.predict(X_train)\n",
        "pred_test = model.predict(X_test)"
      ],
      "execution_count": 72,
      "outputs": []
    },
    {
      "cell_type": "code",
      "metadata": {
        "id": "DngVaGZSCFvD"
      },
      "source": [
        "from sklearn.metrics import f1_score"
      ],
      "execution_count": 73,
      "outputs": []
    },
    {
      "cell_type": "code",
      "metadata": {
        "id": "Xb5t8HJ_CON4"
      },
      "source": [
        "f1_s_train = f1_score(y_train, pred_train)"
      ],
      "execution_count": 74,
      "outputs": []
    },
    {
      "cell_type": "code",
      "metadata": {
        "id": "xgUjF_dHCVad"
      },
      "source": [
        "f1_s_test = f1_score(y_test, pred_test)"
      ],
      "execution_count": 75,
      "outputs": []
    },
    {
      "cell_type": "code",
      "metadata": {
        "colab": {
          "base_uri": "https://localhost:8080/"
        },
        "id": "pr3pVJv-CY0b",
        "outputId": "d6ca3ebb-e224-4b06-95e8-cd9d1572fefc"
      },
      "source": [
        "print(f1_s_train)\n",
        "print(f1_s_test)"
      ],
      "execution_count": 77,
      "outputs": [
        {
          "output_type": "stream",
          "name": "stdout",
          "text": [
            "1.0\n",
            "0.8955223880597014\n"
          ]
        }
      ]
    },
    {
      "cell_type": "code",
      "metadata": {
        "colab": {
          "base_uri": "https://localhost:8080/",
          "height": 111
        },
        "id": "9-cGv9_fDEPt",
        "outputId": "4529c2b7-97e4-4849-d96d-c7308a5ba062"
      },
      "source": [
        "Test.head(2)"
      ],
      "execution_count": 78,
      "outputs": [
        {
          "output_type": "execute_result",
          "data": {
            "text/html": [
              "<div>\n",
              "<style scoped>\n",
              "    .dataframe tbody tr th:only-of-type {\n",
              "        vertical-align: middle;\n",
              "    }\n",
              "\n",
              "    .dataframe tbody tr th {\n",
              "        vertical-align: top;\n",
              "    }\n",
              "\n",
              "    .dataframe thead th {\n",
              "        text-align: right;\n",
              "    }\n",
              "</style>\n",
              "<table border=\"1\" class=\"dataframe\">\n",
              "  <thead>\n",
              "    <tr style=\"text-align: right;\">\n",
              "      <th></th>\n",
              "      <th>age</th>\n",
              "      <th>sex</th>\n",
              "      <th>cp</th>\n",
              "      <th>trestbps</th>\n",
              "      <th>chol</th>\n",
              "      <th>fbs</th>\n",
              "      <th>restecg</th>\n",
              "      <th>thalach</th>\n",
              "      <th>exang</th>\n",
              "      <th>oldpeak</th>\n",
              "      <th>slope</th>\n",
              "      <th>ca</th>\n",
              "      <th>thal</th>\n",
              "    </tr>\n",
              "  </thead>\n",
              "  <tbody>\n",
              "    <tr>\n",
              "      <th>0</th>\n",
              "      <td>62</td>\n",
              "      <td>0</td>\n",
              "      <td>0</td>\n",
              "      <td>124</td>\n",
              "      <td>209</td>\n",
              "      <td>0</td>\n",
              "      <td>1</td>\n",
              "      <td>163</td>\n",
              "      <td>0</td>\n",
              "      <td>0.0</td>\n",
              "      <td>2</td>\n",
              "      <td>0</td>\n",
              "      <td>2</td>\n",
              "    </tr>\n",
              "    <tr>\n",
              "      <th>1</th>\n",
              "      <td>54</td>\n",
              "      <td>1</td>\n",
              "      <td>2</td>\n",
              "      <td>120</td>\n",
              "      <td>258</td>\n",
              "      <td>0</td>\n",
              "      <td>0</td>\n",
              "      <td>147</td>\n",
              "      <td>0</td>\n",
              "      <td>0.4</td>\n",
              "      <td>1</td>\n",
              "      <td>0</td>\n",
              "      <td>3</td>\n",
              "    </tr>\n",
              "  </tbody>\n",
              "</table>\n",
              "</div>"
            ],
            "text/plain": [
              "   age  sex  cp  trestbps  chol  fbs  ...  thalach  exang  oldpeak  slope  ca  thal\n",
              "0   62    0   0       124   209    0  ...      163      0      0.0      2   0     2\n",
              "1   54    1   2       120   258    0  ...      147      0      0.4      1   0     3\n",
              "\n",
              "[2 rows x 13 columns]"
            ]
          },
          "metadata": {},
          "execution_count": 78
        }
      ]
    },
    {
      "cell_type": "code",
      "metadata": {
        "id": "f8_Q1DBLFp15"
      },
      "source": [
        "submission =pd.read_csv(\"https://raw.githubusercontent.com/Datamanim/datarepo/main/heart/submission.csv\")"
      ],
      "execution_count": 79,
      "outputs": []
    },
    {
      "cell_type": "code",
      "metadata": {
        "id": "dmkLWaYqCdHU"
      },
      "source": [
        "preprocessing_test_df  = Test\n",
        "test_pred = model.predict(preprocessing_test_df)\n",
        "submission['0'] = test_pred\n",
        "submission.to_csv('submission_model.csv',index=False)"
      ],
      "execution_count": 80,
      "outputs": []
    },
    {
      "cell_type": "code",
      "metadata": {
        "colab": {
          "base_uri": "https://localhost:8080/",
          "height": 204
        },
        "id": "Domp6-bWF0Sa",
        "outputId": "87c1e8f7-5b5f-4662-f0d6-49bd179b5ec9"
      },
      "source": [
        "submission.head(5)"
      ],
      "execution_count": 82,
      "outputs": [
        {
          "output_type": "execute_result",
          "data": {
            "text/html": [
              "<div>\n",
              "<style scoped>\n",
              "    .dataframe tbody tr th:only-of-type {\n",
              "        vertical-align: middle;\n",
              "    }\n",
              "\n",
              "    .dataframe tbody tr th {\n",
              "        vertical-align: top;\n",
              "    }\n",
              "\n",
              "    .dataframe thead th {\n",
              "        text-align: right;\n",
              "    }\n",
              "</style>\n",
              "<table border=\"1\" class=\"dataframe\">\n",
              "  <thead>\n",
              "    <tr style=\"text-align: right;\">\n",
              "      <th></th>\n",
              "      <th>0</th>\n",
              "    </tr>\n",
              "  </thead>\n",
              "  <tbody>\n",
              "    <tr>\n",
              "      <th>0</th>\n",
              "      <td>1</td>\n",
              "    </tr>\n",
              "    <tr>\n",
              "      <th>1</th>\n",
              "      <td>1</td>\n",
              "    </tr>\n",
              "    <tr>\n",
              "      <th>2</th>\n",
              "      <td>0</td>\n",
              "    </tr>\n",
              "    <tr>\n",
              "      <th>3</th>\n",
              "      <td>0</td>\n",
              "    </tr>\n",
              "    <tr>\n",
              "      <th>4</th>\n",
              "      <td>0</td>\n",
              "    </tr>\n",
              "  </tbody>\n",
              "</table>\n",
              "</div>"
            ],
            "text/plain": [
              "   0\n",
              "0  1\n",
              "1  1\n",
              "2  0\n",
              "3  0\n",
              "4  0"
            ]
          },
          "metadata": {},
          "execution_count": 82
        }
      ]
    },
    {
      "cell_type": "markdown",
      "metadata": {
        "id": "DE9b5YBxquc7"
      },
      "source": [
        "#3주차 실기 유형 2 두번째"
      ]
    },
    {
      "cell_type": "markdown",
      "metadata": {
        "id": "wl92QYhdrHM8"
      },
      "source": [
        "핸드폰 가격예측 (price_range컬럼 0(저렴) ~3(매우비쌈) 범위 ) accuarcy로 평가"
      ]
    },
    {
      "cell_type": "code",
      "metadata": {
        "id": "y27tuo9DGGlK"
      },
      "source": [
        "train_url = 'https://raw.githubusercontent.com/Datamanim/datarepo/main/mobile/train.csv'\n",
        "\n",
        "test_url ='https://raw.githubusercontent.com/Datamanim/datarepo/main/mobile/test.csv'"
      ],
      "execution_count": 83,
      "outputs": []
    },
    {
      "cell_type": "code",
      "metadata": {
        "id": "aaWvWw7_rQGe"
      },
      "source": [
        "data = pd.read_csv(train_url)"
      ],
      "execution_count": 84,
      "outputs": []
    },
    {
      "cell_type": "code",
      "metadata": {
        "colab": {
          "base_uri": "https://localhost:8080/",
          "height": 111
        },
        "id": "f4Tuz7nCrXVk",
        "outputId": "a2b77bf5-8dc2-4251-e70e-7ec2a9b22b8b"
      },
      "source": [
        "data.head(2)"
      ],
      "execution_count": 85,
      "outputs": [
        {
          "output_type": "execute_result",
          "data": {
            "text/html": [
              "<div>\n",
              "<style scoped>\n",
              "    .dataframe tbody tr th:only-of-type {\n",
              "        vertical-align: middle;\n",
              "    }\n",
              "\n",
              "    .dataframe tbody tr th {\n",
              "        vertical-align: top;\n",
              "    }\n",
              "\n",
              "    .dataframe thead th {\n",
              "        text-align: right;\n",
              "    }\n",
              "</style>\n",
              "<table border=\"1\" class=\"dataframe\">\n",
              "  <thead>\n",
              "    <tr style=\"text-align: right;\">\n",
              "      <th></th>\n",
              "      <th>battery_power</th>\n",
              "      <th>blue</th>\n",
              "      <th>clock_speed</th>\n",
              "      <th>dual_sim</th>\n",
              "      <th>fc</th>\n",
              "      <th>four_g</th>\n",
              "      <th>int_memory</th>\n",
              "      <th>m_dep</th>\n",
              "      <th>mobile_wt</th>\n",
              "      <th>n_cores</th>\n",
              "      <th>pc</th>\n",
              "      <th>px_height</th>\n",
              "      <th>px_width</th>\n",
              "      <th>ram</th>\n",
              "      <th>sc_h</th>\n",
              "      <th>sc_w</th>\n",
              "      <th>talk_time</th>\n",
              "      <th>three_g</th>\n",
              "      <th>touch_screen</th>\n",
              "      <th>wifi</th>\n",
              "      <th>price_range</th>\n",
              "    </tr>\n",
              "  </thead>\n",
              "  <tbody>\n",
              "    <tr>\n",
              "      <th>0</th>\n",
              "      <td>842</td>\n",
              "      <td>0</td>\n",
              "      <td>2.2</td>\n",
              "      <td>0</td>\n",
              "      <td>1</td>\n",
              "      <td>0</td>\n",
              "      <td>7</td>\n",
              "      <td>0.6</td>\n",
              "      <td>188</td>\n",
              "      <td>2</td>\n",
              "      <td>2</td>\n",
              "      <td>20</td>\n",
              "      <td>756</td>\n",
              "      <td>2549</td>\n",
              "      <td>9</td>\n",
              "      <td>7</td>\n",
              "      <td>19</td>\n",
              "      <td>0</td>\n",
              "      <td>0</td>\n",
              "      <td>1</td>\n",
              "      <td>1</td>\n",
              "    </tr>\n",
              "    <tr>\n",
              "      <th>1</th>\n",
              "      <td>1021</td>\n",
              "      <td>1</td>\n",
              "      <td>0.5</td>\n",
              "      <td>1</td>\n",
              "      <td>0</td>\n",
              "      <td>1</td>\n",
              "      <td>53</td>\n",
              "      <td>0.7</td>\n",
              "      <td>136</td>\n",
              "      <td>3</td>\n",
              "      <td>6</td>\n",
              "      <td>905</td>\n",
              "      <td>1988</td>\n",
              "      <td>2631</td>\n",
              "      <td>17</td>\n",
              "      <td>3</td>\n",
              "      <td>7</td>\n",
              "      <td>1</td>\n",
              "      <td>1</td>\n",
              "      <td>0</td>\n",
              "      <td>2</td>\n",
              "    </tr>\n",
              "  </tbody>\n",
              "</table>\n",
              "</div>"
            ],
            "text/plain": [
              "   battery_power  blue  clock_speed  ...  touch_screen  wifi  price_range\n",
              "0            842     0          2.2  ...             0     1            1\n",
              "1           1021     1          0.5  ...             1     0            2\n",
              "\n",
              "[2 rows x 21 columns]"
            ]
          },
          "metadata": {},
          "execution_count": 85
        }
      ]
    },
    {
      "cell_type": "code",
      "metadata": {
        "id": "BsmwxCkHrYjR"
      },
      "source": [
        "X = data [ data.columns[0:20]]"
      ],
      "execution_count": 86,
      "outputs": []
    },
    {
      "cell_type": "code",
      "metadata": {
        "colab": {
          "base_uri": "https://localhost:8080/",
          "height": 1000
        },
        "id": "4S-t9VYwsxC3",
        "outputId": "008e8dfe-d44f-40a2-b4cd-7ef8563d14a9"
      },
      "source": [
        "X.hist(bins=50,figsize=(30,20))"
      ],
      "execution_count": 102,
      "outputs": [
        {
          "output_type": "execute_result",
          "data": {
            "text/plain": [
              "array([[<matplotlib.axes._subplots.AxesSubplot object at 0x7ffb1cb9f250>,\n",
              "        <matplotlib.axes._subplots.AxesSubplot object at 0x7ffb1cb529d0>,\n",
              "        <matplotlib.axes._subplots.AxesSubplot object at 0x7ffb1cb08d10>,\n",
              "        <matplotlib.axes._subplots.AxesSubplot object at 0x7ffb1cac6350>],\n",
              "       [<matplotlib.axes._subplots.AxesSubplot object at 0x7ffb1ca7c950>,\n",
              "        <matplotlib.axes._subplots.AxesSubplot object at 0x7ffb1cab2f50>,\n",
              "        <matplotlib.axes._subplots.AxesSubplot object at 0x7ffb1ca73590>,\n",
              "        <matplotlib.axes._subplots.AxesSubplot object at 0x7ffb1ca49f90>],\n",
              "       [<matplotlib.axes._subplots.AxesSubplot object at 0x7ffb1d7d9450>,\n",
              "        <matplotlib.axes._subplots.AxesSubplot object at 0x7ffb1c9d7a10>,\n",
              "        <matplotlib.axes._subplots.AxesSubplot object at 0x7ffb1c946810>,\n",
              "        <matplotlib.axes._subplots.AxesSubplot object at 0x7ffb1c8fae10>],\n",
              "       [<matplotlib.axes._subplots.AxesSubplot object at 0x7ffb1c8bc450>,\n",
              "        <matplotlib.axes._subplots.AxesSubplot object at 0x7ffb1c8f3a50>,\n",
              "        <matplotlib.axes._subplots.AxesSubplot object at 0x7ffb1c8b1d90>,\n",
              "        <matplotlib.axes._subplots.AxesSubplot object at 0x7ffb1c86b690>],\n",
              "       [<matplotlib.axes._subplots.AxesSubplot object at 0x7ffb1c81fc90>,\n",
              "        <matplotlib.axes._subplots.AxesSubplot object at 0x7ffb1c7e0fd0>,\n",
              "        <matplotlib.axes._subplots.AxesSubplot object at 0x7ffb1c7988d0>,\n",
              "        <matplotlib.axes._subplots.AxesSubplot object at 0x7ffb1c74fad0>]],\n",
              "      dtype=object)"
            ]
          },
          "metadata": {},
          "execution_count": 102
        },
        {
          "output_type": "display_data",
          "data": {
            "image/png": "[encoded data removed]",
            "text/plain": [
              "<Figure size 2160x1440 with 20 Axes>"
            ]
          },
          "metadata": {
            "needs_background": "light"
          }
        }
      ]
    },
    {
      "cell_type": "code",
      "metadata": {
        "colab": {
          "base_uri": "https://localhost:8080/",
          "height": 111
        },
        "id": "9sX3y9Umriah",
        "outputId": "89ccf18c-3a49-4850-abb3-13234cb5fc1e"
      },
      "source": [
        "X.head(2)"
      ],
      "execution_count": 87,
      "outputs": [
        {
          "output_type": "execute_result",
          "data": {
            "text/html": [
              "<div>\n",
              "<style scoped>\n",
              "    .dataframe tbody tr th:only-of-type {\n",
              "        vertical-align: middle;\n",
              "    }\n",
              "\n",
              "    .dataframe tbody tr th {\n",
              "        vertical-align: top;\n",
              "    }\n",
              "\n",
              "    .dataframe thead th {\n",
              "        text-align: right;\n",
              "    }\n",
              "</style>\n",
              "<table border=\"1\" class=\"dataframe\">\n",
              "  <thead>\n",
              "    <tr style=\"text-align: right;\">\n",
              "      <th></th>\n",
              "      <th>battery_power</th>\n",
              "      <th>blue</th>\n",
              "      <th>clock_speed</th>\n",
              "      <th>dual_sim</th>\n",
              "      <th>fc</th>\n",
              "      <th>four_g</th>\n",
              "      <th>int_memory</th>\n",
              "      <th>m_dep</th>\n",
              "      <th>mobile_wt</th>\n",
              "      <th>n_cores</th>\n",
              "      <th>pc</th>\n",
              "      <th>px_height</th>\n",
              "      <th>px_width</th>\n",
              "      <th>ram</th>\n",
              "      <th>sc_h</th>\n",
              "      <th>sc_w</th>\n",
              "      <th>talk_time</th>\n",
              "      <th>three_g</th>\n",
              "      <th>touch_screen</th>\n",
              "      <th>wifi</th>\n",
              "    </tr>\n",
              "  </thead>\n",
              "  <tbody>\n",
              "    <tr>\n",
              "      <th>0</th>\n",
              "      <td>842</td>\n",
              "      <td>0</td>\n",
              "      <td>2.2</td>\n",
              "      <td>0</td>\n",
              "      <td>1</td>\n",
              "      <td>0</td>\n",
              "      <td>7</td>\n",
              "      <td>0.6</td>\n",
              "      <td>188</td>\n",
              "      <td>2</td>\n",
              "      <td>2</td>\n",
              "      <td>20</td>\n",
              "      <td>756</td>\n",
              "      <td>2549</td>\n",
              "      <td>9</td>\n",
              "      <td>7</td>\n",
              "      <td>19</td>\n",
              "      <td>0</td>\n",
              "      <td>0</td>\n",
              "      <td>1</td>\n",
              "    </tr>\n",
              "    <tr>\n",
              "      <th>1</th>\n",
              "      <td>1021</td>\n",
              "      <td>1</td>\n",
              "      <td>0.5</td>\n",
              "      <td>1</td>\n",
              "      <td>0</td>\n",
              "      <td>1</td>\n",
              "      <td>53</td>\n",
              "      <td>0.7</td>\n",
              "      <td>136</td>\n",
              "      <td>3</td>\n",
              "      <td>6</td>\n",
              "      <td>905</td>\n",
              "      <td>1988</td>\n",
              "      <td>2631</td>\n",
              "      <td>17</td>\n",
              "      <td>3</td>\n",
              "      <td>7</td>\n",
              "      <td>1</td>\n",
              "      <td>1</td>\n",
              "      <td>0</td>\n",
              "    </tr>\n",
              "  </tbody>\n",
              "</table>\n",
              "</div>"
            ],
            "text/plain": [
              "   battery_power  blue  clock_speed  ...  three_g  touch_screen  wifi\n",
              "0            842     0          2.2  ...        0             0     1\n",
              "1           1021     1          0.5  ...        1             1     0\n",
              "\n",
              "[2 rows x 20 columns]"
            ]
          },
          "metadata": {},
          "execution_count": 87
        }
      ]
    },
    {
      "cell_type": "code",
      "metadata": {
        "id": "NXeIz05-rjZB"
      },
      "source": [
        "y = data[['price_range']]"
      ],
      "execution_count": 88,
      "outputs": []
    },
    {
      "cell_type": "code",
      "metadata": {
        "id": "IrRggqnQrnNT"
      },
      "source": [
        "from sklearn.model_selection import train_test_split\n",
        "X_train, X_test, y_train, y_test = train_test_split(X,y,stratify=y, random_state=42)"
      ],
      "execution_count": 89,
      "outputs": []
    },
    {
      "cell_type": "code",
      "metadata": {
        "id": "B1nxcFRar4lS"
      },
      "source": [
        "from sklearn.ensemble import RandomForestClassifier"
      ],
      "execution_count": 92,
      "outputs": []
    },
    {
      "cell_type": "code",
      "metadata": {
        "id": "SHkBKoWvsBVy"
      },
      "source": [
        "model = RandomForestClassifier(random_state=42)"
      ],
      "execution_count": 93,
      "outputs": []
    },
    {
      "cell_type": "code",
      "metadata": {
        "colab": {
          "base_uri": "https://localhost:8080/"
        },
        "id": "deQ30vVrsJZy",
        "outputId": "eb6be9e7-92dd-4f61-86bf-e70b0f443026"
      },
      "source": [
        "model.fit(X_train, y_train)"
      ],
      "execution_count": 94,
      "outputs": [
        {
          "output_type": "stream",
          "name": "stderr",
          "text": [
            "/usr/local/lib/python3.7/dist-packages/ipykernel_launcher.py:1: DataConversionWarning: A column-vector y was passed when a 1d array was expected. Please change the shape of y to (n_samples,), for example using ravel().\n",
            "  \"\"\"Entry point for launching an IPython kernel.\n"
          ]
        },
        {
          "output_type": "execute_result",
          "data": {
            "text/plain": [
              "RandomForestClassifier(bootstrap=True, ccp_alpha=0.0, class_weight=None,\n",
              "                       criterion='gini', max_depth=None, max_features='auto',\n",
              "                       max_leaf_nodes=None, max_samples=None,\n",
              "                       min_impurity_decrease=0.0, min_impurity_split=None,\n",
              "                       min_samples_leaf=1, min_samples_split=2,\n",
              "                       min_weight_fraction_leaf=0.0, n_estimators=100,\n",
              "                       n_jobs=None, oob_score=False, random_state=42, verbose=0,\n",
              "                       warm_start=False)"
            ]
          },
          "metadata": {},
          "execution_count": 94
        }
      ]
    },
    {
      "cell_type": "code",
      "metadata": {
        "id": "CUDaaGSqsNDy"
      },
      "source": [
        "pred_train = model.predict(X_train)\n",
        "pred_test = model.predict(X_test)"
      ],
      "execution_count": 95,
      "outputs": []
    },
    {
      "cell_type": "code",
      "metadata": {
        "colab": {
          "base_uri": "https://localhost:8080/"
        },
        "id": "tfOtrpazsSft",
        "outputId": "726fd330-365a-43ba-a3be-4ce7620d26c7"
      },
      "source": [
        "pred_train[0:5]"
      ],
      "execution_count": 99,
      "outputs": [
        {
          "output_type": "execute_result",
          "data": {
            "text/plain": [
              "array([2, 3, 1, 2, 1])"
            ]
          },
          "metadata": {},
          "execution_count": 99
        }
      ]
    },
    {
      "cell_type": "code",
      "metadata": {
        "id": "yDrYRHwPsVxC"
      },
      "source": [
        "from sklearn.metrics import accuracy_score"
      ],
      "execution_count": 104,
      "outputs": []
    },
    {
      "cell_type": "code",
      "metadata": {
        "id": "3TaxnGeWslCO"
      },
      "source": [
        "score_train = accuracy_score(y_train, pred_train)\n",
        "score_test = accuracy_score(y_test, pred_test)"
      ],
      "execution_count": 105,
      "outputs": []
    },
    {
      "cell_type": "code",
      "metadata": {
        "colab": {
          "base_uri": "https://localhost:8080/"
        },
        "id": "Zy7JGD8ptKNh",
        "outputId": "d868ca21-6ffb-4a59-fbe4-04a51617a744"
      },
      "source": [
        "print(score_train)\n",
        "print(score_test)"
      ],
      "execution_count": 107,
      "outputs": [
        {
          "output_type": "stream",
          "name": "stdout",
          "text": [
            "1.0\n",
            "0.88\n"
          ]
        }
      ]
    },
    {
      "cell_type": "code",
      "metadata": {
        "id": "GBMSEXjEtLvX"
      },
      "source": [
        "submit = pd.read_csv(test_url)"
      ],
      "execution_count": 133,
      "outputs": []
    },
    {
      "cell_type": "code",
      "metadata": {
        "colab": {
          "base_uri": "https://localhost:8080/",
          "height": 111
        },
        "id": "hZvLXBsquv2d",
        "outputId": "f5461ae9-e5a4-47f5-ac34-3d52e69d43bb"
      },
      "source": [
        "submit.head(2)"
      ],
      "execution_count": 134,
      "outputs": [
        {
          "output_type": "execute_result",
          "data": {
            "text/html": [
              "<div>\n",
              "<style scoped>\n",
              "    .dataframe tbody tr th:only-of-type {\n",
              "        vertical-align: middle;\n",
              "    }\n",
              "\n",
              "    .dataframe tbody tr th {\n",
              "        vertical-align: top;\n",
              "    }\n",
              "\n",
              "    .dataframe thead th {\n",
              "        text-align: right;\n",
              "    }\n",
              "</style>\n",
              "<table border=\"1\" class=\"dataframe\">\n",
              "  <thead>\n",
              "    <tr style=\"text-align: right;\">\n",
              "      <th></th>\n",
              "      <th>id</th>\n",
              "      <th>battery_power</th>\n",
              "      <th>blue</th>\n",
              "      <th>clock_speed</th>\n",
              "      <th>dual_sim</th>\n",
              "      <th>fc</th>\n",
              "      <th>four_g</th>\n",
              "      <th>int_memory</th>\n",
              "      <th>m_dep</th>\n",
              "      <th>mobile_wt</th>\n",
              "      <th>n_cores</th>\n",
              "      <th>pc</th>\n",
              "      <th>px_height</th>\n",
              "      <th>px_width</th>\n",
              "      <th>ram</th>\n",
              "      <th>sc_h</th>\n",
              "      <th>sc_w</th>\n",
              "      <th>talk_time</th>\n",
              "      <th>three_g</th>\n",
              "      <th>touch_screen</th>\n",
              "      <th>wifi</th>\n",
              "    </tr>\n",
              "  </thead>\n",
              "  <tbody>\n",
              "    <tr>\n",
              "      <th>0</th>\n",
              "      <td>1</td>\n",
              "      <td>1043</td>\n",
              "      <td>1</td>\n",
              "      <td>1.8</td>\n",
              "      <td>1</td>\n",
              "      <td>14</td>\n",
              "      <td>0</td>\n",
              "      <td>5</td>\n",
              "      <td>0.1</td>\n",
              "      <td>193</td>\n",
              "      <td>3</td>\n",
              "      <td>16</td>\n",
              "      <td>226</td>\n",
              "      <td>1412</td>\n",
              "      <td>3476</td>\n",
              "      <td>12</td>\n",
              "      <td>7</td>\n",
              "      <td>2</td>\n",
              "      <td>0</td>\n",
              "      <td>1</td>\n",
              "      <td>0</td>\n",
              "    </tr>\n",
              "    <tr>\n",
              "      <th>1</th>\n",
              "      <td>2</td>\n",
              "      <td>841</td>\n",
              "      <td>1</td>\n",
              "      <td>0.5</td>\n",
              "      <td>1</td>\n",
              "      <td>4</td>\n",
              "      <td>1</td>\n",
              "      <td>61</td>\n",
              "      <td>0.8</td>\n",
              "      <td>191</td>\n",
              "      <td>5</td>\n",
              "      <td>12</td>\n",
              "      <td>746</td>\n",
              "      <td>857</td>\n",
              "      <td>3895</td>\n",
              "      <td>6</td>\n",
              "      <td>0</td>\n",
              "      <td>7</td>\n",
              "      <td>1</td>\n",
              "      <td>0</td>\n",
              "      <td>0</td>\n",
              "    </tr>\n",
              "  </tbody>\n",
              "</table>\n",
              "</div>"
            ],
            "text/plain": [
              "   id  battery_power  blue  clock_speed  ...  talk_time  three_g  touch_screen  wifi\n",
              "0   1           1043     1          1.8  ...          2        0             1     0\n",
              "1   2            841     1          0.5  ...          7        1             0     0\n",
              "\n",
              "[2 rows x 21 columns]"
            ]
          },
          "metadata": {},
          "execution_count": 134
        }
      ]
    },
    {
      "cell_type": "code",
      "metadata": {
        "id": "L23Uv_UWt7s8"
      },
      "source": [
        "submit_predict = submit.drop('id', axis=1)"
      ],
      "execution_count": 135,
      "outputs": []
    },
    {
      "cell_type": "code",
      "metadata": {
        "colab": {
          "base_uri": "https://localhost:8080/",
          "height": 111
        },
        "id": "L-_9ubb_t2D5",
        "outputId": "01213f45-5a58-4f7e-f8f2-774e58fca8e1"
      },
      "source": [
        "submit_predict.head(2)"
      ],
      "execution_count": 136,
      "outputs": [
        {
          "output_type": "execute_result",
          "data": {
            "text/html": [
              "<div>\n",
              "<style scoped>\n",
              "    .dataframe tbody tr th:only-of-type {\n",
              "        vertical-align: middle;\n",
              "    }\n",
              "\n",
              "    .dataframe tbody tr th {\n",
              "        vertical-align: top;\n",
              "    }\n",
              "\n",
              "    .dataframe thead th {\n",
              "        text-align: right;\n",
              "    }\n",
              "</style>\n",
              "<table border=\"1\" class=\"dataframe\">\n",
              "  <thead>\n",
              "    <tr style=\"text-align: right;\">\n",
              "      <th></th>\n",
              "      <th>battery_power</th>\n",
              "      <th>blue</th>\n",
              "      <th>clock_speed</th>\n",
              "      <th>dual_sim</th>\n",
              "      <th>fc</th>\n",
              "      <th>four_g</th>\n",
              "      <th>int_memory</th>\n",
              "      <th>m_dep</th>\n",
              "      <th>mobile_wt</th>\n",
              "      <th>n_cores</th>\n",
              "      <th>pc</th>\n",
              "      <th>px_height</th>\n",
              "      <th>px_width</th>\n",
              "      <th>ram</th>\n",
              "      <th>sc_h</th>\n",
              "      <th>sc_w</th>\n",
              "      <th>talk_time</th>\n",
              "      <th>three_g</th>\n",
              "      <th>touch_screen</th>\n",
              "      <th>wifi</th>\n",
              "    </tr>\n",
              "  </thead>\n",
              "  <tbody>\n",
              "    <tr>\n",
              "      <th>0</th>\n",
              "      <td>1043</td>\n",
              "      <td>1</td>\n",
              "      <td>1.8</td>\n",
              "      <td>1</td>\n",
              "      <td>14</td>\n",
              "      <td>0</td>\n",
              "      <td>5</td>\n",
              "      <td>0.1</td>\n",
              "      <td>193</td>\n",
              "      <td>3</td>\n",
              "      <td>16</td>\n",
              "      <td>226</td>\n",
              "      <td>1412</td>\n",
              "      <td>3476</td>\n",
              "      <td>12</td>\n",
              "      <td>7</td>\n",
              "      <td>2</td>\n",
              "      <td>0</td>\n",
              "      <td>1</td>\n",
              "      <td>0</td>\n",
              "    </tr>\n",
              "    <tr>\n",
              "      <th>1</th>\n",
              "      <td>841</td>\n",
              "      <td>1</td>\n",
              "      <td>0.5</td>\n",
              "      <td>1</td>\n",
              "      <td>4</td>\n",
              "      <td>1</td>\n",
              "      <td>61</td>\n",
              "      <td>0.8</td>\n",
              "      <td>191</td>\n",
              "      <td>5</td>\n",
              "      <td>12</td>\n",
              "      <td>746</td>\n",
              "      <td>857</td>\n",
              "      <td>3895</td>\n",
              "      <td>6</td>\n",
              "      <td>0</td>\n",
              "      <td>7</td>\n",
              "      <td>1</td>\n",
              "      <td>0</td>\n",
              "      <td>0</td>\n",
              "    </tr>\n",
              "  </tbody>\n",
              "</table>\n",
              "</div>"
            ],
            "text/plain": [
              "   battery_power  blue  clock_speed  ...  three_g  touch_screen  wifi\n",
              "0           1043     1          1.8  ...        0             1     0\n",
              "1            841     1          0.5  ...        1             0     0\n",
              "\n",
              "[2 rows x 20 columns]"
            ]
          },
          "metadata": {},
          "execution_count": 136
        }
      ]
    },
    {
      "cell_type": "code",
      "metadata": {
        "id": "Y0J1hgkOtZvK"
      },
      "source": [
        "pred_submit = model.predict(submit_predict)"
      ],
      "execution_count": 137,
      "outputs": []
    },
    {
      "cell_type": "code",
      "metadata": {
        "id": "5UdMhdyFtogY"
      },
      "source": [
        "submit['price_range'] = pred_submit "
      ],
      "execution_count": 138,
      "outputs": []
    },
    {
      "cell_type": "code",
      "metadata": {
        "colab": {
          "base_uri": "https://localhost:8080/",
          "height": 111
        },
        "id": "wlvc0VAoubJc",
        "outputId": "d043c7fc-1c55-4c5e-e8e7-cfb45515892a"
      },
      "source": [
        "submit.head(2)"
      ],
      "execution_count": 139,
      "outputs": [
        {
          "output_type": "execute_result",
          "data": {
            "text/html": [
              "<div>\n",
              "<style scoped>\n",
              "    .dataframe tbody tr th:only-of-type {\n",
              "        vertical-align: middle;\n",
              "    }\n",
              "\n",
              "    .dataframe tbody tr th {\n",
              "        vertical-align: top;\n",
              "    }\n",
              "\n",
              "    .dataframe thead th {\n",
              "        text-align: right;\n",
              "    }\n",
              "</style>\n",
              "<table border=\"1\" class=\"dataframe\">\n",
              "  <thead>\n",
              "    <tr style=\"text-align: right;\">\n",
              "      <th></th>\n",
              "      <th>id</th>\n",
              "      <th>battery_power</th>\n",
              "      <th>blue</th>\n",
              "      <th>clock_speed</th>\n",
              "      <th>dual_sim</th>\n",
              "      <th>fc</th>\n",
              "      <th>four_g</th>\n",
              "      <th>int_memory</th>\n",
              "      <th>m_dep</th>\n",
              "      <th>mobile_wt</th>\n",
              "      <th>n_cores</th>\n",
              "      <th>pc</th>\n",
              "      <th>px_height</th>\n",
              "      <th>px_width</th>\n",
              "      <th>ram</th>\n",
              "      <th>sc_h</th>\n",
              "      <th>sc_w</th>\n",
              "      <th>talk_time</th>\n",
              "      <th>three_g</th>\n",
              "      <th>touch_screen</th>\n",
              "      <th>wifi</th>\n",
              "      <th>price_range</th>\n",
              "    </tr>\n",
              "  </thead>\n",
              "  <tbody>\n",
              "    <tr>\n",
              "      <th>0</th>\n",
              "      <td>1</td>\n",
              "      <td>1043</td>\n",
              "      <td>1</td>\n",
              "      <td>1.8</td>\n",
              "      <td>1</td>\n",
              "      <td>14</td>\n",
              "      <td>0</td>\n",
              "      <td>5</td>\n",
              "      <td>0.1</td>\n",
              "      <td>193</td>\n",
              "      <td>3</td>\n",
              "      <td>16</td>\n",
              "      <td>226</td>\n",
              "      <td>1412</td>\n",
              "      <td>3476</td>\n",
              "      <td>12</td>\n",
              "      <td>7</td>\n",
              "      <td>2</td>\n",
              "      <td>0</td>\n",
              "      <td>1</td>\n",
              "      <td>0</td>\n",
              "      <td>3</td>\n",
              "    </tr>\n",
              "    <tr>\n",
              "      <th>1</th>\n",
              "      <td>2</td>\n",
              "      <td>841</td>\n",
              "      <td>1</td>\n",
              "      <td>0.5</td>\n",
              "      <td>1</td>\n",
              "      <td>4</td>\n",
              "      <td>1</td>\n",
              "      <td>61</td>\n",
              "      <td>0.8</td>\n",
              "      <td>191</td>\n",
              "      <td>5</td>\n",
              "      <td>12</td>\n",
              "      <td>746</td>\n",
              "      <td>857</td>\n",
              "      <td>3895</td>\n",
              "      <td>6</td>\n",
              "      <td>0</td>\n",
              "      <td>7</td>\n",
              "      <td>1</td>\n",
              "      <td>0</td>\n",
              "      <td>0</td>\n",
              "      <td>3</td>\n",
              "    </tr>\n",
              "  </tbody>\n",
              "</table>\n",
              "</div>"
            ],
            "text/plain": [
              "   id  battery_power  blue  ...  touch_screen  wifi  price_range\n",
              "0   1           1043     1  ...             1     0            3\n",
              "1   2            841     1  ...             0     0            3\n",
              "\n",
              "[2 rows x 22 columns]"
            ]
          },
          "metadata": {},
          "execution_count": 139
        }
      ]
    },
    {
      "cell_type": "code",
      "metadata": {
        "id": "5zE4dBlguisc"
      },
      "source": [
        ""
      ],
      "execution_count": null,
      "outputs": []
    }
  ]
}